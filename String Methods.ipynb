{
 "cells": [
  {
   "cell_type": "code",
   "execution_count": null,
   "metadata": {},
   "outputs": [],
   "source": [
    "#string ==> collection of characters\n"
   ]
  },
  {
   "cell_type": "markdown",
   "metadata": {},
   "source": [
    "### Concatenation"
   ]
  },
  {
   "cell_type": "code",
   "execution_count": 4,
   "metadata": {},
   "outputs": [
    {
     "name": "stdout",
     "output_type": "stream",
     "text": [
      "computer science\n"
     ]
    }
   ],
   "source": [
    "a = \"computer\"\n",
    "b = \"science\"\n",
    "c = a + \" \" + b\n",
    "print(c)\n",
    "print(\"\")\n",
    "\n",
    "#num + num\n",
    "#str + str"
   ]
  },
  {
   "cell_type": "markdown",
   "metadata": {},
   "source": [
    "### Capitalize"
   ]
  },
  {
   "cell_type": "code",
   "execution_count": 5,
   "metadata": {},
   "outputs": [
    {
     "name": "stdout",
     "output_type": "stream",
     "text": [
      "Python\n"
     ]
    }
   ],
   "source": [
    "a = \"python\"\n",
    "b = a.capitalize()\n",
    "print(b)"
   ]
  },
  {
   "cell_type": "markdown",
   "metadata": {},
   "source": [
    "### upper and lower"
   ]
  },
  {
   "cell_type": "code",
   "execution_count": 6,
   "metadata": {},
   "outputs": [
    {
     "name": "stdout",
     "output_type": "stream",
     "text": [
      "PYTHON\n",
      "computer\n"
     ]
    }
   ],
   "source": [
    "a = \"python\"\n",
    "b = \"COMPUTER\"\n",
    "c = a.upper()\n",
    "d = b.lower()\n",
    "print(c)\n",
    "print(d)"
   ]
  },
  {
   "cell_type": "markdown",
   "metadata": {},
   "source": [
    "### count"
   ]
  },
  {
   "cell_type": "code",
   "execution_count": 8,
   "metadata": {},
   "outputs": [
    {
     "name": "stdout",
     "output_type": "stream",
     "text": [
      "2\n",
      "1\n",
      "0\n",
      "1\n",
      "1\n"
     ]
    }
   ],
   "source": [
    "a = \"pythonmm\"\n",
    "b = \"on\"\n",
    "print(a.count(\"m\"))\n",
    "print(a.count(\"o\"))\n",
    "print(a.count(\"z\"))\n",
    "print(a.count(\"on\"))\n",
    "print(a.count(b))"
   ]
  },
  {
   "cell_type": "markdown",
   "metadata": {},
   "source": [
    "### Format"
   ]
  },
  {
   "cell_type": "code",
   "execution_count": 12,
   "metadata": {},
   "outputs": [
    {
     "name": "stdout",
     "output_type": "stream",
     "text": [
      "addition of two values: 11\n",
      "addition of 5 and 6 is 11\n",
      "addition of 6 and 5 is 11\n"
     ]
    }
   ],
   "source": [
    "a = 5\n",
    "b = 6\n",
    "c = a + b\n",
    "print(\"addition of two values:\",c)\n",
    "print(\"addition of {} and {} is {}\".format(a,b,c))\n",
    "print(\"addition of {1} and {0} is {2}\".format(a,b,c))"
   ]
  },
  {
   "cell_type": "code",
   "execution_count": null,
   "metadata": {},
   "outputs": [],
   "source": [
    "#Tasks:\n",
    "\n",
    "#task2:\n",
    "\n",
    "#1/3 * pi * r2 * h volume cone\n",
    "#pi ==> static\n",
    "#r ==> get it from user (input) ==> float\n",
    "#h ===> input ===> integer\n",
    "\n",
    "#Final ==> integer\n",
    "\n",
    "#task3:\n",
    "\n",
    "#three programs\n",
    "#https://www.hackerrank.com/challenges/whats-your-name\n",
    "#https://www.hackerrank.com/challenges/python-mutations/problem"
   ]
  }
 ],
 "metadata": {
  "kernelspec": {
   "display_name": "Python 3",
   "language": "python",
   "name": "python3"
  },
  "language_info": {
   "codemirror_mode": {
    "name": "ipython",
    "version": 3
   },
   "file_extension": ".py",
   "mimetype": "text/x-python",
   "name": "python",
   "nbconvert_exporter": "python",
   "pygments_lexer": "ipython3",
   "version": "3.7.6"
  }
 },
 "nbformat": 4,
 "nbformat_minor": 4
}
