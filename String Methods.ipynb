{
 "cells": [
  {
   "cell_type": "code",
   "execution_count": null,
   "metadata": {},
   "outputs": [],
   "source": [
    "#string ==> collection of characters\n"
   ]
  },
  {
   "cell_type": "markdown",
   "metadata": {},
   "source": [
    "### Concatenation"
   ]
  },
  {
   "cell_type": "code",
   "execution_count": 4,
   "metadata": {},
   "outputs": [
    {
     "name": "stdout",
     "output_type": "stream",
     "text": [
      "computer science\n"
     ]
    }
   ],
   "source": [
    "a = \"computer\"\n",
    "b = \"science\"\n",
    "c = a + \" \" + b\n",
    "print(c)\n",
    "print(\"\")\n",
    "\n",
    "#num + num\n",
    "#str + str"
   ]
  },
  {
   "cell_type": "markdown",
   "metadata": {},
   "source": [
    "### Capitalize"
   ]
  },
  {
   "cell_type": "code",
   "execution_count": 5,
   "metadata": {},
   "outputs": [
    {
     "name": "stdout",
     "output_type": "stream",
     "text": [
      "Python\n"
     ]
    }
   ],
   "source": [
    "a = \"python\"\n",
    "b = a.capitalize()\n",
    "print(b)"
   ]
  },
  {
   "cell_type": "markdown",
   "metadata": {},
   "source": [
    "### upper and lower"
   ]
  },
  {
   "cell_type": "code",
   "execution_count": 6,
   "metadata": {},
   "outputs": [
    {
     "name": "stdout",
     "output_type": "stream",
     "text": [
      "PYTHON\n",
      "computer\n"
     ]
    }
   ],
   "source": [
    "a = \"python\"\n",
    "b = \"COMPUTER\"\n",
    "c = a.upper()\n",
    "d = b.lower()\n",
    "print(c)\n",
    "print(d)"
   ]
  },
  {
   "cell_type": "markdown",
   "metadata": {},
   "source": [
    "### count"
   ]
  },
  {
   "cell_type": "code",
   "execution_count": 8,
   "metadata": {},
   "outputs": [
    {
     "name": "stdout",
     "output_type": "stream",
     "text": [
      "2\n",
      "1\n",
      "0\n",
      "1\n",
      "1\n"
     ]
    }
   ],
   "source": [
    "a = \"pythonmm\"\n",
    "b = \"on\"\n",
    "print(a.count(\"m\"))\n",
    "print(a.count(\"o\"))\n",
    "print(a.count(\"z\"))\n",
    "print(a.count(\"on\"))\n",
    "print(a.count(b))"
   ]
  },
  {
   "cell_type": "markdown",
   "metadata": {},
   "source": [
    "### Format"
   ]
  },
  {
   "cell_type": "code",
   "execution_count": 12,
   "metadata": {},
   "outputs": [
    {
     "name": "stdout",
     "output_type": "stream",
     "text": [
      "addition of two values: 11\n",
      "addition of 5 and 6 is 11\n",
      "addition of 6 and 5 is 11\n"
     ]
    }
   ],
   "source": [
    "a = 5\n",
    "b = 6\n",
    "c = a + b\n",
    "print(\"addition of two values:\",c)\n",
    "print(\"addition of {} and {} is {}\".format(a,b,c))\n",
    "print(\"addition of {1} and {0} is {2}\".format(a,b,c))"
   ]
  },
  {
   "cell_type": "code",
   "execution_count": null,
   "metadata": {},
   "outputs": [],
   "source": [
    "#Tasks:\n",
    "\n",
    "#task2:\n",
    "\n",
    "#1/3 * pi * r2 * h volume cone\n",
    "#pi ==> static\n",
    "#r ==> get it from user (input) ==> float\n",
    "#h ===> input ===> integer\n",
    "\n",
    "#Final ==> integer\n",
    "\n",
    "#task3:\n",
    "\n",
    "#three programs\n",
    "#https://www.hackerrank.com/challenges/whats-your-name\n",
    "#https://www.hackerrank.com/challenges/python-mutations/problem"
   ]
  },
  {
   "cell_type": "code",
   "execution_count": 2,
   "metadata": {},
   "outputs": [
    {
     "name": "stdout",
     "output_type": "stream",
     "text": [
      "pythonpythonpython\n",
      "javajavajava\n"
     ]
    }
   ],
   "source": [
    "#String multiplication\n",
    "\n",
    "a = \"python\"\n",
    "b = a * 3\n",
    "print(b)\n",
    "print(\"java\"*3)"
   ]
  },
  {
   "cell_type": "code",
   "execution_count": 7,
   "metadata": {},
   "outputs": [
    {
     "name": "stdout",
     "output_type": "stream",
     "text": [
      "pyffonff\n",
      "pythan\n",
      "python\n"
     ]
    }
   ],
   "source": [
    "#Replace\n",
    "\n",
    "a = \"pythonth\"\n",
    "x = a.replace(\"th\",\"ff\")\n",
    "print(x)\n",
    "\n",
    "print(\"python\".replace(\"o\",\"a\"))\n",
    "\n",
    "print(\"python\".replace(\"b\",\"a\"))"
   ]
  },
  {
   "cell_type": "code",
   "execution_count": 8,
   "metadata": {},
   "outputs": [
    {
     "name": "stdout",
     "output_type": "stream",
     "text": [
      "3\n",
      "4\n",
      "-1\n",
      "0\n"
     ]
    }
   ],
   "source": [
    "#find ==> fnding the index position (postive)\n",
    "\n",
    "a = \"pythonp\"\n",
    "\n",
    "print(a.find(\"h\"))\n",
    "print(a.find(\"o\"))\n",
    "print(a.find(\"z\"))\n",
    "print(a.find(\"p\"))\n",
    "\n"
   ]
  },
  {
   "cell_type": "code",
   "execution_count": 15,
   "metadata": {},
   "outputs": [
    {
     "name": "stdout",
     "output_type": "stream",
     "text": [
      "print\n",
      "__print__\n",
      "print__\n",
      "__print\n",
      "python\n"
     ]
    }
   ],
   "source": [
    "#strip\n",
    "\n",
    "a = \"__print__\"\n",
    "\n",
    "print(a.strip(\"_\"))\n",
    "print(a.strip(\"*\"))\n",
    "print(a.lstrip(\"_\"))\n",
    "print(a.rstrip(\"_\"))\n",
    "\n",
    "b = \" python \"\n",
    "print(b.strip())"
   ]
  },
  {
   "cell_type": "code",
   "execution_count": 18,
   "metadata": {},
   "outputs": [
    {
     "name": "stdout",
     "output_type": "stream",
     "text": [
      "t\n",
      "[1, 2, 5, 4]\n"
     ]
    }
   ],
   "source": [
    "#String assignment not possible\n",
    "\n",
    "a = \"python\"\n",
    "\n",
    "Li = [1,2,3,4]\n",
    "\n",
    "print(a[2])\n",
    "\n",
    "#a[2] = \"W\"\n",
    "\n",
    "Li[2] = 5\n",
    "print(Li)"
   ]
  },
  {
   "cell_type": "code",
   "execution_count": 19,
   "metadata": {},
   "outputs": [
    {
     "name": "stdout",
     "output_type": "stream",
     "text": [
      "pYtHOn\n"
     ]
    }
   ],
   "source": [
    "#swapcase\n",
    "\n",
    "a = \"PyThoN\"\n",
    "\n",
    "c = a.swapcase()\n",
    "print(c)\n"
   ]
  },
  {
   "cell_type": "code",
   "execution_count": 22,
   "metadata": {},
   "outputs": [
    {
     "name": "stdout",
     "output_type": "stream",
     "text": [
      "True\n",
      "False\n",
      "True\n",
      "False\n"
     ]
    }
   ],
   "source": [
    "#startswith and ends with\n",
    "\n",
    "a = \"python\"\n",
    "\n",
    "print(a.startswith(\"py\"))\n",
    "print(a.startswith(\"Py\"))\n",
    "\n",
    "print(a.endswith(\"on\"))\n",
    "print(a.endswith(\"z\"))"
   ]
  },
  {
   "cell_type": "code",
   "execution_count": 23,
   "metadata": {},
   "outputs": [
    {
     "name": "stdout",
     "output_type": "stream",
     "text": [
      "True\n",
      "False\n",
      "False\n",
      "True\n"
     ]
    }
   ],
   "source": [
    "#isupper and islower\n",
    "\n",
    "a = \"PYTHON\"\n",
    "b = \"python\"\n",
    "\n",
    "print(a.isupper())\n",
    "print(a.islower())\n",
    "print(b.isupper())\n",
    "print(b.islower())"
   ]
  },
  {
   "cell_type": "code",
   "execution_count": 11,
   "metadata": {
    "scrolled": true
   },
   "outputs": [
    {
     "name": "stdout",
     "output_type": "stream",
     "text": [
      "4\n",
      "0\n",
      "4\n",
      "0\n"
     ]
    }
   ],
   "source": [
    "#index\n",
    "\n",
    "a = \"pythonp\"\n",
    "\n",
    "print(a.index(\"o\"))\n",
    "print(a.index(\"p\"))\n",
    "#print(a.index(\"z\"))\n",
    "print(a.index(\"onp\"))\n",
    "print(a.index(\"p\"))"
   ]
  },
  {
   "cell_type": "code",
   "execution_count": 21,
   "metadata": {},
   "outputs": [
    {
     "name": "stdout",
     "output_type": "stream",
     "text": [
      "['welcome', 'to', 'python']\n",
      "welcome_to_python\n"
     ]
    }
   ],
   "source": [
    "#Join\n",
    "#input ===> List format\n",
    "#output ==> string\n",
    "\n",
    "Li = [\"welcome\", \"to\", \"python\"]\n",
    "print(Li)\n",
    "\n",
    "val = \"_\".join(Li)\n",
    "\n",
    "print(val)\n"
   ]
  },
  {
   "cell_type": "code",
   "execution_count": 22,
   "metadata": {},
   "outputs": [
    {
     "name": "stdout",
     "output_type": "stream",
     "text": [
      "['welcome', 'to', 'python']\n",
      "['w', 'lcom', ' to python']\n"
     ]
    }
   ],
   "source": [
    "#split\n",
    "\n",
    "a = \"welcome to python\"\n",
    "\n",
    "val = a.split() #default space\n",
    "\n",
    "print(val)\n",
    "\n",
    "val = a.split(\"e\")\n",
    "\n",
    "print(val)\n",
    "\n",
    "#Input ==> string\n",
    "#Output ===> List\n",
    "\n",
    "#[] ===> indexing, List datastructure"
   ]
  },
  {
   "cell_type": "code",
   "execution_count": 20,
   "metadata": {},
   "outputs": [
    {
     "name": "stdout",
     "output_type": "stream",
     "text": [
      "False\n",
      "True\n",
      "True\n"
     ]
    }
   ],
   "source": [
    "#isdigit\n",
    "\n",
    "a = 9\n",
    "b = \"python\"\n",
    "\n",
    "#isdigit\n",
    "print(b.isdigit())\n",
    "\n",
    "#isalpaha\n",
    "print(b.isalpha())\n",
    "\n",
    "\n",
    "#isalnum\n",
    "print(b.isalnum())\n",
    "\n",
    "\n"
   ]
  },
  {
   "cell_type": "code",
   "execution_count": null,
   "metadata": {},
   "outputs": [],
   "source": [
    "#references:\n",
    "\n",
    "#https://docs.python.org/2.5/lib/string-methods.html\n",
    "#https://www.w3schools.com/python/python_ref_string.asp"
   ]
  },
  {
   "cell_type": "code",
   "execution_count": null,
   "metadata": {},
   "outputs": [],
   "source": [
    "#Tasks\n",
    "\n",
    "#swapcase\n",
    "#Find a string ===> logic"
   ]
  }
 ],
 "metadata": {
  "kernelspec": {
   "display_name": "Python 3",
   "language": "python",
   "name": "python3"
  },
  "language_info": {
   "codemirror_mode": {
    "name": "ipython",
    "version": 3
   },
   "file_extension": ".py",
   "mimetype": "text/x-python",
   "name": "python",
   "nbconvert_exporter": "python",
   "pygments_lexer": "ipython3",
   "version": "3.7.6"
  }
 },
 "nbformat": 4,
 "nbformat_minor": 4
}
