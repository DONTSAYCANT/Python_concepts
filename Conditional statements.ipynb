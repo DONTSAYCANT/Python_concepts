{
 "cells": [
  {
   "cell_type": "code",
   "execution_count": 1,
   "metadata": {},
   "outputs": [],
   "source": [
    "#keywords: if elif else\n",
    "\n",
    "#USE: direction to the program"
   ]
  },
  {
   "cell_type": "code",
   "execution_count": 7,
   "metadata": {},
   "outputs": [
    {
     "name": "stdout",
     "output_type": "stream",
     "text": [
      "False\n",
      "True\n",
      "True\n",
      "True\n",
      "True\n",
      "True\n",
      "True\n",
      "True\n"
     ]
    }
   ],
   "source": [
    "#assignment operator\n",
    "a = 7\n",
    "\n",
    "#comparision operators\n",
    "print(a > 8)\n",
    "print(a < 8)\n",
    "print(a <= 8)\n",
    "print(a >= 7)\n",
    "print(a == 7)\n",
    "print(a != 8)\n",
    "\n",
    "#output ==> boolean\n",
    "# = ===> assignment aperator\n",
    "# == ===> comparision operator\n",
    "\n",
    "#and or\n",
    "\n",
    "#logical operators\n",
    "\n",
    "print(a > 5 and a < 9)\n",
    "print(a > 5 or a < 9)\n"
   ]
  },
  {
   "cell_type": "code",
   "execution_count": null,
   "metadata": {},
   "outputs": [],
   "source": [
    "#Indentation ===> block\n",
    "\n",
    "'''\n",
    "function func1{\n",
    "    int a = 7;\n",
    "    b = a * 2;\n",
    "    return b;\n",
    "}\n",
    "\n",
    "#four spaces or tab\n",
    "\n",
    "def func1:\n",
    "    a = 7\n",
    "    b = a *2\n",
    "    return b\n",
    "'''\n"
   ]
  },
  {
   "cell_type": "code",
   "execution_count": null,
   "metadata": {},
   "outputs": [],
   "source": [
    "a = 12\n",
    "if a > 10:\n",
    "    print(\"hello\")\n",
    "    print(\"world\")\n",
    "print(\"science\")\n",
    "    \n",
    "#: ==> starting point of block\n",
    "#end point whenever we are not giving four spaces"
   ]
  },
  {
   "cell_type": "code",
   "execution_count": 8,
   "metadata": {},
   "outputs": [
    {
     "name": "stdout",
     "output_type": "stream",
     "text": [
      "hello\n",
      "world\n",
      "science\n"
     ]
    }
   ],
   "source": [
    "a = 12\n",
    "if a > 10:\n",
    " print(\"hello\")\n",
    " print(\"world\")\n",
    "print(\"science\")"
   ]
  },
  {
   "cell_type": "code",
   "execution_count": 10,
   "metadata": {},
   "outputs": [
    {
     "name": "stdout",
     "output_type": "stream",
     "text": [
      "hello\n",
      "world\n",
      "science\n"
     ]
    }
   ],
   "source": [
    "a = 12\n",
    "if a > 10:\n",
    "    print(\"hello\")\n",
    "    print(\"world\")\n",
    "print(\"science\")"
   ]
  },
  {
   "cell_type": "code",
   "execution_count": null,
   "metadata": {},
   "outputs": [],
   "source": [
    "#conditional statements\n",
    "\n",
    "#if\n",
    "#if else\n",
    "#if elif else\n",
    "#if elif elif .... n time\n",
    "#if elif elif else"
   ]
  },
  {
   "cell_type": "code",
   "execution_count": 14,
   "metadata": {},
   "outputs": [
    {
     "name": "stdout",
     "output_type": "stream",
     "text": [
      "False\n",
      "success\n",
      "if\n",
      "condition\n",
      "main\n"
     ]
    }
   ],
   "source": [
    "#if\n",
    "\n",
    "a = \"python\"\n",
    "\n",
    "print(a == \"py\")\n",
    "\n",
    "if a == \"python\":\n",
    "    print(\"success\")\n",
    "    print(\"if\")\n",
    "    print(\"condition\")\n",
    "print(\"main\")"
   ]
  },
  {
   "cell_type": "code",
   "execution_count": 16,
   "metadata": {},
   "outputs": [
    {
     "name": "stdout",
     "output_type": "stream",
     "text": [
      "main pgm\n"
     ]
    }
   ],
   "source": [
    "a = 3\n",
    "\n",
    "if a > 5:\n",
    "    print(\"value is greater than five\")\n",
    "    \n",
    "print(\"main pgm\")\n",
    "\n"
   ]
  },
  {
   "cell_type": "code",
   "execution_count": 17,
   "metadata": {},
   "outputs": [
    {
     "name": "stdout",
     "output_type": "stream",
     "text": [
      "success\n",
      "main\n"
     ]
    }
   ],
   "source": [
    "a = 10\n",
    "b = 10.0\n",
    "\n",
    "if a == b:\n",
    "    print(\"success\")\n",
    "    \n",
    "print(\"main\")"
   ]
  },
  {
   "cell_type": "code",
   "execution_count": 20,
   "metadata": {},
   "outputs": [
    {
     "name": "stdout",
     "output_type": "stream",
     "text": [
      "less than five\n",
      "main\n"
     ]
    }
   ],
   "source": [
    "#if ... else\n",
    "\n",
    "a = 0\n",
    "\n",
    "if a > 5:\n",
    "    print(\"greater than five\")\n",
    "else:\n",
    "    print(\"less than five\")\n",
    "    \n",
    "print(\"main\")"
   ]
  },
  {
   "cell_type": "code",
   "execution_count": 25,
   "metadata": {},
   "outputs": [
    {
     "name": "stdout",
     "output_type": "stream",
     "text": [
      "even number\n",
      "EOP\n"
     ]
    }
   ],
   "source": [
    "#Check whether an number is odd or even\n",
    "\n",
    "a = 12\n",
    "\n",
    "b = a % 2\n",
    "\n",
    "if b == 1:\n",
    "    print(\"odd number\")\n",
    "else:\n",
    "    print(\"even number\")\n",
    "    \n",
    "print(\"EOP\")"
   ]
  },
  {
   "cell_type": "code",
   "execution_count": 27,
   "metadata": {},
   "outputs": [
    {
     "name": "stdout",
     "output_type": "stream",
     "text": [
      "even number\n",
      "EOP\n"
     ]
    }
   ],
   "source": [
    "a = 12\n",
    "\n",
    "b = a % 2\n",
    "\n",
    "if b == 1:\n",
    "    print(\"odd number\")\n",
    "#elif or else should be followed by if\n",
    "#print(\"mistake 1\")\n",
    "else:\n",
    "    print(\"even number\")\n",
    "    \n",
    "print(\"EOP\")"
   ]
  },
  {
   "cell_type": "code",
   "execution_count": 29,
   "metadata": {},
   "outputs": [
    {
     "name": "stdout",
     "output_type": "stream",
     "text": [
      "main\n"
     ]
    }
   ],
   "source": [
    "#elif\n",
    "#if elif elif ....\n",
    "\n",
    "a = 9\n",
    "\n",
    "if a > 9:\n",
    "    print(\"greater than nine\")\n",
    "elif a < 9:\n",
    "    print(\"less than nine\")\n",
    "elif a == 10:\n",
    "    print(\"equal to nine\")\n",
    "print(\"main\")\n",
    "    \n",
    "#elif can n times\n",
    "#if else ===> one time\n",
    "\n"
   ]
  },
  {
   "cell_type": "code",
   "execution_count": 30,
   "metadata": {},
   "outputs": [
    {
     "name": "stdout",
     "output_type": "stream",
     "text": [
      "greater than nine\n"
     ]
    }
   ],
   "source": [
    "a = 8\n",
    "\n",
    "if a > 5:\n",
    "    print(\"greater than nine\")\n",
    "elif a < 9:\n",
    "    print(\"less than nine\")\n",
    "elif a == 8:\n",
    "    print(\"equal to nine\")"
   ]
  },
  {
   "cell_type": "code",
   "execution_count": 32,
   "metadata": {},
   "outputs": [
    {
     "name": "stdout",
     "output_type": "stream",
     "text": [
      "NOTA\n",
      "main\n"
     ]
    }
   ],
   "source": [
    "a = 8\n",
    "\n",
    "if a < 5:\n",
    "    print(\"greater than nine\")\n",
    "elif a < 7:\n",
    "    print(\"less than nine\")\n",
    "elif a == 18:\n",
    "    print(\"equal to nine\")\n",
    "else:\n",
    "    print(\"NOTA\")\n",
    "print(\"main\")\n",
    "\n",
    "#else ===> without any boolean condition"
   ]
  },
  {
   "cell_type": "code",
   "execution_count": null,
   "metadata": {},
   "outputs": [],
   "source": [
    "#if\n",
    "#if else\n",
    "#if elif elif elif\n",
    "#if elif elif elif else"
   ]
  },
  {
   "cell_type": "markdown",
   "metadata": {},
   "source": [
    "## in keyword"
   ]
  },
  {
   "cell_type": "code",
   "execution_count": 1,
   "metadata": {},
   "outputs": [
    {
     "name": "stdout",
     "output_type": "stream",
     "text": [
      "substring is available\n"
     ]
    }
   ],
   "source": [
    "a = \"python\"\n",
    "\n",
    "if \"py\" in a:\n",
    "    print(\"substring is available\")\n",
    "else:\n",
    "    print(\"substring is not available\")"
   ]
  },
  {
   "cell_type": "code",
   "execution_count": 8,
   "metadata": {},
   "outputs": [
    {
     "name": "stdout",
     "output_type": "stream",
     "text": [
      "substring is available\n"
     ]
    }
   ],
   "source": [
    "b = [\"a\", \"aa\", \"aaaa\"]\n",
    "\n",
    "dict1 = {1:\"a\", 2:\"aa\", 3:\"aaa\"}\n",
    "\n",
    "if \"a\" in b:\n",
    "    print(\"substring is available\")\n",
    "else:\n",
    "    print(\"substring is not available\")"
   ]
  },
  {
   "cell_type": "code",
   "execution_count": null,
   "metadata": {},
   "outputs": [],
   "source": []
  }
 ],
 "metadata": {
  "kernelspec": {
   "display_name": "Python 3",
   "language": "python",
   "name": "python3"
  },
  "language_info": {
   "codemirror_mode": {
    "name": "ipython",
    "version": 3
   },
   "file_extension": ".py",
   "mimetype": "text/x-python",
   "name": "python",
   "nbconvert_exporter": "python",
   "pygments_lexer": "ipython3",
   "version": "3.7.6"
  }
 },
 "nbformat": 4,
 "nbformat_minor": 4
}
