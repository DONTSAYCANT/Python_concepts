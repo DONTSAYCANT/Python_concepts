{
 "cells": [
  {
   "cell_type": "code",
   "execution_count": null,
   "metadata": {},
   "outputs": [],
   "source": [
    "#keywords: for, while, else, in\n",
    "\n",
    "#Looping statement: For executing some part or block of program multiple times"
   ]
  },
  {
   "cell_type": "markdown",
   "metadata": {},
   "source": [
    "### For loop with range"
   ]
  },
  {
   "cell_type": "code",
   "execution_count": 7,
   "metadata": {},
   "outputs": [
    {
     "name": "stdout",
     "output_type": "stream",
     "text": [
      "[0, 1, 2, 3, 4]\n",
      "[5, 6, 7, 8, 9]\n",
      "[15, 14, 13, 12, 11]\n",
      "[5, 8]\n",
      "range(0, 5)\n"
     ]
    }
   ],
   "source": [
    "print(list(range(5)))\n",
    "\n",
    "print(list(range(5,10)))\n",
    "\n",
    "print(list(range(15,10,-1)))\n",
    "\n",
    "print(list(range(5,10,3)))\n",
    "\n",
    "print(range(5))"
   ]
  },
  {
   "cell_type": "code",
   "execution_count": 1,
   "metadata": {},
   "outputs": [
    {
     "name": "stdout",
     "output_type": "stream",
     "text": [
      "0\n",
      "1\n",
      "2\n",
      "3\n",
      "4\n"
     ]
    }
   ],
   "source": [
    "for i in range(5):\n",
    "    print(i)"
   ]
  },
  {
   "cell_type": "code",
   "execution_count": 8,
   "metadata": {},
   "outputs": [
    {
     "name": "stdout",
     "output_type": "stream",
     "text": [
      "3\n",
      "4\n"
     ]
    }
   ],
   "source": [
    "for i in range(3,5):\n",
    "    print(i)"
   ]
  },
  {
   "cell_type": "markdown",
   "metadata": {},
   "source": [
    "### For loop with string"
   ]
  },
  {
   "cell_type": "code",
   "execution_count": 9,
   "metadata": {},
   "outputs": [
    {
     "name": "stdout",
     "output_type": "stream",
     "text": [
      "m\n",
      "a\n",
      "t\n",
      "h\n",
      "e\n",
      "m\n",
      "a\n",
      "t\n",
      "i\n",
      "c\n",
      "s\n"
     ]
    }
   ],
   "source": [
    "for val in \"mathematics\":\n",
    "    print(val)"
   ]
  },
  {
   "cell_type": "markdown",
   "metadata": {},
   "source": [
    "### For loop with datastructure"
   ]
  },
  {
   "cell_type": "code",
   "execution_count": 17,
   "metadata": {},
   "outputs": [
    {
     "name": "stdout",
     "output_type": "stream",
     "text": [
      "python\n",
      "perl\n",
      "php\n",
      "groovy\n"
     ]
    }
   ],
   "source": [
    "List1 = [\"python\",\"perl\",\"php\",\"groovy\"]\n",
    "\n",
    "for i in List1:\n",
    "    print(i)"
   ]
  },
  {
   "cell_type": "code",
   "execution_count": 18,
   "metadata": {},
   "outputs": [
    {
     "name": "stdout",
     "output_type": "stream",
     "text": [
      "python\n",
      "perl\n",
      "php\n",
      "groovy\n"
     ]
    }
   ],
   "source": [
    "tuple1 = (\"python\",\"perl\",\"php\",\"groovy\")\n",
    "\n",
    "for i in tuple1:\n",
    "    print(i)"
   ]
  },
  {
   "cell_type": "code",
   "execution_count": 19,
   "metadata": {},
   "outputs": [
    {
     "name": "stdout",
     "output_type": "stream",
     "text": [
      "perl\n",
      "php\n",
      "python\n",
      "groovy\n"
     ]
    }
   ],
   "source": [
    "set1 = {\"python\",\"perl\",\"php\",\"groovy\"}\n",
    "\n",
    "for i in set1:\n",
    "    print(i)"
   ]
  },
  {
   "cell_type": "code",
   "execution_count": 22,
   "metadata": {},
   "outputs": [
    {
     "name": "stdout",
     "output_type": "stream",
     "text": [
      "1\n",
      "2\n",
      "3\n",
      "4\n",
      "1\n",
      "2\n",
      "3\n",
      "4\n",
      "python\n",
      "perl\n",
      "php\n",
      "groovy\n"
     ]
    }
   ],
   "source": [
    "dict1 = {1:\"python\",2:\"perl\",3:\"php\",4:\"groovy\"}\n",
    "\n",
    "#default key\n",
    "for i in dict1:\n",
    "    print(i)\n",
    "    \n",
    "for i in dict1.keys():\n",
    "    print(i)\n",
    "    \n",
    "for i in dict1.values():\n",
    "    print(i)"
   ]
  },
  {
   "cell_type": "code",
   "execution_count": null,
   "metadata": {},
   "outputs": [],
   "source": [
    "#while \n",
    "#for loop with if and else\n",
    "#continue break pass\n",
    "#for with else\n",
    "#while else\n",
    "#Infinite loop ===> while\n"
   ]
  },
  {
   "cell_type": "markdown",
   "metadata": {},
   "source": [
    "### for loop with if and else"
   ]
  },
  {
   "cell_type": "code",
   "execution_count": 4,
   "metadata": {},
   "outputs": [
    {
     "name": "stdout",
     "output_type": "stream",
     "text": [
      "even elements are  [2, 4, 10, 12, 24]\n",
      "odd elements are  [3, 5, 7, 9, 33, 99]\n"
     ]
    }
   ],
   "source": [
    "#create two list .... one list with odd number and another with even number\n",
    "\n",
    "Li = [2,3,4,5,7,9,10,33,99,12,24]\n",
    "\n",
    "even = []\n",
    "odd = []\n",
    "\n",
    "for i in Li:\n",
    "    if i % 2 == 0:\n",
    "        even.append(i)\n",
    "    else:\n",
    "        odd.append(i)\n",
    "    \n",
    "print(\"even elements are \", even)\n",
    "print(\"odd elements are \", odd)\n",
    "\n",
    "\n",
    "#for i in range(len(Li)):\n",
    "#    print(Li[i])\n"
   ]
  },
  {
   "cell_type": "code",
   "execution_count": 6,
   "metadata": {},
   "outputs": [
    {
     "name": "stdout",
     "output_type": "stream",
     "text": [
      "enter number of ele in list10\n",
      "enter element number0:34\n",
      "enter element number1:56\n",
      "enter element number2:77\n",
      "enter element number3:89\n",
      "enter element number4:9\n",
      "enter element number5:2\n",
      "enter element number6:3\n",
      "enter element number7:4\n",
      "enter element number8:67\n",
      "enter element number9:87\n",
      "the list is  [34, 56, 77, 89, 9, 2, 3, 4, 67, 87]\n"
     ]
    }
   ],
   "source": [
    "#How to get dynamic list from user\n",
    "\n",
    "n = int(input(\"enter number of ele in list\"))\n",
    "Li = []\n",
    "\n",
    "for i in range(n):\n",
    "    val = int(input(\"enter element number{}:\".format(i)))\n",
    "    Li.append(val)\n",
    "    \n",
    "print(\"the list is \", Li)\n",
    "    \n",
    "    "
   ]
  },
  {
   "cell_type": "code",
   "execution_count": null,
   "metadata": {},
   "outputs": [],
   "source": []
  }
 ],
 "metadata": {
  "kernelspec": {
   "display_name": "Python 3",
   "language": "python",
   "name": "python3"
  },
  "language_info": {
   "codemirror_mode": {
    "name": "ipython",
    "version": 3
   },
   "file_extension": ".py",
   "mimetype": "text/x-python",
   "name": "python",
   "nbconvert_exporter": "python",
   "pygments_lexer": "ipython3",
   "version": "3.7.6"
  }
 },
 "nbformat": 4,
 "nbformat_minor": 4
}
