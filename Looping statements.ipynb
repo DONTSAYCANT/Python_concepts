{
 "cells": [
  {
   "cell_type": "code",
   "execution_count": null,
   "metadata": {},
   "outputs": [],
   "source": [
    "#keywords: for, while, else, in\n",
    "\n",
    "#Looping statement: For executing some part or block of program multiple times"
   ]
  },
  {
   "cell_type": "markdown",
   "metadata": {},
   "source": [
    "### For loop with range"
   ]
  },
  {
   "cell_type": "code",
   "execution_count": 7,
   "metadata": {},
   "outputs": [
    {
     "name": "stdout",
     "output_type": "stream",
     "text": [
      "[0, 1, 2, 3, 4]\n",
      "[5, 6, 7, 8, 9]\n",
      "[15, 14, 13, 12, 11]\n",
      "[5, 8]\n",
      "range(0, 5)\n"
     ]
    }
   ],
   "source": [
    "print(list(range(5)))\n",
    "\n",
    "print(list(range(5,10)))\n",
    "\n",
    "print(list(range(15,10,-1)))\n",
    "\n",
    "print(list(range(5,10,3)))\n",
    "\n",
    "print(range(5))"
   ]
  },
  {
   "cell_type": "code",
   "execution_count": 1,
   "metadata": {},
   "outputs": [
    {
     "name": "stdout",
     "output_type": "stream",
     "text": [
      "0\n",
      "1\n",
      "2\n",
      "3\n",
      "4\n"
     ]
    }
   ],
   "source": [
    "for i in range(5):\n",
    "    print(i)"
   ]
  },
  {
   "cell_type": "code",
   "execution_count": 8,
   "metadata": {},
   "outputs": [
    {
     "name": "stdout",
     "output_type": "stream",
     "text": [
      "3\n",
      "4\n"
     ]
    }
   ],
   "source": [
    "for i in range(3,5):\n",
    "    print(i)"
   ]
  },
  {
   "cell_type": "markdown",
   "metadata": {},
   "source": [
    "### For loop with string"
   ]
  },
  {
   "cell_type": "code",
   "execution_count": 9,
   "metadata": {},
   "outputs": [
    {
     "name": "stdout",
     "output_type": "stream",
     "text": [
      "m\n",
      "a\n",
      "t\n",
      "h\n",
      "e\n",
      "m\n",
      "a\n",
      "t\n",
      "i\n",
      "c\n",
      "s\n"
     ]
    }
   ],
   "source": [
    "for val in \"mathematics\":\n",
    "    print(val)"
   ]
  },
  {
   "cell_type": "markdown",
   "metadata": {},
   "source": [
    "### For loop with datastructure"
   ]
  },
  {
   "cell_type": "code",
   "execution_count": 17,
   "metadata": {},
   "outputs": [
    {
     "name": "stdout",
     "output_type": "stream",
     "text": [
      "python\n",
      "perl\n",
      "php\n",
      "groovy\n"
     ]
    }
   ],
   "source": [
    "List1 = [\"python\",\"perl\",\"php\",\"groovy\"]\n",
    "\n",
    "for i in List1:\n",
    "    print(i)"
   ]
  },
  {
   "cell_type": "code",
   "execution_count": 18,
   "metadata": {},
   "outputs": [
    {
     "name": "stdout",
     "output_type": "stream",
     "text": [
      "python\n",
      "perl\n",
      "php\n",
      "groovy\n"
     ]
    }
   ],
   "source": [
    "tuple1 = (\"python\",\"perl\",\"php\",\"groovy\")\n",
    "\n",
    "for i in tuple1:\n",
    "    print(i)"
   ]
  },
  {
   "cell_type": "code",
   "execution_count": 19,
   "metadata": {},
   "outputs": [
    {
     "name": "stdout",
     "output_type": "stream",
     "text": [
      "perl\n",
      "php\n",
      "python\n",
      "groovy\n"
     ]
    }
   ],
   "source": [
    "set1 = {\"python\",\"perl\",\"php\",\"groovy\"}\n",
    "\n",
    "for i in set1:\n",
    "    print(i)"
   ]
  },
  {
   "cell_type": "code",
   "execution_count": 22,
   "metadata": {},
   "outputs": [
    {
     "name": "stdout",
     "output_type": "stream",
     "text": [
      "1\n",
      "2\n",
      "3\n",
      "4\n",
      "1\n",
      "2\n",
      "3\n",
      "4\n",
      "python\n",
      "perl\n",
      "php\n",
      "groovy\n"
     ]
    }
   ],
   "source": [
    "dict1 = {1:\"python\",2:\"perl\",3:\"php\",4:\"groovy\"}\n",
    "\n",
    "#default key\n",
    "for i in dict1:\n",
    "    print(i)\n",
    "    \n",
    "for i in dict1.keys():\n",
    "    print(i)\n",
    "    \n",
    "for i in dict1.values():\n",
    "    print(i)"
   ]
  },
  {
   "cell_type": "code",
   "execution_count": null,
   "metadata": {},
   "outputs": [],
   "source": [
    "#while \n",
    "#for loop with if and else\n",
    "#continue break pass\n",
    "#for with else\n",
    "#while else\n",
    "#Infinite loop ===> while\n"
   ]
  },
  {
   "cell_type": "markdown",
   "metadata": {},
   "source": [
    "### for loop with if and else"
   ]
  },
  {
   "cell_type": "code",
   "execution_count": 4,
   "metadata": {},
   "outputs": [
    {
     "name": "stdout",
     "output_type": "stream",
     "text": [
      "even elements are  [2, 4, 10, 12, 24]\n",
      "odd elements are  [3, 5, 7, 9, 33, 99]\n"
     ]
    }
   ],
   "source": [
    "#create two list .... one list with odd number and another with even number\n",
    "\n",
    "Li = [2,3,4,5,7,9,10,33,99,12,24]\n",
    "\n",
    "even = []\n",
    "odd = []\n",
    "\n",
    "for i in Li:\n",
    "    if i % 2 == 0:\n",
    "        even.append(i)\n",
    "    else:\n",
    "        odd.append(i)\n",
    "    \n",
    "print(\"even elements are \", even)\n",
    "print(\"odd elements are \", odd)\n",
    "\n",
    "\n",
    "#for i in range(len(Li)):\n",
    "#    print(Li[i])\n"
   ]
  },
  {
   "cell_type": "code",
   "execution_count": 6,
   "metadata": {},
   "outputs": [
    {
     "name": "stdout",
     "output_type": "stream",
     "text": [
      "enter number of ele in list10\n",
      "enter element number0:34\n",
      "enter element number1:56\n",
      "enter element number2:77\n",
      "enter element number3:89\n",
      "enter element number4:9\n",
      "enter element number5:2\n",
      "enter element number6:3\n",
      "enter element number7:4\n",
      "enter element number8:67\n",
      "enter element number9:87\n",
      "the list is  [34, 56, 77, 89, 9, 2, 3, 4, 67, 87]\n"
     ]
    }
   ],
   "source": [
    "#How to get dynamic list from user\n",
    "\n",
    "n = int(input(\"enter number of ele in list\"))\n",
    "Li = []\n",
    "\n",
    "for i in range(n):\n",
    "    val = int(input(\"enter element number{}:\".format(i)))\n",
    "    Li.append(val)\n",
    "    \n",
    "print(\"the list is \", Li)\n",
    "    \n",
    "    "
   ]
  },
  {
   "cell_type": "markdown",
   "metadata": {},
   "source": [
    "### While loop"
   ]
  },
  {
   "cell_type": "code",
   "execution_count": 4,
   "metadata": {},
   "outputs": [
    {
     "name": "stdout",
     "output_type": "stream",
     "text": [
      "True\n",
      "10\n",
      "11\n",
      "12\n",
      "13\n",
      "14\n",
      "outside while loop\n"
     ]
    }
   ],
   "source": [
    "#while loop ===> running based on condition\n",
    "\n",
    "a = 10\n",
    "\n",
    "print(a < 15)\n",
    "while a < 15: #True\n",
    "    print(a)\n",
    "    a = a + 1\n",
    "print(\"outside while loop\")\n",
    "\n",
    "#infinite loop"
   ]
  },
  {
   "cell_type": "code",
   "execution_count": 3,
   "metadata": {},
   "outputs": [
    {
     "name": "stdout",
     "output_type": "stream",
     "text": [
      "0\n",
      "1\n",
      "2\n",
      "3\n",
      "4\n"
     ]
    }
   ],
   "source": [
    "\n",
    "a = 0\n",
    "\n",
    "while True:\n",
    "    print(a)\n",
    "    a = a+1\n",
    "    if a == 5: ## if break is not there it will lead to infinite loop\n",
    "        break\n",
    "\n"
   ]
  },
  {
   "cell_type": "code",
   "execution_count": null,
   "metadata": {},
   "outputs": [],
   "source": [
    "#while without condition\n",
    "\n",
    "a = 10\n",
    "\n",
    "if True:\n",
    "    print(a)\n",
    "    \n",
    "while True:\n",
    "    print(a)\n",
    "    break"
   ]
  },
  {
   "cell_type": "markdown",
   "metadata": {},
   "source": [
    "### While loop with if else"
   ]
  },
  {
   "cell_type": "code",
   "execution_count": 1,
   "metadata": {},
   "outputs": [
    {
     "name": "stdout",
     "output_type": "stream",
     "text": [
      "enter the first number:50\n",
      "enter the second number65\n",
      "List of even numbers: [50, 52, 54, 56, 58, 60, 62, 64]\n",
      "List of odd numbers: [51, 53, 55, 57, 59, 61, 63]\n"
     ]
    }
   ],
   "source": [
    "#output the list of odd and even numbers in separate list \n",
    "\n",
    "#10 50\n",
    "\n",
    "\n",
    "num1 = int(input(\"enter the first number:\"))\n",
    "num2 = int(input(\"enter the second number\"))\n",
    "\n",
    "even = []\n",
    "odd = []\n",
    "\n",
    "while num1 < num2:\n",
    "    if num1 % 2 == 0:\n",
    "        even.append(num1)\n",
    "    else:\n",
    "        odd.append(num1)\n",
    "    num1 = num1 + 1\n",
    "\n",
    "print(\"List of even numbers:\", even)\n",
    "print(\"List of odd numbers:\", odd)\n",
    "\n"
   ]
  },
  {
   "cell_type": "code",
   "execution_count": 5,
   "metadata": {},
   "outputs": [
    {
     "name": "stdout",
     "output_type": "stream",
     "text": [
      "enter the first number:5\n",
      "enter the second number30\n",
      "multiples of three  [6, 9, 12, 18]\n",
      "multiples of five  [5, 10, 15]\n"
     ]
    }
   ],
   "source": [
    "### Break continue pass\n",
    "\n",
    "#we can use these three words inside loop\n",
    "\n",
    "## break\n",
    "\n",
    "num1 = int(input(\"enter the first number:\"))\n",
    "num2 = int(input(\"enter the second number\"))\n",
    "\n",
    "five = []\n",
    "three = []\n",
    "\n",
    "\n",
    "for i in range(num1,num2):\n",
    "    if i % 5 == 0:\n",
    "        five.append(i)\n",
    "    elif i % 3 == 0:\n",
    "        three.append(i)\n",
    "    elif i == 19:\n",
    "        break\n",
    "        \n",
    "#Break the loop ==> come out of the loop completley \n",
    "\n",
    "print(\"multiples of three \", three)\n",
    "print(\"multiples of five \", five)\n",
    "\n"
   ]
  },
  {
   "cell_type": "code",
   "execution_count": 10,
   "metadata": {},
   "outputs": [
    {
     "name": "stdout",
     "output_type": "stream",
     "text": [
      "enter the first number:5\n",
      "enter the second number30\n",
      "Value printed  5\n",
      "Value printed  7\n",
      "Value printed  9\n",
      "Value printed  11\n",
      "Value printed  13\n",
      "Value printed  15\n",
      "Value printed  17\n",
      "Value printed  19\n",
      "Value printed  21\n",
      "Value printed  23\n",
      "Value printed  25\n",
      "Value printed  27\n",
      "Value printed  29\n",
      "multiples of three  [9, 15, 21, 27]\n",
      "multiples of five  [5, 25]\n"
     ]
    }
   ],
   "source": [
    "num1 = int(input(\"enter the first number:\"))\n",
    "num2 = int(input(\"enter the second number\"))\n",
    "\n",
    "five = []\n",
    "three = []\n",
    "\n",
    "\n",
    "for i in range(num1,num2):\n",
    "    if i % 2 == 0:\n",
    "        continue\n",
    "    elif i % 3 == 0:\n",
    "        three.append(i)\n",
    "    elif i % 5 == 0:\n",
    "        five.append(i)\n",
    "    print(\"Value printed \", i)\n",
    "        \n",
    "#Continue ===> skip that particular iteration \n",
    "\n",
    "print(\"multiples of three \", three)\n",
    "print(\"multiples of five \", five)"
   ]
  },
  {
   "cell_type": "code",
   "execution_count": 6,
   "metadata": {},
   "outputs": [
    {
     "name": "stdout",
     "output_type": "stream",
     "text": [
      "5\n",
      "6\n",
      "7\n",
      "8\n",
      "9\n",
      "10\n",
      "11\n",
      "12\n",
      "13\n",
      "14\n",
      "15\n",
      "16\n",
      "17\n",
      "18\n",
      "19\n",
      "20\n",
      "21\n",
      "22\n",
      "23\n",
      "24\n",
      "25\n",
      "26\n",
      "27\n",
      "28\n",
      "29\n"
     ]
    }
   ],
   "source": [
    "\n",
    "for i in range(5,30):\n",
    "    print(i)"
   ]
  },
  {
   "cell_type": "code",
   "execution_count": 3,
   "metadata": {},
   "outputs": [
    {
     "name": "stdout",
     "output_type": "stream",
     "text": [
      "enter the first number:10\n",
      "enter the second number25\n",
      "[10, 11, 13, 14, 16, 17, 19, 20, 22, 23]\n"
     ]
    }
   ],
   "source": [
    "#If with pass\n",
    "\n",
    "num1 = int(input(\"enter the first number:\"))\n",
    "num2 = int(input(\"enter the second number\"))\n",
    "\n",
    "three = []\n",
    "\n",
    "for i in range(num1,num2):\n",
    "    if i % 3 == 0:\n",
    "        pass\n",
    "    else:\n",
    "        three.append(i)\n",
    "    \n",
    "print(three)\n",
    "\n",
    "#If you dont have anything to write, some block for future\n",
    "\n"
   ]
  },
  {
   "cell_type": "markdown",
   "metadata": {},
   "source": [
    "### For else statement"
   ]
  },
  {
   "cell_type": "code",
   "execution_count": 17,
   "metadata": {},
   "outputs": [
    {
     "name": "stdout",
     "output_type": "stream",
     "text": [
      "6\n",
      "8\n",
      "10\n"
     ]
    }
   ],
   "source": [
    "for i in range(5,15):\n",
    "    if i % 2 == 0:\n",
    "        print(i)\n",
    "    elif i == 11:\n",
    "        break\n",
    "    else:\n",
    "        pass\n",
    "else:\n",
    "    print(\"Else block for for statement\")\n",
    "    \n",
    "#prime number\n",
    "\n",
    "#If all the iterations are happening ==> else block will execute Otherwise it will not execute"
   ]
  },
  {
   "cell_type": "code",
   "execution_count": 18,
   "metadata": {},
   "outputs": [
    {
     "name": "stdout",
     "output_type": "stream",
     "text": [
      "6\n",
      "8\n",
      "10\n",
      "12\n",
      "14\n",
      "Else block for for statement\n"
     ]
    }
   ],
   "source": [
    "for i in range(5,15):\n",
    "    if i % 2 == 0:\n",
    "        print(i)\n",
    "    elif i == 11:\n",
    "        continue\n",
    "    else:\n",
    "        pass\n",
    "else:\n",
    "    print(\"Else block for for statement\")"
   ]
  },
  {
   "cell_type": "code",
   "execution_count": 19,
   "metadata": {},
   "outputs": [
    {
     "name": "stdout",
     "output_type": "stream",
     "text": [
      "6\n",
      "8\n",
      "10\n",
      "12\n",
      "14\n",
      "Else block for for statement\n"
     ]
    }
   ],
   "source": [
    "for i in range(5,15):\n",
    "    if i % 2 == 0:\n",
    "        print(i)\n",
    "    elif i == 11:\n",
    "        pass\n",
    "    else:\n",
    "        pass\n",
    "else:\n",
    "    print(\"Else block for for statement\")"
   ]
  },
  {
   "cell_type": "code",
   "execution_count": 20,
   "metadata": {},
   "outputs": [
    {
     "name": "stdout",
     "output_type": "stream",
     "text": [
      "6\n",
      "8\n",
      "10\n",
      "12\n",
      "14\n",
      "Else block for for statement\n"
     ]
    }
   ],
   "source": [
    "for i in range(5,15):\n",
    "    if i % 2 == 0:\n",
    "        print(i)\n",
    "    elif i == 21:\n",
    "        pass\n",
    "else:\n",
    "    print(\"Else block for for statement\")"
   ]
  },
  {
   "cell_type": "code",
   "execution_count": 1,
   "metadata": {},
   "outputs": [
    {
     "name": "stdout",
     "output_type": "stream",
     "text": [
      "enter no of values5\n",
      "python\n",
      "perl\n",
      "php\n",
      "groovy\n",
      "go\n",
      " python perl php groovy go\n"
     ]
    }
   ],
   "source": [
    "\n",
    "n = int(input(\"enter no of values\"))\n",
    "str1 = ''\n",
    "\n",
    "for i in range(n):\n",
    "    val = input()\n",
    "    str1 = str1 + ' ' +val\n",
    "    \n",
    "print(str1)\n",
    "    \n"
   ]
  },
  {
   "cell_type": "code",
   "execution_count": null,
   "metadata": {},
   "outputs": [],
   "source": [
    "[1,2,3,4,5,6,7] ===> 1\n",
    "\n",
    "[7,6,5,4,3,2,1] \n",
    "\n",
    "for ==> n\n",
    "\n",
    "Sorting\n",
    "\n",
    "n = 6\n",
    "\n",
    "[1,2,3,4,5,6,7]\n",
    "\n",
    "[5,6,7]\n",
    "\n",
    "1) sort \n",
    "\n",
    "2) middle ele\n",
    "\n",
    "3) compare with middle ele\n",
    "\n",
    "4) middle > ele left\n",
    "   else right\n",
    "    \n",
    "5) go to step 2 until getting the element to be searched\n",
    "\n"
   ]
  }
 ],
 "metadata": {
  "kernelspec": {
   "display_name": "Python 3",
   "language": "python",
   "name": "python3"
  },
  "language_info": {
   "codemirror_mode": {
    "name": "ipython",
    "version": 3
   },
   "file_extension": ".py",
   "mimetype": "text/x-python",
   "name": "python",
   "nbconvert_exporter": "python",
   "pygments_lexer": "ipython3",
   "version": "3.7.6"
  }
 },
 "nbformat": 4,
 "nbformat_minor": 4
}
