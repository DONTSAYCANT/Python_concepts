{
 "cells": [
  {
   "cell_type": "code",
   "execution_count": null,
   "metadata": {},
   "outputs": [],
   "source": [
    "#Data structure \n",
    "\n",
    "#Structuring your data\n",
    "\n",
    "#Heterogenous  ===> Multiple Datatypes in single datastrucuture \n",
    "\n",
    "#[], (), {}, {:}\n",
    "\n",
    "\n",
    "#Differnces\n",
    "\n",
    "#Braces\n",
    "#[] ===> List , () ==> Tuple , {} ==> Set, {:} ==> Dictionary\n",
    "\n",
    "#Ordering or Indexing  (Index number assignment)\n",
    "\n",
    "#List ==> Ordered  Tuple ==> Ordered   Set ===> Unordered  Dictionary ==> Unordered (index ==> key)\n",
    "\n",
    "#Mutable and Immutable  ===>  Element addition/removal/modification\n",
    "\n",
    "#Tuple ===> Immutable #others ===> Mutable\n",
    "\n",
    "#Duplicates  (Having one element more than once)\n",
    "\n",
    "#List / Tuple ==> Duplicate addition is possible   Set ===> Not possible   Dict ===> Duplicate value possible, Duplicate key Not\n",
    "\n",
    "#{1,1,1,1,2,3,3,4,8,4}\n"
   ]
  },
  {
   "cell_type": "markdown",
   "metadata": {},
   "source": [
    "## List Methods"
   ]
  },
  {
   "cell_type": "code",
   "execution_count": 2,
   "metadata": {},
   "outputs": [
    {
     "name": "stdout",
     "output_type": "stream",
     "text": [
      "[]\n",
      "<class 'list'>\n",
      "[]\n",
      "<class 'list'>\n"
     ]
    }
   ],
   "source": [
    "#List creation ==> empty list creation\n",
    "\n",
    "a = []\n",
    "\n",
    "print(a)\n",
    "print(type(a))\n",
    "\n",
    "a = list()\n",
    "\n",
    "print(a)\n",
    "print(type(a))"
   ]
  },
  {
   "cell_type": "code",
   "execution_count": 4,
   "metadata": {},
   "outputs": [
    {
     "name": "stdout",
     "output_type": "stream",
     "text": [
      "[1, 2, 3, 4]\n",
      "<class 'list'>\n",
      "[1, 2, 3, 4, 'python', True, 9.99]\n",
      "<class 'list'>\n"
     ]
    }
   ],
   "source": [
    "a = [1,2,3,4]\n",
    "\n",
    "print(a)\n",
    "print(type(a))\n",
    "\n",
    "#Hetetrogenous\n",
    "a = [1,2,3,4, \"python\", True, 9.99]\n",
    "\n",
    "print(a)\n",
    "print(type(a))"
   ]
  },
  {
   "cell_type": "code",
   "execution_count": 6,
   "metadata": {},
   "outputs": [
    {
     "name": "stdout",
     "output_type": "stream",
     "text": [
      "5\n",
      "1\n",
      "3\n",
      "[5, 4, 3, 2, 1]\n"
     ]
    }
   ],
   "source": [
    "#Ordering / Indexing  ==> possible in list\n",
    "\n",
    "a = [1,2,3,4,5]\n",
    "\n",
    "print(a[-1])\n",
    "print(a[0])\n",
    "print(a[-3])\n",
    "\n",
    "b = a[::-1]\n",
    "print(b)"
   ]
  },
  {
   "cell_type": "code",
   "execution_count": 8,
   "metadata": {},
   "outputs": [
    {
     "name": "stdout",
     "output_type": "stream",
     "text": [
      "[1, 2, 3, 4, 4, 4, 4, 1]\n",
      "{1, 2, 3, 4}\n"
     ]
    }
   ],
   "source": [
    "#Duplicates\n",
    "\n",
    "a = [1,2,3,4,4,4,4,1]\n",
    "print(a)"
   ]
  },
  {
   "cell_type": "code",
   "execution_count": 9,
   "metadata": {},
   "outputs": [],
   "source": [
    "#Mutable / Immutable"
   ]
  },
  {
   "cell_type": "code",
   "execution_count": 11,
   "metadata": {},
   "outputs": [
    {
     "name": "stdout",
     "output_type": "stream",
     "text": [
      "[1, 2, 3, 4, 5, 5, 'pytorch']\n"
     ]
    }
   ],
   "source": [
    "#append  ==> Adding element at end of list \n",
    "\n",
    "Li1 = [1,2,3,4,5]\n",
    "\n",
    "Li1.append(5)\n",
    "Li1.append(\"pytorch\")\n",
    "\n",
    "\n",
    "print(Li1)"
   ]
  },
  {
   "cell_type": "code",
   "execution_count": 12,
   "metadata": {},
   "outputs": [
    {
     "name": "stdout",
     "output_type": "stream",
     "text": [
      "[1, 2, 3, 10, 4, 5]\n"
     ]
    }
   ],
   "source": [
    "#Insert\n",
    "\n",
    "Li1 = [1,2,3,4,5]\n",
    "\n",
    "Li1.insert(3,10)  #Position,value\n",
    "\n",
    "print(Li1)"
   ]
  },
  {
   "cell_type": "code",
   "execution_count": 16,
   "metadata": {},
   "outputs": [
    {
     "name": "stdout",
     "output_type": "stream",
     "text": [
      "[2, 3, 4, 5, 4, 5, 6]\n",
      "[2, 3, 4, 5, 5, 6, 7, 8, 9]\n"
     ]
    }
   ],
   "source": [
    "#Concatenation\n",
    "\n",
    "Li1 = [2,3,4,5]\n",
    "Li2 = [5,6,7,8,9]\n",
    "\n",
    "Li3 = Li1 + Li2\n",
    "Li4 = Li1 + [4,5,6]\n",
    "print(Li4)\n",
    "print(Li3)"
   ]
  },
  {
   "cell_type": "code",
   "execution_count": 17,
   "metadata": {},
   "outputs": [
    {
     "name": "stdout",
     "output_type": "stream",
     "text": [
      "[3, 4, 10, 6]\n"
     ]
    }
   ],
   "source": [
    "#replace\n",
    "\n",
    "Li1 = [3,4,5,6]\n",
    "\n",
    "Li1[2] = 10 #String aassignment is not possible but it's possible in list\n",
    "\n",
    "print(Li1)"
   ]
  },
  {
   "cell_type": "code",
   "execution_count": 19,
   "metadata": {},
   "outputs": [
    {
     "name": "stdout",
     "output_type": "stream",
     "text": [
      "[1, 3, 4, 5]\n",
      "[1, 2, 4, 5]\n",
      "[1, 2, 3, 4]\n"
     ]
    }
   ],
   "source": [
    "#remove & pop\n",
    "\n",
    "Li1 = [1,2,3,4,5]\n",
    "\n",
    "Li1.remove(2)\n",
    "\n",
    "print(Li1)\n",
    "\n",
    "#remove ==> remove that particular element\n",
    "#pop ==> remove element at that index or position\n",
    "\n",
    "Li1 = [1,2,3,4,5]\n",
    "\n",
    "Li1.pop(2)\n",
    "\n",
    "print(Li1)\n",
    "\n",
    "Li1 = [1,2,3,4,5]\n",
    "\n",
    "Li1.pop()\n",
    "\n",
    "print(Li1)"
   ]
  },
  {
   "cell_type": "code",
   "execution_count": 21,
   "metadata": {},
   "outputs": [
    {
     "name": "stdout",
     "output_type": "stream",
     "text": [
      "4\n",
      "0\n"
     ]
    }
   ],
   "source": [
    "#count ==> frequency of the element\n",
    "\n",
    "Li1 = [1,2,3,4,5,6,12,3,4,5,1,1,1]\n",
    "\n",
    "print(Li1.count(1))\n",
    "print(Li1.count(0))"
   ]
  },
  {
   "cell_type": "code",
   "execution_count": 23,
   "metadata": {},
   "outputs": [
    {
     "name": "stdout",
     "output_type": "stream",
     "text": [
      "4\n",
      "1\n"
     ]
    },
    {
     "ename": "ValueError",
     "evalue": "0 is not in list",
     "output_type": "error",
     "traceback": [
      "\u001b[1;31m---------------------------------------------------------------------------\u001b[0m",
      "\u001b[1;31mValueError\u001b[0m                                Traceback (most recent call last)",
      "\u001b[1;32m<ipython-input-23-29a3ba109ddd>\u001b[0m in \u001b[0;36m<module>\u001b[1;34m\u001b[0m\n\u001b[0;32m      5\u001b[0m \u001b[0mprint\u001b[0m\u001b[1;33m(\u001b[0m\u001b[0mLi1\u001b[0m\u001b[1;33m.\u001b[0m\u001b[0mindex\u001b[0m\u001b[1;33m(\u001b[0m\u001b[1;36m5\u001b[0m\u001b[1;33m)\u001b[0m\u001b[1;33m)\u001b[0m\u001b[1;33m\u001b[0m\u001b[1;33m\u001b[0m\u001b[0m\n\u001b[0;32m      6\u001b[0m \u001b[0mprint\u001b[0m\u001b[1;33m(\u001b[0m\u001b[0mLi1\u001b[0m\u001b[1;33m.\u001b[0m\u001b[0mindex\u001b[0m\u001b[1;33m(\u001b[0m\u001b[1;36m2\u001b[0m\u001b[1;33m)\u001b[0m\u001b[1;33m)\u001b[0m\u001b[1;33m\u001b[0m\u001b[1;33m\u001b[0m\u001b[0m\n\u001b[1;32m----> 7\u001b[1;33m \u001b[0mprint\u001b[0m\u001b[1;33m(\u001b[0m\u001b[0mLi1\u001b[0m\u001b[1;33m.\u001b[0m\u001b[0mindex\u001b[0m\u001b[1;33m(\u001b[0m\u001b[1;36m0\u001b[0m\u001b[1;33m)\u001b[0m\u001b[1;33m)\u001b[0m\u001b[1;33m\u001b[0m\u001b[1;33m\u001b[0m\u001b[0m\n\u001b[0m\u001b[0;32m      8\u001b[0m \u001b[0mprint\u001b[0m\u001b[1;33m(\u001b[0m\u001b[0mLi1\u001b[0m\u001b[1;33m.\u001b[0m\u001b[0mindex\u001b[0m\u001b[1;33m(\u001b[0m\u001b[1;36m20\u001b[0m\u001b[1;33m)\u001b[0m\u001b[1;33m)\u001b[0m\u001b[1;33m\u001b[0m\u001b[1;33m\u001b[0m\u001b[0m\n",
      "\u001b[1;31mValueError\u001b[0m: 0 is not in list"
     ]
    }
   ],
   "source": [
    "#index ===> \n",
    "\n",
    "Li1 = [1,2,3,4,5,6,12,3,4,5,1,1,1]\n",
    "\n",
    "print(Li1.index(5))\n",
    "print(Li1.index(2))\n",
    "#print(Li1.index(0))\n",
    "#print(Li1.index(20))"
   ]
  },
  {
   "cell_type": "code",
   "execution_count": null,
   "metadata": {},
   "outputs": [],
   "source": [
    "#sort"
   ]
  },
  {
   "cell_type": "code",
   "execution_count": null,
   "metadata": {},
   "outputs": [],
   "source": [
    "#reverse"
   ]
  },
  {
   "cell_type": "code",
   "execution_count": null,
   "metadata": {},
   "outputs": [],
   "source": [
    "#copy ==> deep copy and shallow copy"
   ]
  },
  {
   "cell_type": "code",
   "execution_count": null,
   "metadata": {},
   "outputs": [],
   "source": [
    "#extend"
   ]
  },
  {
   "cell_type": "code",
   "execution_count": null,
   "metadata": {},
   "outputs": [],
   "source": [
    "#sum min max"
   ]
  }
 ],
 "metadata": {
  "kernelspec": {
   "display_name": "Python 3",
   "language": "python",
   "name": "python3"
  },
  "language_info": {
   "codemirror_mode": {
    "name": "ipython",
    "version": 3
   },
   "file_extension": ".py",
   "mimetype": "text/x-python",
   "name": "python",
   "nbconvert_exporter": "python",
   "pygments_lexer": "ipython3",
   "version": "3.7.6"
  }
 },
 "nbformat": 4,
 "nbformat_minor": 4
}
