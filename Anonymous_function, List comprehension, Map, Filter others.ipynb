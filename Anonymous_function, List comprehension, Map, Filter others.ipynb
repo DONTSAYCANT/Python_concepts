{
 "cells": [
  {
   "cell_type": "code",
   "execution_count": 1,
   "metadata": {},
   "outputs": [],
   "source": [
    "## Map Filter"
   ]
  },
  {
   "cell_type": "code",
   "execution_count": 3,
   "metadata": {},
   "outputs": [
    {
     "name": "stdout",
     "output_type": "stream",
     "text": [
      "49\n",
      "[7, 8, 9, 10, 7, 8, 9, 10]\n"
     ]
    }
   ],
   "source": [
    "a = 7\n",
    "\n",
    "b = a ** 2\n",
    "\n",
    "print(b)\n",
    "\n",
    "a = [7,8,9,10]\n",
    "\n",
    "b = a * 2\n",
    "\n",
    "print(b)"
   ]
  },
  {
   "cell_type": "code",
   "execution_count": 8,
   "metadata": {},
   "outputs": [
    {
     "name": "stdout",
     "output_type": "stream",
     "text": [
      "[7.0, 8.0, 9.0, 10.0]\n",
      "[49, 64, 81, 100]\n"
     ]
    }
   ],
   "source": [
    "#Map (#operation, #List of elements)\n",
    "\n",
    "def sqr(x):\n",
    "    return x ** 2\n",
    "\n",
    "Li1 = [7,8,9,10]\n",
    "\n",
    "#Inbuilt function\n",
    "b = list(map(float, Li1))\n",
    "\n",
    "print(b)\n",
    "\n",
    "#User defined function\n",
    "b = list(map(sqr, Li1))\n",
    "\n",
    "print(b)"
   ]
  },
  {
   "cell_type": "code",
   "execution_count": 13,
   "metadata": {},
   "outputs": [
    {
     "name": "stdout",
     "output_type": "stream",
     "text": [
      "[7, 8, 9, 10]\n",
      "[9]\n"
     ]
    }
   ],
   "source": [
    "#Filter (#operation, #List of elements)\n",
    "\n",
    "def sqr(x):\n",
    "    return x % 3 == 0\n",
    "\n",
    "Li1 = [7,8,9,10]\n",
    "\n",
    "#Inbuilt function\n",
    "b = list(filter(float, Li1))\n",
    "\n",
    "print(b)\n",
    "\n",
    "#User defined function\n",
    "b = list(filter(sqr, Li1))\n",
    "\n",
    "print(b)"
   ]
  },
  {
   "cell_type": "code",
   "execution_count": 14,
   "metadata": {},
   "outputs": [],
   "source": [
    "#Anonymous functions or lambda\n",
    "\n",
    "#lambda ==> one line function"
   ]
  },
  {
   "cell_type": "code",
   "execution_count": 15,
   "metadata": {},
   "outputs": [
    {
     "name": "stdout",
     "output_type": "stream",
     "text": [
      "64\n"
     ]
    }
   ],
   "source": [
    "def cube(x):\n",
    "    return x ** 3\n",
    "\n",
    "print(cube(4))"
   ]
  },
  {
   "cell_type": "code",
   "execution_count": 18,
   "metadata": {},
   "outputs": [
    {
     "name": "stdout",
     "output_type": "stream",
     "text": [
      "64\n"
     ]
    }
   ],
   "source": [
    "cube = lambda x:x**3\n",
    "print(cube(4))"
   ]
  },
  {
   "cell_type": "code",
   "execution_count": 19,
   "metadata": {},
   "outputs": [
    {
     "name": "stdout",
     "output_type": "stream",
     "text": [
      "[81, 256, 625, 1296, 16, 81, 256, 625]\n"
     ]
    }
   ],
   "source": [
    "#Map with lambda\n",
    "\n",
    "Li1 = [3,4,5,6,2,3,4,5]\n",
    "\n",
    "Li2 = list(map(lambda x:x**4, Li1))\n",
    "\n",
    "print(Li2)\n"
   ]
  },
  {
   "cell_type": "code",
   "execution_count": 28,
   "metadata": {},
   "outputs": [
    {
     "name": "stdout",
     "output_type": "stream",
     "text": [
      "[2, 4, 6, 2, 4]\n"
     ]
    }
   ],
   "source": [
    "#Filter with lambda\n",
    "\n",
    "Li1 = [2,4,5,6,2,3,4,5]\n",
    "\n",
    "Li2 = list(filter(lambda x:(x % 2 == 0), Li1))\n",
    "\n",
    "print(Li2)\n"
   ]
  },
  {
   "cell_type": "code",
   "execution_count": 30,
   "metadata": {},
   "outputs": [
    {
     "name": "stdout",
     "output_type": "stream",
     "text": [
      "[2, 4, 6]\n"
     ]
    }
   ],
   "source": [
    "#Filter with lambda\n",
    "\n",
    "Li1 = {2:3,4:5,6:2,3:4}\n",
    "\n",
    "Li2 = list(filter(lambda x:(x % 2 == 0), Li1))\n",
    "\n",
    "print(Li2)"
   ]
  },
  {
   "cell_type": "code",
   "execution_count": 36,
   "metadata": {},
   "outputs": [
    {
     "name": "stdout",
     "output_type": "stream",
     "text": [
      "31\n"
     ]
    }
   ],
   "source": [
    "from functools import reduce\n",
    "\n",
    "\n",
    "Li1 = [2,4,5,6,2,3,4,5]\n",
    "\n",
    "Li2 = reduce(lambda x,y: x + y, Li1)\n",
    "\n",
    "print(Li2)\n",
    "\n",
    "\n",
    "#[2,4,5,6,2,3,4,5]\n",
    "#[6,5,6,2,3,4,5]\n",
    "#[11,6,2,3,4,5]\n"
   ]
  },
  {
   "cell_type": "code",
   "execution_count": 40,
   "metadata": {},
   "outputs": [
    {
     "name": "stdout",
     "output_type": "stream",
     "text": [
      "[10, 11, 12, 13, 14]\n",
      "[10, 11, 12, 13, 14]\n",
      "[400, 441, 484, 529, 576, 625, 676, 729, 784, 841]\n"
     ]
    }
   ],
   "source": [
    "#List comprehension\n",
    "\n",
    "Li1 = []\n",
    "\n",
    "for i in range(10,15):\n",
    "    Li1.append(i)\n",
    "    \n",
    "print(Li1)\n",
    "\n",
    "\n",
    "Li2 = [i for i in range(10,15)]\n",
    "print(Li2)\n",
    "\n",
    "Li2 = [i**2 for i in range(20,30)]\n",
    "print(Li2)\n",
    "    "
   ]
  },
  {
   "cell_type": "code",
   "execution_count": 41,
   "metadata": {},
   "outputs": [
    {
     "name": "stdout",
     "output_type": "stream",
     "text": [
      "[400, 484, 576, 676, 784]\n"
     ]
    }
   ],
   "source": [
    "#List comprehension with if condition\n",
    "\n",
    "Li2 = [i**2 for i in range(20,30) if i % 2 ==0]\n",
    "print(Li2)"
   ]
  },
  {
   "cell_type": "code",
   "execution_count": 42,
   "metadata": {},
   "outputs": [
    {
     "name": "stdout",
     "output_type": "stream",
     "text": [
      "[400, 21, 484, 23, 576, 25, 676, 27, 784, 29]\n"
     ]
    }
   ],
   "source": [
    "#List comprehension with if else\n",
    "\n",
    "Li2 = [i**2 if i % 2 ==0 else i for i in range(20,30) ]\n",
    "print(Li2)"
   ]
  },
  {
   "cell_type": "code",
   "execution_count": 43,
   "metadata": {},
   "outputs": [
    {
     "name": "stdout",
     "output_type": "stream",
     "text": [
      "{576, 484, 676, 841, 400, 529, 625, 784, 729, 441}\n"
     ]
    }
   ],
   "source": [
    "Li2 = {i**2 for i in range(20,30)}\n",
    "print(Li2)"
   ]
  },
  {
   "cell_type": "code",
   "execution_count": 44,
   "metadata": {},
   "outputs": [
    {
     "name": "stdout",
     "output_type": "stream",
     "text": [
      "{20: 400, 21: 441, 22: 484, 23: 529, 24: 576, 25: 625, 26: 676, 27: 729, 28: 784, 29: 841}\n"
     ]
    }
   ],
   "source": [
    "Li2 = {i:i**2 for i in range(20,30)}\n",
    "print(Li2)"
   ]
  },
  {
   "cell_type": "code",
   "execution_count": null,
   "metadata": {},
   "outputs": [],
   "source": []
  }
 ],
 "metadata": {
  "kernelspec": {
   "display_name": "Python 3",
   "language": "python",
   "name": "python3"
  },
  "language_info": {
   "codemirror_mode": {
    "name": "ipython",
    "version": 3
   },
   "file_extension": ".py",
   "mimetype": "text/x-python",
   "name": "python",
   "nbconvert_exporter": "python",
   "pygments_lexer": "ipython3",
   "version": "3.7.6"
  }
 },
 "nbformat": 4,
 "nbformat_minor": 4
}
