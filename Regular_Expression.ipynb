{
 "cells": [
  {
   "cell_type": "markdown",
   "metadata": {},
   "source": [
    "References: https://regex101.com/\n",
    "Study: https://www.programiz.com/python-programming/regex"
   ]
  },
  {
   "cell_type": "code",
   "execution_count": null,
   "metadata": {},
   "outputs": [],
   "source": [
    "#What is regex ?\n",
    "\n",
    "#pattern recognition / Format extraction\n",
    "#extracting useful information from raw data\n",
    "#available in all languages\n",
    "\n",
    "#Examples: \n",
    "\n",
    "#job sites resume upload\n",
    "#.*@gmail.com ===> mail id\n",
    "#10 digit no \\d{10} ===> mobile number\n",
    "\n",
    "#wiki parser summary info detailed info\n",
    "#login registration page \n",
    "#Log parser \n",
    "\n",
    "#Part1\n",
    "\n",
    "#how to write regular expression ? \n",
    "#small pattern language\n",
    "\n",
    "#part2\n",
    "\n",
    "#rawstring or original string + output from part1 ===> useful pattern\n",
    "\n"
   ]
  },
  {
   "cell_type": "markdown",
   "metadata": {},
   "source": [
    "### PART 1"
   ]
  },
  {
   "cell_type": "code",
   "execution_count": null,
   "metadata": {},
   "outputs": [],
   "source": [
    "#### Normal pattern\n",
    "\n",
    "\\d   integers 0-9\n",
    "\\D   Non Digit\n",
    "\\s   white space char\n",
    "\\S   Any non white space\n",
    "\\w   Any Char\n",
    "\\W   Any non char\n",
    "\\A   start of string\n",
    "\\Z   end of string\n",
    "\\b   start of word\n",
    "\\B   Except start of word\n",
    "\n",
    "#### Quantifers\n",
    "\n",
    "+ 1 or more times\n",
    "* 0 or more times\n",
    "? 0 or 1\n",
    "{} no of times\n",
    "\n",
    "Others\n",
    "[] ===> contains  [a-zA-Z0-9]\n",
    "[^]  ==> Not or except\n",
    "| ==> or\n",
    "^$  ^---> startswith  $ ==> ends with\n",
    ". ===> means anything but single except \\n"
   ]
  },
  {
   "cell_type": "code",
   "execution_count": 6,
   "metadata": {},
   "outputs": [],
   "source": [
    "import re"
   ]
  },
  {
   "cell_type": "code",
   "execution_count": 7,
   "metadata": {},
   "outputs": [],
   "source": [
    "string = \"17 and 19 are prime numbers\"\n",
    "pattern = \"\\d+\""
   ]
  },
  {
   "cell_type": "code",
   "execution_count": 8,
   "metadata": {},
   "outputs": [
    {
     "name": "stdout",
     "output_type": "stream",
     "text": [
      "['17', '19']\n"
     ]
    }
   ],
   "source": [
    "#findall is for sinding all possible patterns\n",
    "value1 = re.findall(pattern, string)\n",
    "print(value1)"
   ]
  },
  {
   "cell_type": "code",
   "execution_count": 12,
   "metadata": {},
   "outputs": [],
   "source": [
    "string = \"17 and 19 are prime numbers\"\n",
    "pattern = \"are\""
   ]
  },
  {
   "cell_type": "code",
   "execution_count": 13,
   "metadata": {},
   "outputs": [
    {
     "name": "stdout",
     "output_type": "stream",
     "text": [
      "['17 and 19 ', ' prime numbers']\n"
     ]
    }
   ],
   "source": [
    "#split with respect to mentioned pattern\n",
    "value1 = re.split(pattern, string)\n",
    "print(value1)"
   ]
  },
  {
   "cell_type": "code",
   "execution_count": 14,
   "metadata": {},
   "outputs": [
    {
     "name": "stdout",
     "output_type": "stream",
     "text": [
      "17*and*19*are*prime*numbers\n"
     ]
    }
   ],
   "source": [
    "#match with pattern, substitute with replace\n",
    "string = \"17 and 19 are prime numbers\"\n",
    "pattern = \"\\s\"\n",
    "sub = \"*\"\n",
    "value1 = re.sub(pattern,sub, string)\n",
    "print(value1)"
   ]
  },
  {
   "cell_type": "code",
   "execution_count": 15,
   "metadata": {},
   "outputs": [
    {
     "name": "stdout",
     "output_type": "stream",
     "text": [
      "('17*and*19*are*prime*numbers', 5)\n"
     ]
    }
   ],
   "source": [
    "#match with pattern, substitute with replace and no of times\n",
    "string = \"17 and 19 are prime numbers\"\n",
    "pattern = \"\\s\"\n",
    "sub = \"*\"\n",
    "value1 = re.subn(pattern,sub, string)\n",
    "print(value1)"
   ]
  },
  {
   "cell_type": "code",
   "execution_count": 25,
   "metadata": {},
   "outputs": [
    {
     "name": "stdout",
     "output_type": "stream",
     "text": [
      "17 and 19\n",
      "17\n",
      "19\n",
      "17 and 19\n"
     ]
    }
   ],
   "source": [
    "#grouping patterns\n",
    "string = \"17 and 19 are prime numbers\"\n",
    "pattern = \"(\\d+)\\s\\w+\\s(\\d+)\"\n",
    "value1 = re.search(pattern,string)\n",
    "print(value1.group())\n",
    "#group1\n",
    "print(value1.group(1))\n",
    "print(value1.group(2))\n",
    "print(string[0:9])"
   ]
  },
  {
   "cell_type": "code",
   "execution_count": 24,
   "metadata": {},
   "outputs": [
    {
     "name": "stdout",
     "output_type": "stream",
     "text": [
      "(0, 9)\n",
      "0\n",
      "9\n"
     ]
    }
   ],
   "source": [
    "#index value of the group\n",
    "print(value1.span())\n",
    "print(value1.start())\n",
    "print(value1.end())"
   ]
  },
  {
   "cell_type": "code",
   "execution_count": null,
   "metadata": {},
   "outputs": [],
   "source": []
  }
 ],
 "metadata": {
  "kernelspec": {
   "display_name": "Python 3",
   "language": "python",
   "name": "python3"
  },
  "language_info": {
   "codemirror_mode": {
    "name": "ipython",
    "version": 3
   },
   "file_extension": ".py",
   "mimetype": "text/x-python",
   "name": "python",
   "nbconvert_exporter": "python",
   "pygments_lexer": "ipython3",
   "version": "3.7.6"
  }
 },
 "nbformat": 4,
 "nbformat_minor": 4
}
