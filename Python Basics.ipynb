{
 "cells": [
  {
   "cell_type": "code",
   "execution_count": null,
   "metadata": {},
   "outputs": [],
   "source": [
    "\n",
    "#hackerrank\n",
    "#github  https://github.com/DONTSAYCANT/Python_concepts\n",
    "\n",
    "\n",
    "#print function (single quote, double quote, triple quote) end\n",
    "#single line comment multi line comment\n",
    "#operators (+ - * / // % **)\n",
    "#input function\n",
    "#variable\n",
    "#interpreter\n",
    "#type function\n",
    "#datatypes (int float str/char bool)\n",
    "#data structures (List tuple set dict)\n",
    "#indexing ==> forward and reverse indexing\n",
    "#string methods\n",
    "#Data structure methods\n"
   ]
  },
  {
   "cell_type": "code",
   "execution_count": null,
   "metadata": {},
   "outputs": [],
   "source": [
    "#Why programming language\n",
    "#why python\n",
    "#why python famous\n",
    "\n",
    "#multi purpose\n",
    "#website python backend ===> accessing sql, nosql Django/Flask ===> html,css\n",
    "#Devops scripting ci flow, ci deployment \n",
    "#Data science, ML, Deep learning Reinforcement learning R Research \n",
    "#testing, selinium,\n",
    "#julia, Big data\n",
    "\n"
   ]
  },
  {
   "cell_type": "code",
   "execution_count": 7,
   "metadata": {},
   "outputs": [
    {
     "name": "stdout",
     "output_type": "stream",
     "text": [
      "<class 'str'>\n",
      "<class 'int'>\n",
      "<class 'str'>\n",
      "7\n",
      "8\n",
      "9.0\n",
      "a\n",
      "4\n",
      "True\n",
      "False\n",
      "<class 'bool'>\n",
      "<class 'bool'>\n"
     ]
    }
   ],
   "source": [
    "#variable: \n",
    "\n",
    "a = \"4\"\n",
    "b = 8 \n",
    "c = \"python\"\n",
    "print(type(a))\n",
    "print(type(b))\n",
    "print(type(c))\n",
    "\n",
    "print(7)\n",
    "print(8)\n",
    "print(9.0)\n",
    "print(\"a\")\n",
    "print(a)\n",
    "\n",
    "print(True)\n",
    "print(False)\n",
    "\n",
    "print(type(True))\n",
    "print(type(False))\n",
    "\n",
    "#advantage ==> typecasting\n",
    "#Rule 1: \" \", '', ''' ''', \"\"\" \"\"\" ==> string char ==> \n",
    "#Rule 2: without quotes ==> variables\n",
    "\n",
    "#type ==> inbuilt function for identifying datatype or datastructure \n",
    "#print ===> inbuilt function for for printing the argument\n",
    "#Data type\n",
    "\n",
    "#inbuilt functions"
   ]
  },
  {
   "cell_type": "code",
   "execution_count": 18,
   "metadata": {},
   "outputs": [
    {
     "name": "stdout",
     "output_type": "stream",
     "text": [
      "python\n",
      "python\n",
      "python\n",
      "python\n",
      "i'm fine \n",
      "i'm fine \n",
      "  hi welcome \n",
      "to python class\n",
      "this is introduction class\n",
      "\n",
      "a\tpython*aaaa\n"
     ]
    }
   ],
   "source": [
    "#print function (single quote, double quote, triple quote)\n",
    "\n",
    "print(\"python\")\n",
    "print('python')\n",
    "print(\"\"\"python\"\"\")\n",
    "print('''python''')\n",
    "\n",
    "print(\"i'm fine \")\n",
    "print('i\\'m fine ') #==>escape sequence\n",
    "\n",
    "print('''  hi welcome \n",
    "to python class\n",
    "this is introduction class\n",
    "''')\n",
    "print(\"a\", end = \"\\t\") #== shift + tab\n",
    "print(\"python\",end = \"*\")\n",
    "print(\"aaaa\")"
   ]
  },
  {
   "cell_type": "code",
   "execution_count": 26,
   "metadata": {},
   "outputs": [
    {
     "name": "stdout",
     "output_type": "stream",
     "text": [
      "i'm fine \n",
      "i'm fine \n"
     ]
    }
   ],
   "source": [
    "#single line comment multi line comment\n",
    "# ===> single line comment\n",
    "#''' or \"\"\" ===> multi line comment\n",
    "\n",
    "'''\n",
    "print(\"python\")\n",
    "#print('python')\n",
    "print(\"\"\"python\"\"\")\n",
    "print(''\\' python ''\\')\n",
    "'''\n",
    "print(\"i'm fine \")\n",
    "print('i\\'m fine ')"
   ]
  },
  {
   "cell_type": "code",
   "execution_count": 35,
   "metadata": {},
   "outputs": [
    {
     "name": "stdout",
     "output_type": "stream",
     "text": [
      "11\n",
      "-5\n",
      "24\n",
      "0.375\n",
      "16\n",
      "2\n",
      "-3\n"
     ]
    }
   ],
   "source": [
    "#Operators\n",
    "\n",
    "#add + \n",
    "\n",
    "print(3 + 8)\n",
    "\n",
    "#sub -\n",
    "\n",
    "print(3 - 8)\n",
    "\n",
    "#mul *\n",
    "\n",
    "print(3 * 8)\n",
    "\n",
    "#div /\n",
    "\n",
    "print(3 / 8)\n",
    "\n",
    "#power **\n",
    "\n",
    "print(4 ** 2)\n",
    "\n",
    "#mod %\n",
    "\n",
    "print(8 % 3)\n",
    "\n",
    "#floor division // ceil division\n",
    "\n",
    "print(-8//3)\n",
    "\n",
    "#2.67\n",
    "#-4 -3 -2 -1 0 1 2 3 4\n",
    "#2\n",
    "#BODMAS"
   ]
  },
  {
   "cell_type": "code",
   "execution_count": null,
   "metadata": {},
   "outputs": [],
   "source": [
    "#tasks:\n",
    "\n",
    "#1. hackerrank 3 problems\n",
    "#2. inbuilt functions in python https://docs.python.org/3/library/functions.html (10 function)\n",
    "\n",
    "#Exercise\n",
    "\n",
    "#1. Area of circle pi r 2  pi = 3.14\n",
    "#2. perimeter of circle 2 pi r\n",
    "#3. hackerrank 3 problems local env\n",
    "\n",
    "#Datastru ===> interview stack queue  narasimha"
   ]
  },
  {
   "cell_type": "markdown",
   "metadata": {},
   "source": [
    "## Inbuilt Functions"
   ]
  },
  {
   "cell_type": "code",
   "execution_count": null,
   "metadata": {},
   "outputs": [],
   "source": [
    "#https://docs.python.org/3/library/functions.html (official documentation)\n",
    "\n",
    "#Functions ===> set of stanements for specfic purpose\n",
    "\n",
    "#types ===> inbuilt function and user def function\n",
    "\n",
    "#keyword ===> set of words used by python ==> we should not use this for variable creation or function creation\n",
    "\n",
    "#int float bool str conversion function ===>\n",
    "\n",
    "#dtype conversion table ===>\n",
    "\n",
    "#input function ===> \n",
    "\n",
    "##indexing ==> forward and reverse indexing"
   ]
  },
  {
   "cell_type": "code",
   "execution_count": 52,
   "metadata": {},
   "outputs": [
    {
     "name": "stdout",
     "output_type": "stream",
     "text": [
      "<class 'bool'>\n",
      "<class 'str'>\n",
      "False\n"
     ]
    }
   ],
   "source": [
    "\n",
    "a = False\n",
    "\n",
    "print(type(a))\n",
    "\n",
    "a = float(a)\n",
    "\n",
    "print(type(a))\n",
    "\n",
    "print(a)\n",
    "\n",
    "\n",
    "a = 9.0\n",
    "\n",
    "print(type(a))\n",
    "\n",
    "a = int(a)\n",
    "\n",
    "print(type(a))\n",
    "\n",
    "print(a)\n",
    "\n",
    "\n",
    "a = False\n",
    "\n",
    "print(type(a))\n",
    "\n",
    "a = str(a)\n",
    "\n",
    "print(type(a))\n",
    "\n",
    "print(a)\n",
    "\n"
   ]
  },
  {
   "cell_type": "code",
   "execution_count": 55,
   "metadata": {},
   "outputs": [
    {
     "name": "stdout",
     "output_type": "stream",
     "text": [
      "9.9999\n",
      "9.9999\n",
      "<class 'str'>\n"
     ]
    }
   ],
   "source": [
    "#input function\n",
    "\n",
    "a = input() #default data type ==> str\n",
    "print(a)\n",
    "print(type(a))"
   ]
  },
  {
   "cell_type": "code",
   "execution_count": 58,
   "metadata": {},
   "outputs": [
    {
     "name": "stdout",
     "output_type": "stream",
     "text": [
      "7\n",
      "7\n",
      "<class 'int'>\n",
      "7.9\n",
      "7.9\n",
      "<class 'float'>\n"
     ]
    }
   ],
   "source": [
    "#getting integers from user\n",
    "a = int(input())\n",
    "print(a)\n",
    "print(type(a))\n",
    "\n",
    "#getting integers from user\n",
    "a = float(input())\n",
    "print(a)\n",
    "print(type(a))"
   ]
  },
  {
   "cell_type": "code",
   "execution_count": 59,
   "metadata": {},
   "outputs": [
    {
     "name": "stdout",
     "output_type": "stream",
     "text": [
      "Please enter an number: 67\n",
      "67\n",
      "<class 'int'>\n"
     ]
    }
   ],
   "source": [
    "#getting integers from user\n",
    "a = int(input(\"Please enter an number: \"))\n",
    "print(a)\n",
    "print(type(a))"
   ]
  },
  {
   "cell_type": "markdown",
   "metadata": {},
   "source": [
    "## Indexing & Slicing"
   ]
  },
  {
   "cell_type": "code",
   "execution_count": null,
   "metadata": {},
   "outputs": [],
   "source": [
    "#Indexing ==> Forward indexing, backward indexing\n",
    "#[] ===> indexing "
   ]
  },
  {
   "cell_type": "code",
   "execution_count": 63,
   "metadata": {},
   "outputs": [
    {
     "name": "stdout",
     "output_type": "stream",
     "text": [
      "python\n",
      "n\n",
      "n\n",
      "p\n",
      "o\n"
     ]
    }
   ],
   "source": [
    "a = \"python\"\n",
    "print(a)\n",
    "print(a[5])\n",
    "print(a[-1])\n",
    "print(a[0])\n",
    "print(a[-2])"
   ]
  },
  {
   "cell_type": "code",
   "execution_count": 72,
   "metadata": {},
   "outputs": [
    {
     "name": "stdout",
     "output_type": "stream",
     "text": [
      "tho\n",
      "tho\n",
      "pyt\n",
      "pyt\n",
      "thon\n",
      "python\n",
      "tho\n",
      "ytho\n"
     ]
    }
   ],
   "source": [
    "#[from (including) : to (excluding)] \n",
    "a= \"python\"\n",
    "print(a[2:5])\n",
    "print(a[-4:-1])\n",
    "print(a[0:3])\n",
    "print(a[:3])\n",
    "print(a[2:])\n",
    "print(a[:])\n",
    "print(a[2:-1])\n",
    "print(a[-5:5])"
   ]
  },
  {
   "cell_type": "code",
   "execution_count": 73,
   "metadata": {},
   "outputs": [
    {
     "name": "stdout",
     "output_type": "stream",
     "text": [
      "tho\n",
      "tho\n",
      "pyt\n",
      "pyt\n",
      "thon\n",
      "python\n",
      "tho\n",
      "ytho\n"
     ]
    }
   ],
   "source": [
    "#[from (including) : to (excluding) : index intervals (skips)]\n",
    "print(a[2:5:1])\n",
    "print(a[-4:-1:1])\n",
    "print(a[0:3:])\n",
    "print(a[:3:1])\n",
    "print(a[2::1])\n",
    "print(a[::1])\n",
    "print(a[2:-1:1])\n",
    "print(a[-5:5:1])"
   ]
  },
  {
   "cell_type": "code",
   "execution_count": 78,
   "metadata": {},
   "outputs": [
    {
     "name": "stdout",
     "output_type": "stream",
     "text": [
      "tho\n",
      "tho\n",
      "to\n",
      "ph\n",
      "ph\n",
      "h\n"
     ]
    }
   ],
   "source": [
    "a= \"python\"\n",
    "print(a[2:5])\n",
    "print(a[2:5:1])\n",
    "print(a[2:5:2])\n",
    "print(a[:5:3])\n",
    "print(a[::3])\n",
    "print(a[-3::3])"
   ]
  },
  {
   "cell_type": "code",
   "execution_count": 80,
   "metadata": {},
   "outputs": [
    {
     "name": "stdout",
     "output_type": "stream",
     "text": [
      "ytho\n",
      "\n",
      "\n",
      "noht\n",
      "\n",
      "t\n",
      "y\n",
      "\n"
     ]
    }
   ],
   "source": [
    "#Negative indexing  three types\n",
    "\n",
    "#type 1\n",
    "\n",
    "a= \"python\"\n",
    "\n",
    "#from and to value ==> check the direction left to right ==> positive \n",
    "#index interval ==> sign\n",
    "\n",
    "print(a[1:5:1])  #ytho\n",
    "\n",
    "print(a[1:5:-1]) #empty\n",
    "\n",
    "print(a[5:1:1]) #empty\n",
    "\n",
    "print(a[5:1:-1]) #noht\n",
    "\n",
    "print(a[-5:5:-3])#empty\n",
    "print(a[2:-2:2])#t\n",
    "print(a[1:-1:4])#y\n",
    "print(a[2:-5:2])#empty\n",
    "\n"
   ]
  },
  {
   "cell_type": "code",
   "execution_count": 81,
   "metadata": {},
   "outputs": [
    {
     "name": "stdout",
     "output_type": "stream",
     "text": [
      "pt\n",
      "ph\n",
      "typ\n",
      "hn\n",
      "htyp\n",
      "hon\n",
      "typ\n",
      "py\n"
     ]
    }
   ],
   "source": [
    "#Negative indexing Type 2 (one of the values from to is not available)\n",
    "\n",
    "a = \"python\"\n",
    "\n",
    "print(a[:3:2]) #pt\n",
    "print(a[:-1:3]) #ph\n",
    "print(a[2::-1]) #typ\n",
    "print(a[-3::2]) #hn\n",
    "print(a[3::-1]) #htyp\n",
    "print(a[3::1]) #hon\n",
    "print(a[2::-1]) #typ\n",
    "print(a[:2:1]) #py\n"
   ]
  },
  {
   "cell_type": "code",
   "execution_count": 82,
   "metadata": {},
   "outputs": [
    {
     "name": "stdout",
     "output_type": "stream",
     "text": [
      "nohtyp\n",
      "python\n",
      "pto\n",
      "nt\n"
     ]
    }
   ],
   "source": [
    "#Negative indexing Type3 (from and to values are not available)\n",
    "\n",
    "a = \"python\"\n",
    "\n",
    "print(a[::-1]) #nohtyp\n",
    "print(a[::1]) #python\n",
    "print(a[::2]) #pto\n",
    "print(a[::-3]) #nt"
   ]
  },
  {
   "cell_type": "code",
   "execution_count": null,
   "metadata": {},
   "outputs": [],
   "source": [
    "#Tasks1:\n",
    "\n",
    "\"computer_science\"\n",
    "\n",
    "#[-2:0:-1]\n",
    "#[5:-5:5]\n",
    "#[-5:5:-5]\n",
    "#[5:-5:-5]\n",
    "#[3:9:-1]\n",
    "#[9:-10:-2]\n",
    "#[2:-4:-4]\n",
    "#[-4:2:-2]\n",
    "#[0:-1:-3]\n",
    "#[-3:3:6]\n",
    "#[::-3]\n",
    "#[::-2]\n",
    "#[2:-2:-2]\n",
    "#[2:-2:2]\n",
    "#[5:-5:5]\n",
    "#[3:-3:3]\n",
    "#[::2]\n",
    "#[::-5]"
   ]
  }
 ],
 "metadata": {
  "kernelspec": {
   "display_name": "Python 3",
   "language": "python",
   "name": "python3"
  },
  "language_info": {
   "codemirror_mode": {
    "name": "ipython",
    "version": 3
   },
   "file_extension": ".py",
   "mimetype": "text/x-python",
   "name": "python",
   "nbconvert_exporter": "python",
   "pygments_lexer": "ipython3",
   "version": "3.7.6"
  }
 },
 "nbformat": 4,
 "nbformat_minor": 4
}
