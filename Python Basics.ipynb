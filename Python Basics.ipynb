{
 "cells": [
  {
   "cell_type": "code",
   "execution_count": null,
   "metadata": {},
   "outputs": [],
   "source": [
    "\n",
    "#hackerrank\n",
    "#github  https://github.com/DONTSAYCANT/Python_concepts\n",
    "\n",
    "\n",
    "#print function (single quote, double quote, triple quote) end\n",
    "#single line comment multi line comment\n",
    "#operators (+ - * / // % **)\n",
    "#input function\n",
    "#variable\n",
    "#interpreter\n",
    "#type function\n",
    "#datatypes (int float str/char bool)\n",
    "#data structures (List tuple set dict)\n",
    "#indexing ==> forward and reverse indexing\n",
    "#string methods\n",
    "#Data structure methods\n"
   ]
  },
  {
   "cell_type": "code",
   "execution_count": null,
   "metadata": {},
   "outputs": [],
   "source": [
    "#Why programming language\n",
    "#why python\n",
    "#why python famous\n",
    "\n",
    "#multi purpose\n",
    "#website python backend ===> accessing sql, nosql Django/Flask ===> html,css\n",
    "#Devops scripting ci flow, ci deployment \n",
    "#Data science, ML, Deep learning Reinforcement learning R Research \n",
    "#testing, selinium,\n",
    "#julia, Big data\n",
    "\n"
   ]
  },
  {
   "cell_type": "code",
   "execution_count": 7,
   "metadata": {},
   "outputs": [
    {
     "name": "stdout",
     "output_type": "stream",
     "text": [
      "<class 'str'>\n",
      "<class 'int'>\n",
      "<class 'str'>\n",
      "7\n",
      "8\n",
      "9.0\n",
      "a\n",
      "4\n",
      "True\n",
      "False\n",
      "<class 'bool'>\n",
      "<class 'bool'>\n"
     ]
    }
   ],
   "source": [
    "#variable: \n",
    "\n",
    "a = \"4\"\n",
    "b = 8 \n",
    "c = \"python\"\n",
    "print(type(a))\n",
    "print(type(b))\n",
    "print(type(c))\n",
    "\n",
    "print(7)\n",
    "print(8)\n",
    "print(9.0)\n",
    "print(\"a\")\n",
    "print(a)\n",
    "\n",
    "print(True)\n",
    "print(False)\n",
    "\n",
    "print(type(True))\n",
    "print(type(False))\n",
    "\n",
    "#advantage ==> typecasting\n",
    "#Rule 1: \" \", '', ''' ''', \"\"\" \"\"\" ==> string char ==> \n",
    "#Rule 2: without quotes ==> variables\n",
    "\n",
    "#type ==> inbuilt function for identifying datatype or datastructure \n",
    "#print ===> inbuilt function for for printing the argument\n",
    "#Data type\n",
    "\n",
    "#inbuilt functions"
   ]
  },
  {
   "cell_type": "code",
   "execution_count": 18,
   "metadata": {},
   "outputs": [
    {
     "name": "stdout",
     "output_type": "stream",
     "text": [
      "python\n",
      "python\n",
      "python\n",
      "python\n",
      "i'm fine \n",
      "i'm fine \n",
      "  hi welcome \n",
      "to python class\n",
      "this is introduction class\n",
      "\n",
      "a\tpython*aaaa\n"
     ]
    }
   ],
   "source": [
    "#print function (single quote, double quote, triple quote)\n",
    "\n",
    "print(\"python\")\n",
    "print('python')\n",
    "print(\"\"\"python\"\"\")\n",
    "print('''python''')\n",
    "\n",
    "print(\"i'm fine \")\n",
    "print('i\\'m fine ') #==>escape sequence\n",
    "\n",
    "print('''  hi welcome \n",
    "to python class\n",
    "this is introduction class\n",
    "''')\n",
    "print(\"a\", end = \"\\t\") #== shift + tab\n",
    "print(\"python\",end = \"*\")\n",
    "print(\"aaaa\")"
   ]
  },
  {
   "cell_type": "code",
   "execution_count": 26,
   "metadata": {},
   "outputs": [
    {
     "name": "stdout",
     "output_type": "stream",
     "text": [
      "i'm fine \n",
      "i'm fine \n"
     ]
    }
   ],
   "source": [
    "#single line comment multi line comment\n",
    "# ===> single line comment\n",
    "#''' or \"\"\" ===> multi line comment\n",
    "\n",
    "'''\n",
    "print(\"python\")\n",
    "#print('python')\n",
    "print(\"\"\"python\"\"\")\n",
    "print(''\\' python ''\\')\n",
    "'''\n",
    "print(\"i'm fine \")\n",
    "print('i\\'m fine ')"
   ]
  },
  {
   "cell_type": "code",
   "execution_count": 35,
   "metadata": {},
   "outputs": [
    {
     "name": "stdout",
     "output_type": "stream",
     "text": [
      "11\n",
      "-5\n",
      "24\n",
      "0.375\n",
      "16\n",
      "2\n",
      "-3\n"
     ]
    }
   ],
   "source": [
    "#Operators\n",
    "\n",
    "#add + \n",
    "\n",
    "print(3 + 8)\n",
    "\n",
    "#sub -\n",
    "\n",
    "print(3 - 8)\n",
    "\n",
    "#mul *\n",
    "\n",
    "print(3 * 8)\n",
    "\n",
    "#div /\n",
    "\n",
    "print(3 / 8)\n",
    "\n",
    "#power **\n",
    "\n",
    "print(4 ** 2)\n",
    "\n",
    "#mod %\n",
    "\n",
    "print(8 % 3)\n",
    "\n",
    "#floor division // ceil division\n",
    "\n",
    "print(-8//3)\n",
    "\n",
    "#2.67\n",
    "#-4 -3 -2 -1 0 1 2 3 4\n",
    "#2\n",
    "#BODMAS"
   ]
  },
  {
   "cell_type": "code",
   "execution_count": null,
   "metadata": {},
   "outputs": [],
   "source": [
    "#tasks:\n",
    "\n",
    "#1. hackerrank 3 problems\n",
    "#2. inbuilt functions in python https://docs.python.org/3/library/functions.html (10 function)\n",
    "\n",
    "#Exercise\n",
    "\n",
    "#1. Area of circle pi r 2  pi = 3.14\n",
    "#2. perimeter of circle 2 pi r\n",
    "#3. hackerrank 3 problems local env\n",
    "\n",
    "#Datastru ===> interview stack queue  narasimha"
   ]
  }
 ],
 "metadata": {
  "kernelspec": {
   "display_name": "Python 3",
   "language": "python",
   "name": "python3"
  },
  "language_info": {
   "codemirror_mode": {
    "name": "ipython",
    "version": 3
   },
   "file_extension": ".py",
   "mimetype": "text/x-python",
   "name": "python",
   "nbconvert_exporter": "python",
   "pygments_lexer": "ipython3",
   "version": "3.7.6"
  }
 },
 "nbformat": 4,
 "nbformat_minor": 4
}
