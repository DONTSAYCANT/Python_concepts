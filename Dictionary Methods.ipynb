{
 "cells": [
  {
   "cell_type": "code",
   "execution_count": 1,
   "metadata": {},
   "outputs": [
    {
     "name": "stdout",
     "output_type": "stream",
     "text": [
      "{}\n",
      "<class 'dict'>\n",
      "{}\n",
      "<class 'dict'>\n"
     ]
    }
   ],
   "source": [
    "#{:} ==> Dictionary\n",
    "#empty dictinary creation\n",
    "\n",
    "\n",
    "a = {}\n",
    "\n",
    "print(a)\n",
    "print(type(a))\n",
    "\n",
    "a = dict()\n",
    "\n",
    "print(a)\n",
    "print(type(a))"
   ]
  },
  {
   "cell_type": "code",
   "execution_count": 7,
   "metadata": {},
   "outputs": [
    {
     "name": "stdout",
     "output_type": "stream",
     "text": [
      "{1: 'physics', 2: 'chemistry', 3: 'Economics', 4: 'Civics', 5: 'Zoology'}\n",
      "<class 'dict'>\n",
      "{'a': 'physics', 9.0: 'chemistry', True: 'Economics', 2: 'Civics', 'python': 'Zoology'}\n",
      "<class 'dict'>\n",
      "{1: 'physics', 2: 'chemistry', 3: 'Economics', 4: 'Civics', 5: 'Zoology'}\n",
      "<class 'dict'>\n",
      "physics\n",
      "Zoology\n"
     ]
    }
   ],
   "source": [
    "#Indexing ====> Not possible Index ===> key\n",
    "#key:value\n",
    "\n",
    "a = {1 : \"physics\", 2 : \"chemistry\", 3: \"Economics\", 4:\"Civics\", 5:\"Zoology\"}\n",
    "\n",
    "print(a)\n",
    "print(type(a))\n",
    "\n",
    "a = {\"a\" : \"physics\", 9.0 : \"chemistry\", True: \"Economics\", 2:\"Civics\", \"python\":\"Zoology\"}\n",
    "\n",
    "print(a)\n",
    "print(type(a))\n",
    "\n",
    "\n",
    "a = {1 : \"physics\", 2 : \"chemistry\", 3: \"Economics\", 4:\"Civics\", 5:\"Zoology\"}\n",
    "\n",
    "print(a)\n",
    "print(type(a))\n",
    "#print(a[-1]) #Unordered Datastructure #No ondexing\n",
    "\n",
    "print(a[1])\n",
    "print(a[5]) #Index ==> Key"
   ]
  },
  {
   "cell_type": "code",
   "execution_count": 9,
   "metadata": {},
   "outputs": [
    {
     "name": "stdout",
     "output_type": "stream",
     "text": [
      "{1: 'history', 2: 'chemistry', 3: 'Economics', 4: 'Civics', 5: 'Zoology'}\n",
      "<class 'dict'>\n",
      "history\n",
      "{1: 'physics', 2: 'chemistry', 3: 'Economics', 4: 'Civics', 5: 'Zoology', 6: 'physics'}\n",
      "<class 'dict'>\n",
      "physics\n"
     ]
    }
   ],
   "source": [
    "#Duplicates\n",
    "\n",
    "a = {1 : \"physics\", 2 : \"chemistry\", 3: \"Economics\", 4:\"Civics\", 5:\"Zoology\", 1:\"history\"}\n",
    "\n",
    "print(a)\n",
    "print(type(a))\n",
    "print(a[1]) #Duplicate key is not possible, recent key will replace the already available key(value will automatically change)\n",
    "\n",
    "a = {1 : \"physics\", 2 : \"chemistry\", 3: \"Economics\", 4:\"Civics\", 5:\"Zoology\", 6:\"physics\"}\n",
    "\n",
    "print(a)\n",
    "print(type(a))\n",
    "print(a[1]) #Duplicate value is possible"
   ]
  },
  {
   "cell_type": "code",
   "execution_count": null,
   "metadata": {},
   "outputs": [],
   "source": [
    "#Mutable and other methods"
   ]
  },
  {
   "cell_type": "code",
   "execution_count": 10,
   "metadata": {},
   "outputs": [
    {
     "name": "stdout",
     "output_type": "stream",
     "text": [
      "{1: 'physics', 2: 'chemistry', 3: 'Economics', 4: 'Civics', 5: 'Zoology', 6: 'physics'}\n",
      "<class 'dict'>\n",
      "physics\n",
      "physics\n"
     ]
    }
   ],
   "source": [
    "#Accesing element through key and get method\n",
    "\n",
    "a = {1 : \"physics\", 2 : \"chemistry\", 3: \"Economics\", 4:\"Civics\", 5:\"Zoology\", 6:\"physics\"}\n",
    "\n",
    "print(a)\n",
    "print(type(a))\n",
    "print(a[1])\n",
    "print(a.get(6))\n"
   ]
  },
  {
   "cell_type": "code",
   "execution_count": 11,
   "metadata": {},
   "outputs": [
    {
     "name": "stdout",
     "output_type": "stream",
     "text": [
      "{1: 'physics', 2: 'chemistry', 3: 'Economics', 4: 'Civics', 5: 'Zoology', 6: 'physics'}\n",
      "{1: 'physics', 2: 'chemistry', 3: 'Economics', 4: 'Civics', 5: 'Zoology', 6: 'physics', 7: 'maths'}\n",
      "{1: 'physics', 2: 'chemistry', 3: 'Linear algebra', 4: 'Civics', 5: 'Zoology', 6: 'physics', 7: 'maths'}\n"
     ]
    }
   ],
   "source": [
    "#Adding element and replacing element\n",
    "\n",
    "a = {1 : \"physics\", 2 : \"chemistry\", 3: \"Economics\", 4:\"Civics\", 5:\"Zoology\", 6:\"physics\"}\n",
    "\n",
    "print(a)\n",
    "\n",
    "a[7] = \"maths\" #Addition\n",
    "\n",
    "print(a)\n",
    "\n",
    "a[3] = \"Linear algebra\" #replacement\n",
    "\n",
    "print(a)\n"
   ]
  },
  {
   "cell_type": "code",
   "execution_count": 15,
   "metadata": {},
   "outputs": [
    {
     "name": "stdout",
     "output_type": "stream",
     "text": [
      "{1: 'physics', 2: 'chemistry', 3: 'Economics', 4: 'Civics', 5: 'Zoology', 6: 'physics'}\n",
      "dict_keys([1, 2, 3, 4, 5, 6])\n",
      "dict_values(['physics', 'chemistry', 'Economics', 'Civics', 'Zoology', 'physics'])\n",
      "dict_items([(1, 'physics'), (2, 'chemistry'), (3, 'Economics'), (4, 'Civics'), (5, 'Zoology'), (6, 'physics')])\n",
      "6\n",
      "dict_keys([1, 2, 3, 4, 5, 6])\n",
      "<class 'dict_keys'>\n",
      "[1, 2, 3, 4, 5, 6]\n",
      "<class 'list'>\n"
     ]
    }
   ],
   "source": [
    "#keys / values / items / len\n",
    "\n",
    "a = {1 : \"physics\", 2 : \"chemistry\", 3: \"Economics\", 4:\"Civics\", 5:\"Zoology\", 6:\"physics\"}\n",
    "\n",
    "print(a)\n",
    "print(a.keys()) #Accessing all keys in dict\n",
    "print(a.values()) #Accessing all values in dict\n",
    "print(a.items()) #Accessing all items\n",
    "print(len(a)) #Length of dictionary\n",
    "\n",
    "b = a.keys()\n",
    "print(b)\n",
    "print(type(b))\n",
    "\n",
    "b = list(a.keys())\n",
    "print(b)\n",
    "print(type(b))"
   ]
  },
  {
   "cell_type": "code",
   "execution_count": 2,
   "metadata": {},
   "outputs": [
    {
     "name": "stdout",
     "output_type": "stream",
     "text": [
      "{1: 'physics', 2: 'chemistry', 3: 'Economics', 4: 'Civics', 5: 'physics', 6: 'physics', 10: 'biology'}\n"
     ]
    },
    {
     "ename": "TypeError",
     "evalue": "unsupported operand type(s) for +: 'dict' and 'dict'",
     "output_type": "error",
     "traceback": [
      "\u001b[1;31m---------------------------------------------------------------------------\u001b[0m",
      "\u001b[1;31mTypeError\u001b[0m                                 Traceback (most recent call last)",
      "\u001b[1;32m<ipython-input-2-bc2c7ee3871e>\u001b[0m in \u001b[0;36m<module>\u001b[1;34m\u001b[0m\n\u001b[0;32m      9\u001b[0m \u001b[0mprint\u001b[0m\u001b[1;33m(\u001b[0m\u001b[0ma\u001b[0m\u001b[1;33m)\u001b[0m\u001b[1;33m\u001b[0m\u001b[1;33m\u001b[0m\u001b[0m\n\u001b[0;32m     10\u001b[0m \u001b[1;33m\u001b[0m\u001b[0m\n\u001b[1;32m---> 11\u001b[1;33m \u001b[0mc\u001b[0m \u001b[1;33m=\u001b[0m \u001b[0ma\u001b[0m \u001b[1;33m+\u001b[0m \u001b[0mb\u001b[0m\u001b[1;33m\u001b[0m\u001b[1;33m\u001b[0m\u001b[0m\n\u001b[0m\u001b[0;32m     12\u001b[0m \u001b[0mprint\u001b[0m\u001b[1;33m(\u001b[0m\u001b[0mc\u001b[0m\u001b[1;33m)\u001b[0m\u001b[1;33m\u001b[0m\u001b[1;33m\u001b[0m\u001b[0m\n",
      "\u001b[1;31mTypeError\u001b[0m: unsupported operand type(s) for +: 'dict' and 'dict'"
     ]
    }
   ],
   "source": [
    "#update\n",
    "\n",
    "a = {1 : \"physics\", 2 : \"chemistry\", 3: \"Economics\", 4:\"Civics\", 5:\"Zoology\", 6:\"physics\"}\n",
    "\n",
    "b = {10:\"biology\", 5:\"physics\"}\n",
    "\n",
    "a.update(b)\n",
    "\n",
    "print(a) \n",
    "\n",
    "#c = a+b ===> Concatenation is not possible\n"
   ]
  },
  {
   "cell_type": "code",
   "execution_count": 4,
   "metadata": {},
   "outputs": [
    {
     "name": "stdout",
     "output_type": "stream",
     "text": [
      "{2: 'chemistry', 3: 'Economics', 4: 'Civics', 5: 'Zoology', 6: 'physics'}\n"
     ]
    }
   ],
   "source": [
    "#pop\n",
    "\n",
    "a = {1 : \"physics\", 2 : \"chemistry\", 3: \"Economics\", 4:\"Civics\", 5:\"Zoology\", 6:\"physics\"}\n",
    "\n",
    "a.pop(1)\n",
    "\n",
    "print(a) #Specific element removal from dictionary"
   ]
  },
  {
   "cell_type": "code",
   "execution_count": 6,
   "metadata": {},
   "outputs": [
    {
     "name": "stdout",
     "output_type": "stream",
     "text": [
      "{1: 'physics', 2: 'chemistry', 3: 'Economics', 4: 'Civics', 5: 'Zoology'}\n"
     ]
    }
   ],
   "source": [
    "#popitem\n",
    "\n",
    "a = {1 : \"physics\", 2 : \"chemistry\", 3: \"Economics\", 4:\"Civics\", 5:\"Zoology\", 6:\"physics\"}\n",
    "\n",
    "a.popitem()\n",
    "\n",
    "print(a) #Random element removal from dictionary"
   ]
  },
  {
   "cell_type": "code",
   "execution_count": 8,
   "metadata": {},
   "outputs": [
    {
     "name": "stdout",
     "output_type": "stream",
     "text": [
      "{2: 'chemistry', 3: 'Economics', 4: 'Civics', 5: 'Zoology', 6: 'physics'}\n"
     ]
    }
   ],
   "source": [
    "a = {1 : \"physics\", 2 : \"chemistry\", 3: \"Economics\", 4:\"Civics\", 5:\"Zoology\", 6:\"physics\"}\n",
    "\n",
    "del a[1]  #del a[1:] #No indexing\n",
    "\n",
    "#del a  #For removing variable\n",
    "\n",
    "print(a)"
   ]
  },
  {
   "cell_type": "code",
   "execution_count": null,
   "metadata": {},
   "outputs": [],
   "source": []
  }
 ],
 "metadata": {
  "kernelspec": {
   "display_name": "Python 3",
   "language": "python",
   "name": "python3"
  },
  "language_info": {
   "codemirror_mode": {
    "name": "ipython",
    "version": 3
   },
   "file_extension": ".py",
   "mimetype": "text/x-python",
   "name": "python",
   "nbconvert_exporter": "python",
   "pygments_lexer": "ipython3",
   "version": "3.7.6"
  }
 },
 "nbformat": 4,
 "nbformat_minor": 4
}
