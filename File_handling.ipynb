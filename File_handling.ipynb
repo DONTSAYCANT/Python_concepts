{
 "cells": [
  {
   "cell_type": "code",
   "execution_count": 30,
   "metadata": {},
   "outputs": [],
   "source": [
    "#opening a file, default mode for opening a file is read\n",
    "#File should be available at specific location/path while using read mode otherwise FileNotFoundError\n",
    "\n",
    "f = open(\"file_check.txt\")\n",
    "f = open(\"file_check.txt\",\"r\")"
   ]
  },
  {
   "cell_type": "code",
   "execution_count": 2,
   "metadata": {},
   "outputs": [
    {
     "name": "stdout",
     "output_type": "stream",
     "text": [
      "welcome to python class\n",
      "this is sample file for file handling concepts\n"
     ]
    }
   ],
   "source": [
    "#modes r w a\n",
    "\n",
    "print(f.read())"
   ]
  },
  {
   "cell_type": "code",
   "execution_count": 4,
   "metadata": {},
   "outputs": [
    {
     "name": "stdout",
     "output_type": "stream",
     "text": [
      "welco\n"
     ]
    }
   ],
   "source": [
    "#arg inside read\n",
    "f = open(\"file_check.txt\",\"r\")\n",
    "print(f.read(5))"
   ]
  },
  {
   "cell_type": "code",
   "execution_count": 6,
   "metadata": {},
   "outputs": [
    {
     "name": "stdout",
     "output_type": "stream",
     "text": [
      "welcome to python class\n",
      "\n",
      "this is sample file for file handling concepts\n"
     ]
    }
   ],
   "source": [
    "#readline\n",
    "f = open(\"file_check.txt\",\"r\")\n",
    "print(f.readline())\n",
    "print(f.readline())"
   ]
  },
  {
   "cell_type": "code",
   "execution_count": null,
   "metadata": {},
   "outputs": [],
   "source": [
    "#For write mode and append mode, it will create file if mentioned file is not available\n",
    "\n",
    "#write ===> it will remove the content then it will write\n",
    "#append ==> will append at last"
   ]
  },
  {
   "cell_type": "code",
   "execution_count": 14,
   "metadata": {},
   "outputs": [],
   "source": [
    "#write mode\n",
    "\n",
    "f = open(\"file_check1.txt\",\"w\")\n",
    "\n",
    "f.write(\"python 2020\")\n",
    "f.write(\"\\n\")\n",
    "f.write(\"java 2020\")\n",
    "f.write(\"\\n\")\n",
    "f.write(\"go 2020\")\n",
    "f.write(\"\\n\")\n",
    "f.write(\"groovy 2020\")\n",
    "f.write(\"\\n\")\n",
    "\n",
    "f.close()"
   ]
  },
  {
   "cell_type": "code",
   "execution_count": 19,
   "metadata": {},
   "outputs": [],
   "source": [
    "#append mode\n",
    "\n",
    "f = open(\"file_check1.txt\",\"a\")\n",
    "\n",
    "f.write(\"python 2020\")\n",
    "f.write(\"\\n\")\n",
    "f.write(\"java 2020\")\n",
    "f.write(\"\\n\")\n",
    "f.write(\"go 2020\")\n",
    "f.write(\"\\n\")\n",
    "f.write(\"groovy 2020\")\n",
    "f.write(\"\\n\")\n",
    "\n",
    "f.close()"
   ]
  },
  {
   "cell_type": "code",
   "execution_count": 21,
   "metadata": {},
   "outputs": [],
   "source": [
    "#module for os/system related commands\n",
    "\n",
    "import os "
   ]
  },
  {
   "cell_type": "code",
   "execution_count": 26,
   "metadata": {},
   "outputs": [
    {
     "name": "stdout",
     "output_type": "stream",
     "text": [
      "True\n"
     ]
    }
   ],
   "source": [
    "print(os.path.exists(\"file_check.txt\"))"
   ]
  },
  {
   "cell_type": "code",
   "execution_count": 27,
   "metadata": {},
   "outputs": [
    {
     "name": "stdout",
     "output_type": "stream",
     "text": [
      "False\n"
     ]
    }
   ],
   "source": [
    "print(os.path.exists(\"file_check11.txt\"))"
   ]
  },
  {
   "cell_type": "code",
   "execution_count": 28,
   "metadata": {},
   "outputs": [],
   "source": [
    "os.remove(\"file_check1.txt\")\n",
    "#os.rmdir\n",
    "#os.mkdir"
   ]
  },
  {
   "cell_type": "code",
   "execution_count": 29,
   "metadata": {},
   "outputs": [
    {
     "data": {
      "text/plain": [
       "'C:\\\\Users\\\\kanna\\\\Downloads\\\\dontsaycant\\\\python_fundamentals'"
      ]
     },
     "execution_count": 29,
     "metadata": {},
     "output_type": "execute_result"
    }
   ],
   "source": [
    "os.getcwd()"
   ]
  },
  {
   "cell_type": "markdown",
   "metadata": {},
   "source": [
    "Reference os module:\n",
    "https://docs.python.org/3/library/os.html\n",
    "https://www.geeksforgeeks.org/os-module-python-examples/#:~:text=OS%20Module%20in%20Python%20with%20Examples,using%20operating%20system%20dependent%20functionality.\n",
    "\n",
    "File handling: https://www.w3schools.com/python/python_file_handling.asp"
   ]
  },
  {
   "cell_type": "code",
   "execution_count": null,
   "metadata": {},
   "outputs": [],
   "source": []
  }
 ],
 "metadata": {
  "kernelspec": {
   "display_name": "Python 3",
   "language": "python",
   "name": "python3"
  },
  "language_info": {
   "codemirror_mode": {
    "name": "ipython",
    "version": 3
   },
   "file_extension": ".py",
   "mimetype": "text/x-python",
   "name": "python",
   "nbconvert_exporter": "python",
   "pygments_lexer": "ipython3",
   "version": "3.7.6"
  }
 },
 "nbformat": 4,
 "nbformat_minor": 4
}
