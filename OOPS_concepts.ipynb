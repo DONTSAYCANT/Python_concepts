{
 "cells": [
  {
   "cell_type": "code",
   "execution_count": 1,
   "metadata": {},
   "outputs": [],
   "source": [
    "#Inheritance\n",
    "\n",
    "#for getting properties of one class to another class\n",
    "#parent child relationship\n",
    "#reuse of code\n",
    "\n",
    "#types\n",
    "#single\n",
    "#multiple\n",
    "#multilevel\n",
    "#hierarchical\n",
    "#hybrid"
   ]
  },
  {
   "cell_type": "code",
   "execution_count": 4,
   "metadata": {},
   "outputs": [
    {
     "name": "stdout",
     "output_type": "stream",
     "text": [
      "parent_function\n",
      "child_function\n"
     ]
    }
   ],
   "source": [
    "#normal class and object pgm\n",
    "\n",
    "#parent class\n",
    "class parent:\n",
    "    def par_func(self):\n",
    "        print(\"parent_function\")\n",
    "        return None\n",
    "#child class\n",
    "class child:\n",
    "    def chi_func(self):\n",
    "        print(\"child_function\")\n",
    "        return None\n",
    "    \n",
    "par1 = parent()\n",
    "par1.par_func()\n",
    "\n",
    "chi1 = child()\n",
    "chi1.chi_func()"
   ]
  },
  {
   "cell_type": "code",
   "execution_count": 6,
   "metadata": {},
   "outputs": [
    {
     "name": "stdout",
     "output_type": "stream",
     "text": [
      "child_function\n",
      "parent_function\n"
     ]
    }
   ],
   "source": [
    "#single inheritance\n",
    "\n",
    "#parent class\n",
    "class parent:\n",
    "    def par_func(self):\n",
    "        print(\"parent_function\")\n",
    "        return None\n",
    "\n",
    "#child class\n",
    "class child(parent):\n",
    "    def chi_func(self):\n",
    "        print(\"child_function\")\n",
    "        return None\n",
    "    \n",
    "chi1 = child()\n",
    "chi1.chi_func()\n",
    "chi1.par_func()"
   ]
  },
  {
   "cell_type": "code",
   "execution_count": 7,
   "metadata": {},
   "outputs": [
    {
     "name": "stdout",
     "output_type": "stream",
     "text": [
      "child_function\n",
      "parent_function1\n",
      "parent_function2\n"
     ]
    }
   ],
   "source": [
    "#multiple inheritance (one child is having more than one parent)\n",
    "\n",
    "#parent class\n",
    "class parent1:\n",
    "    def par_func1(self):\n",
    "        print(\"parent_function1\")\n",
    "        return None\n",
    "\n",
    "class parent2:\n",
    "    def par_func2(self):\n",
    "        print(\"parent_function2\")\n",
    "        return None\n",
    "\n",
    "#child class\n",
    "class child(parent1,parent2):\n",
    "    def chi_func(self):\n",
    "        print(\"child_function\")\n",
    "        return None\n",
    "    \n",
    "chi1 = child()\n",
    "chi1.chi_func()\n",
    "chi1.par_func1()\n",
    "chi1.par_func2()"
   ]
  },
  {
   "cell_type": "code",
   "execution_count": 8,
   "metadata": {},
   "outputs": [
    {
     "name": "stdout",
     "output_type": "stream",
     "text": [
      "child_function1\n",
      "parent_function\n",
      "child_function2\n",
      "parent_function\n"
     ]
    }
   ],
   "source": [
    "#Hierarchical inheritance (one parent is having more than one child)\n",
    "\n",
    "#parent class\n",
    "class parent:\n",
    "    def par_func(self):\n",
    "        print(\"parent_function\")\n",
    "        return None\n",
    "\n",
    "class child1(parent):\n",
    "    def chi_func1(self):\n",
    "        print(\"child_function1\")\n",
    "        return None\n",
    "\n",
    "#child class\n",
    "class child2(parent):\n",
    "    def chi_func2(self):\n",
    "        print(\"child_function2\")\n",
    "        return None\n",
    "    \n",
    "chi1 = child1()\n",
    "chi1.chi_func1()\n",
    "chi1.par_func()\n",
    "\n",
    "chi1 = child2()\n",
    "chi1.chi_func2()\n",
    "chi1.par_func()"
   ]
  },
  {
   "cell_type": "code",
   "execution_count": 11,
   "metadata": {},
   "outputs": [
    {
     "name": "stdout",
     "output_type": "stream",
     "text": [
      "grand_parent_function\n",
      "parent_function\n",
      "grand_parent_function\n",
      "child_function\n",
      "parent_function\n",
      "grand_parent_function\n"
     ]
    }
   ],
   "source": [
    "#Multilevel inheritance (grandparent ===> parent ===> child)\n",
    "\n",
    "#grand parent class\n",
    "class grandparent:\n",
    "    def grand_par_func(self):\n",
    "        print(\"grand_parent_function\")\n",
    "        return None\n",
    "\n",
    "#parent\n",
    "class parent(grandparent):\n",
    "    def par_func(self):\n",
    "        print(\"parent_function\")\n",
    "        return None\n",
    "\n",
    "#child class\n",
    "class child(parent):\n",
    "    def chi_func(self):\n",
    "        print(\"child_function\")\n",
    "        return None\n",
    "    \n",
    "\n",
    "obj1 = grandparent()\n",
    "obj1.grand_par_func()\n",
    "\n",
    "obj2 = parent()\n",
    "obj2.par_func()\n",
    "obj2.grand_par_func()\n",
    "\n",
    "obj3 = child()\n",
    "obj3.chi_func()\n",
    "obj3.par_func()\n",
    "obj3.grand_par_func()"
   ]
  },
  {
   "cell_type": "code",
   "execution_count": 12,
   "metadata": {},
   "outputs": [],
   "source": [
    "#Hybrid inheritance ===> combination more than two\n",
    "#multilevel + multiple\n",
    "#hier + multilevel\n",
    "#multiple + hier"
   ]
  },
  {
   "cell_type": "code",
   "execution_count": 14,
   "metadata": {},
   "outputs": [
    {
     "name": "stdout",
     "output_type": "stream",
     "text": [
      "****\n",
      "parent_function\n",
      "****\n",
      "child_function\n"
     ]
    }
   ],
   "source": [
    "#super function ===> calling the paranet class (method or attribute) from child class\n",
    "\n",
    "#parent class\n",
    "class parent:\n",
    "    def par_func(self):\n",
    "        print(\"parent_function\")\n",
    "        return None\n",
    "\n",
    "#child class\n",
    "class child(parent):\n",
    "    def chi_func(self):\n",
    "        print(\"****\")\n",
    "        super().par_func()\n",
    "        print(\"****\")\n",
    "        print(\"child_function\")\n",
    "        return None\n",
    "\n",
    "    \n",
    "chi1 = child()\n",
    "chi1.chi_func()"
   ]
  },
  {
   "cell_type": "code",
   "execution_count": 15,
   "metadata": {},
   "outputs": [
    {
     "name": "stdout",
     "output_type": "stream",
     "text": [
      "child_function\n"
     ]
    }
   ],
   "source": [
    "#overridding (method) ==> inheritance between classes, same method available in both classes ==> child will override the properties of parent\n",
    "\n",
    "#single inheritance\n",
    "\n",
    "#parent class\n",
    "class parent:\n",
    "    def func1(self):\n",
    "        print(\"parent_function\")\n",
    "        return None\n",
    "\n",
    "#child class\n",
    "class child(parent):\n",
    "    def func1(self):\n",
    "        print(\"child_function\")\n",
    "        return None\n",
    "    \n",
    "chi1 = child()\n",
    "chi1.func1()"
   ]
  },
  {
   "cell_type": "code",
   "execution_count": null,
   "metadata": {},
   "outputs": [],
   "source": [
    "#inheritance\n",
    "#super function\n",
    "#overriding"
   ]
  },
  {
   "cell_type": "code",
   "execution_count": null,
   "metadata": {},
   "outputs": [],
   "source": [
    "#class\n",
    "#object\n",
    "#method\n",
    "#__init__\n",
    "#static class\n",
    "#class method"
   ]
  }
 ],
 "metadata": {
  "kernelspec": {
   "display_name": "Python 3",
   "language": "python",
   "name": "python3"
  },
  "language_info": {
   "codemirror_mode": {
    "name": "ipython",
    "version": 3
   },
   "file_extension": ".py",
   "mimetype": "text/x-python",
   "name": "python",
   "nbconvert_exporter": "python",
   "pygments_lexer": "ipython3",
   "version": "3.7.6"
  }
 },
 "nbformat": 4,
 "nbformat_minor": 4
}
