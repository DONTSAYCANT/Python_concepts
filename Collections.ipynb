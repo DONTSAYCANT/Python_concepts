{
 "cells": [
  {
   "cell_type": "code",
   "execution_count": 1,
   "metadata": {},
   "outputs": [],
   "source": [
    "# Advanced Datastrucure ===> collections module\n",
    "\n",
    "#Deque\n",
    "#Counter\n",
    "#Defaultdict\n",
    "#Ordereddict\n",
    "#ChainMap\n",
    "#namedtuple"
   ]
  },
  {
   "cell_type": "code",
   "execution_count": 2,
   "metadata": {},
   "outputs": [],
   "source": [
    "from collections import *"
   ]
  },
  {
   "cell_type": "code",
   "execution_count": 7,
   "metadata": {},
   "outputs": [
    {
     "name": "stdout",
     "output_type": "stream",
     "text": [
      "Counter({2: 4, 3: 4, 4: 2, 5: 2, 6: 2, 7: 2, 1: 1})\n",
      "Counter({'A': 2, 'B': 1, 'C': 1})\n",
      "<class 'collections.Counter'>\n"
     ]
    }
   ],
   "source": [
    "#Counter #frequency of each and every unique value\n",
    "\n",
    "Li1 = [2,3,4,5,6,7,1,2,3,2,3,2,3,4,5,6,7]\n",
    "\n",
    "print(Counter(Li1))\n",
    "\n",
    "Li2 = [\"A\", \"B\", \"C\", \"A\"]\n",
    "\n",
    "val = Counter(Li2)\n",
    "\n",
    "print(val)\n",
    "\n",
    "print(type(val))\n"
   ]
  },
  {
   "cell_type": "code",
   "execution_count": 12,
   "metadata": {},
   "outputs": [
    {
     "name": "stdout",
     "output_type": "stream",
     "text": [
      "deque([3, 4, 5, 6, 8])\n",
      "deque([3, 4, 5, 6])\n",
      "deque([0, 3, 4, 5, 6])\n",
      "deque([3, 4, 5, 6])\n"
     ]
    }
   ],
   "source": [
    "#deque  ==> normal List operation + some extra operations\n",
    "\n",
    "de = deque([3,4,5,6])\n",
    "\n",
    "de.append(8)\n",
    "print(de)\n",
    "\n",
    "de.pop()\n",
    "print(de)\n",
    "\n",
    "#extra operations\n",
    "\n",
    "de.appendleft(0)\n",
    "print(de)\n",
    "\n",
    "de.popleft()\n",
    "print(de)\n",
    "\n"
   ]
  },
  {
   "cell_type": "code",
   "execution_count": 15,
   "metadata": {},
   "outputs": [
    {
     "name": "stdout",
     "output_type": "stream",
     "text": [
      "ChainMap({'a': 9, 'b': 5}, {'b': 1, 'c': 4})\n",
      "KeysView(ChainMap({'a': 9, 'b': 5}, {'b': 1, 'c': 4}))\n",
      "ValuesView(ChainMap({'a': 9, 'b': 5}, {'b': 1, 'c': 4}))\n"
     ]
    }
   ],
   "source": [
    "#ChainMap\n",
    "\n",
    "dict1 = {\"a\": 9, \"b\":5}\n",
    "dict2 = {\"b\": 1, \"c\":4}\n",
    "\n",
    "chain = ChainMap(dict1, dict2)\n",
    "\n",
    "print(chain)\n",
    "\n",
    "print(chain.keys())\n",
    "print(chain.values())"
   ]
  },
  {
   "cell_type": "code",
   "execution_count": 20,
   "metadata": {},
   "outputs": [
    {
     "name": "stdout",
     "output_type": "stream",
     "text": [
      "ram\n",
      "109\n",
      "ram\n",
      "109\n",
      "ram\n",
      "jjj@jjj.com\n"
     ]
    }
   ],
   "source": [
    "#namedtuple #accessing tuple elements through name + index value\n",
    "\n",
    "stud = namedtuple(\"stud\", [\"name\", \"val\", \"dob\", \"mail\"])\n",
    "\n",
    "s = (\"ram\", \"109\", \"1991\", \"jjj@jjj.com\")\n",
    "s1 = stud(\"ram\", \"109\", \"1991\", \"jjj@jjj.com\")\n",
    "\n",
    "print(s[0])\n",
    "print(s[1])\n",
    "\n",
    "#namedtuple\n",
    "print(s1[0])\n",
    "print(s1[1])\n",
    "print(s1.name)\n",
    "print(s1.mail)"
   ]
  },
  {
   "cell_type": "code",
   "execution_count": 24,
   "metadata": {},
   "outputs": [
    {
     "name": "stdout",
     "output_type": "stream",
     "text": [
      "0.0\n"
     ]
    }
   ],
   "source": [
    "#default dict\n",
    "\n",
    "d = defaultdict(float)\n",
    "\n",
    "#d = {} #for unavailable key access, it will throw keyError\n",
    "\n",
    "d[0] = \"ram\"\n",
    "d[1] = \"raj\"\n",
    "\n",
    "print(d[2]) #dafault value will come for unavailable key"
   ]
  },
  {
   "cell_type": "code",
   "execution_count": 25,
   "metadata": {},
   "outputs": [
    {
     "name": "stdout",
     "output_type": "stream",
     "text": [
      "raj\n"
     ]
    }
   ],
   "source": [
    "#ordered dict ===> order will be maintained after each and every operation not like normal dictionary (unordered)\n",
    "\n",
    "d = OrderedDict()\n",
    "\n",
    "d[0] = \"ram\"\n",
    "d[1] = \"raj\"\n",
    "\n",
    "print(d[1]) #dafault value will come for unavailable key"
   ]
  }
 ],
 "metadata": {
  "kernelspec": {
   "display_name": "Python 3",
   "language": "python",
   "name": "python3"
  },
  "language_info": {
   "codemirror_mode": {
    "name": "ipython",
    "version": 3
   },
   "file_extension": ".py",
   "mimetype": "text/x-python",
   "name": "python",
   "nbconvert_exporter": "python",
   "pygments_lexer": "ipython3",
   "version": "3.7.6"
  }
 },
 "nbformat": 4,
 "nbformat_minor": 4
}
