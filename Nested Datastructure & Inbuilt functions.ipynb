{
 "cells": [
  {
   "cell_type": "markdown",
   "metadata": {},
   "source": [
    "## Nested Datastructure"
   ]
  },
  {
   "cell_type": "code",
   "execution_count": 8,
   "metadata": {},
   "outputs": [
    {
     "name": "stdout",
     "output_type": "stream",
     "text": [
      "[1, 2, 3, 4, [11, 12, 13, 14, {24, 21, 22, 23}], (31, 32, 33, 34), {41: (100, 200, 300), 42: 'php', 43: ['abc', 'bcd', 'cde']}]\n",
      "(31, 32, 33, 34)\n",
      "c\n",
      "h\n",
      "<class 'list'>\n"
     ]
    }
   ],
   "source": [
    "a = [1,2,3,4,[11,12,13,14,{21,22,23,24}],(31,32,33,34),{41:(100,200,300),42:\"php\",43:[\"abc\",\"bcd\",\"cde\"]}]\n",
    "\n",
    "\n",
    "print(a)\n",
    "\n",
    "print(a[5])\n",
    "\n",
    "print(a[6][43][1][1])\n",
    "\n",
    "print(a[6][42][1])\n",
    "\n",
    "print(type(a))\n",
    "\n"
   ]
  },
  {
   "cell_type": "code",
   "execution_count": null,
   "metadata": {},
   "outputs": [],
   "source": [
    "#ELK \n",
    "#Elastic search ===> No sql db\n",
    "#Logstash ==> Filtering\n",
    "#Kibana ==> visualisation\n",
    "\n",
    "#mysql #Nosql ==> \n",
    "#Json load ===> json\n",
    "#import json\n",
    "#json.loads(\"\")\n",
    "\n",
    "#xml , html , yaml, json ===> modules\n",
    "\n",
    "#Time to retrieve\n",
    "\n",
    "#regex"
   ]
  },
  {
   "cell_type": "code",
   "execution_count": null,
   "metadata": {},
   "outputs": [],
   "source": [
    "#String methods\n",
    "\n",
    "#1. Get two values (input) ===> number, string\n",
    "\n",
    "#7 , \"python\" ===> pythonpythonpythonpythonpythonpythonpython777777\n",
    "\n",
    "#3 , \"perl\"   ===> perlperlperl3333\n",
    "\n",
    "#2. Get two values (input) ===> string, number\n",
    "\n",
    "#computer_science, 3 ===> mocputer_scieecn\n",
    "\n",
    "#biology , 2  ===> iboloyg"
   ]
  },
  {
   "cell_type": "code",
   "execution_count": null,
   "metadata": {},
   "outputs": [],
   "source": []
  },
  {
   "cell_type": "code",
   "execution_count": null,
   "metadata": {},
   "outputs": [],
   "source": []
  },
  {
   "cell_type": "code",
   "execution_count": null,
   "metadata": {},
   "outputs": [],
   "source": []
  },
  {
   "cell_type": "markdown",
   "metadata": {},
   "source": [
    "## Inbuilt functions\n",
    "\n",
    "https://www.w3schools.com/python/python_ref_functions.asp\n",
    "\n",
    "\n",
    "https://docs.python.org/3/library/functions.html"
   ]
  },
  {
   "cell_type": "code",
   "execution_count": null,
   "metadata": {},
   "outputs": [],
   "source": []
  }
 ],
 "metadata": {
  "kernelspec": {
   "display_name": "Python 3",
   "language": "python",
   "name": "python3"
  },
  "language_info": {
   "codemirror_mode": {
    "name": "ipython",
    "version": 3
   },
   "file_extension": ".py",
   "mimetype": "text/x-python",
   "name": "python",
   "nbconvert_exporter": "python",
   "pygments_lexer": "ipython3",
   "version": "3.7.6"
  }
 },
 "nbformat": 4,
 "nbformat_minor": 4
}
