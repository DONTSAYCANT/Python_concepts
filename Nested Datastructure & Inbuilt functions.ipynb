{
 "cells": [
  {
   "cell_type": "markdown",
   "metadata": {},
   "source": [
    "## Nested Datastructure"
   ]
  },
  {
   "cell_type": "code",
   "execution_count": 8,
   "metadata": {},
   "outputs": [
    {
     "name": "stdout",
     "output_type": "stream",
     "text": [
      "[1, 2, 3, 4, [11, 12, 13, 14, {24, 21, 22, 23}], (31, 32, 33, 34), {41: (100, 200, 300), 42: 'php', 43: ['abc', 'bcd', 'cde']}]\n",
      "(31, 32, 33, 34)\n",
      "c\n",
      "h\n",
      "<class 'list'>\n"
     ]
    }
   ],
   "source": [
    "a = [1,2,3,4,[11,12,13,14,{21,22,23,24}],(31,32,33,34),{41:(100,200,300),42:\"php\",43:[\"abc\",\"bcd\",\"cde\"]}]\n",
    "\n",
    "\n",
    "print(a)\n",
    "\n",
    "print(a[5])\n",
    "\n",
    "print(a[6][43][1][1])\n",
    "\n",
    "print(a[6][42][1])\n",
    "\n",
    "print(type(a))\n",
    "\n"
   ]
  },
  {
   "cell_type": "code",
   "execution_count": null,
   "metadata": {},
   "outputs": [],
   "source": [
    "#ELK \n",
    "#Elastic search ===> No sql db\n",
    "#Logstash ==> Filtering\n",
    "#Kibana ==> visualisation\n",
    "\n",
    "#mysql #Nosql ==> \n",
    "#Json load ===> json\n",
    "#import json\n",
    "#json.loads(\"\")\n",
    "\n",
    "#xml , html , yaml, json ===> modules\n",
    "\n",
    "#Time to retrieve\n",
    "\n",
    "#regex"
   ]
  },
  {
   "cell_type": "markdown",
   "metadata": {},
   "source": [
    "## Inbuilt functions\n",
    "\n",
    "https://www.w3schools.com/python/python_ref_functions.asp\n",
    "\n",
    "\n",
    "https://docs.python.org/3/library/functions.html"
   ]
  },
  {
   "cell_type": "code",
   "execution_count": 4,
   "metadata": {},
   "outputs": [
    {
     "name": "stdout",
     "output_type": "stream",
     "text": [
      "0.3\n",
      "3.1\n"
     ]
    }
   ],
   "source": [
    "#absolute value\n",
    "\n",
    "a = -0.3\n",
    "\n",
    "print(abs(a))\n",
    "\n",
    "a = 3.1\n",
    "\n",
    "print(abs(a))"
   ]
  },
  {
   "cell_type": "code",
   "execution_count": 10,
   "metadata": {},
   "outputs": [
    {
     "name": "stdout",
     "output_type": "stream",
     "text": [
      "True\n",
      "False\n",
      "True\n",
      "True\n",
      "False\n"
     ]
    }
   ],
   "source": [
    "#Any function  ==> OR gate\n",
    "\n",
    "print(any((True, True, False)))\n",
    "print(any((False, False, False)))\n",
    "\n",
    "a = 1\n",
    "b = 2\n",
    "c = 0\n",
    "\n",
    "print(any((a, b, c)))\n",
    "print(any((c, c, c)))\n"
   ]
  },
  {
   "cell_type": "code",
   "execution_count": 12,
   "metadata": {},
   "outputs": [
    {
     "name": "stdout",
     "output_type": "stream",
     "text": [
      "True\n",
      "False\n",
      "False\n",
      "False\n"
     ]
    }
   ],
   "source": [
    "#All function  ==> AND gate\n",
    "\n",
    "print(all((True, True, True)))\n",
    "print(all((False, False, False)))\n",
    "\n",
    "a = 1\n",
    "b = 2\n",
    "c = 0\n",
    "\n",
    "print(all((a, b, c)))\n",
    "print(all((c, c, c)))"
   ]
  },
  {
   "cell_type": "code",
   "execution_count": 1,
   "metadata": {},
   "outputs": [
    {
     "name": "stdout",
     "output_type": "stream",
     "text": [
      "0b100\n"
     ]
    }
   ],
   "source": [
    "#bin ==> 0b binary default\n",
    "\n",
    "x = bin(4)\n",
    "print(x)"
   ]
  },
  {
   "cell_type": "code",
   "execution_count": 6,
   "metadata": {},
   "outputs": [
    {
     "name": "stdout",
     "output_type": "stream",
     "text": [
      "0x4\n",
      "0xa\n",
      "0x64\n"
     ]
    }
   ],
   "source": [
    "#hex ===> 0x default\n",
    "\n",
    "x = hex(4)\n",
    "print(x)\n",
    "\n",
    "x = hex(10)\n",
    "print(x)\n",
    "\n",
    "x = hex(100)\n",
    "print(x)\n",
    "\n",
    "#loop + hex\n",
    "\n",
    "#loop + range + hex\n",
    "\n",
    "#(100, 200, 8)\n"
   ]
  },
  {
   "cell_type": "code",
   "execution_count": 8,
   "metadata": {},
   "outputs": [
    {
     "name": "stdout",
     "output_type": "stream",
     "text": [
      "a\n",
      "y\n"
     ]
    }
   ],
   "source": [
    "#chr ==> ascii value to original\n",
    "asc = chr(97)\n",
    "\n",
    "print(asc)\n",
    "\n",
    "asc = chr(121)\n",
    "\n",
    "print(asc)"
   ]
  },
  {
   "cell_type": "code",
   "execution_count": 14,
   "metadata": {},
   "outputs": [
    {
     "name": "stdout",
     "output_type": "stream",
     "text": [
      "python\n",
      "100\n"
     ]
    }
   ],
   "source": [
    "#eval ===> Function is returning None\n",
    "#exec os.system ===>\n",
    "\n",
    "x = 'print(\"python\")'\n",
    "eval(x)\n",
    "\n",
    "x = 'print(100)'\n",
    "eval(x)"
   ]
  },
  {
   "cell_type": "code",
   "execution_count": 15,
   "metadata": {},
   "outputs": [
    {
     "name": "stdout",
     "output_type": "stream",
     "text": [
      "(3, 1)\n"
     ]
    }
   ],
   "source": [
    "#divmod  ===> division , remainder\n",
    "\n",
    "val = divmod(10,3)\n",
    "print(val)"
   ]
  },
  {
   "cell_type": "code",
   "execution_count": 19,
   "metadata": {},
   "outputs": [
    {
     "name": "stdout",
     "output_type": "stream",
     "text": [
      "256\n",
      "8\n"
     ]
    }
   ],
   "source": [
    "#pow ==> Shift + tab\n",
    "\n",
    "val = pow(4,4) #two args ===> x ** y\n",
    "print(val)\n",
    "\n",
    "val = pow(10,3,992) #three args ===> (x ** y) % z \n",
    "print(val)"
   ]
  },
  {
   "cell_type": "code",
   "execution_count": 18,
   "metadata": {},
   "outputs": [
    {
     "name": "stdout",
     "output_type": "stream",
     "text": [
      "Help on built-in function pow in module builtins:\n",
      "\n",
      "pow(x, y, z=None, /)\n",
      "    Equivalent to x**y (with two arguments) or x**y % z (with three arguments)\n",
      "    \n",
      "    Some types, such as ints, are able to use a more efficient algorithm when\n",
      "    invoked using the three argument form.\n",
      "\n"
     ]
    }
   ],
   "source": [
    "help(pow)"
   ]
  },
  {
   "cell_type": "code",
   "execution_count": 20,
   "metadata": {},
   "outputs": [
    {
     "name": "stdout",
     "output_type": "stream",
     "text": [
      "0o11\n"
     ]
    }
   ],
   "source": [
    "#oct ===> 0o octal prefix\n",
    "\n",
    "x = oct(9)\n",
    "print(x)"
   ]
  },
  {
   "cell_type": "code",
   "execution_count": 28,
   "metadata": {},
   "outputs": [
    {
     "name": "stdout",
     "output_type": "stream",
     "text": [
      "[0, 1, 2, 3, 4, 5, 6, 7, 8, 9]\n",
      "[10, 11, 12, 13, 14, 15, 16, 17, 18, 19]\n",
      "[24, 32, 40, 48, 56]\n",
      "[56, 48, 40, 32, 24]\n"
     ]
    }
   ],
   "source": [
    "#Indexing ==> range\n",
    "print(list(range(10))) #Single arg ==> from 0 up to n-1\n",
    "\n",
    "print(list(range(10,20)))\n",
    "\n",
    "print(list(range(24,64,8)))\n",
    "\n",
    "print(list(range(56,23,-8)))\n",
    "\n",
    "#[24,32,40,48,56]\n",
    "#[56,48,40,32,24]"
   ]
  },
  {
   "cell_type": "code",
   "execution_count": 33,
   "metadata": {},
   "outputs": [
    {
     "name": "stdout",
     "output_type": "stream",
     "text": [
      "['z', 'b', 'a', 'Y', 'A']\n"
     ]
    }
   ],
   "source": [
    "#sorted #Sort() in list\n",
    "\n",
    "a = [\"a\",\"A\",\"b\",\"z\",\"Y\"]\n",
    "a = sorted(a, reverse = True)\n",
    "print(a)"
   ]
  },
  {
   "cell_type": "code",
   "execution_count": null,
   "metadata": {},
   "outputs": [],
   "source": [
    "#id\n",
    "#input\n",
    "#int\n",
    "#bool\n",
    "#float\n",
    "#str\n",
    "#list\n",
    "#tuple\n",
    "#dict\n",
    "#set\n",
    "#print\n",
    "#type"
   ]
  },
  {
   "cell_type": "code",
   "execution_count": 6,
   "metadata": {},
   "outputs": [
    {
     "name": "stdout",
     "output_type": "stream",
     "text": [
      "6\n",
      "5.00035\n"
     ]
    }
   ],
   "source": [
    "#round\n",
    "\n",
    "x = round(5.99999)\n",
    "\n",
    "print(x)\n",
    "\n",
    "x = round(5.000345,5) #default = 0\n",
    "\n",
    "print(x)"
   ]
  },
  {
   "cell_type": "code",
   "execution_count": 9,
   "metadata": {},
   "outputs": [
    {
     "name": "stdout",
     "output_type": "stream",
     "text": [
      "frozenset({'p', 'z', 'v', 'a'})\n"
     ]
    }
   ],
   "source": [
    "#Frozenset  ==> set + inchangabale (set + tuple)\n",
    "\n",
    "a = [\"a\", \"v\", \"p\", \"z\", \"a\"]\n",
    "\n",
    "val = frozenset(a)\n",
    "\n",
    "#val[1] = \"K\"\n",
    "\n",
    "print(val)"
   ]
  },
  {
   "cell_type": "code",
   "execution_count": 13,
   "metadata": {},
   "outputs": [
    {
     "name": "stdout",
     "output_type": "stream",
     "text": [
      "[(100, 'python'), (101, 'perl'), (102, 'php'), (103, 'pascal')]\n",
      "[(0, 'python'), (1, 'perl'), (2, 'php'), (3, 'pascal')]\n"
     ]
    }
   ],
   "source": [
    "#enumerate\n",
    "\n",
    "a = [\"python\", \"perl\", \"php\", \"pascal\"]\n",
    "\n",
    "val = list(enumerate(a,100)) #starting value\n",
    "\n",
    "print(val)\n",
    "\n",
    "val = list(enumerate(a))  #with out starting value ==> 0\n",
    "\n",
    "print(val)"
   ]
  },
  {
   "cell_type": "code",
   "execution_count": null,
   "metadata": {},
   "outputs": [],
   "source": [
    "#Test:\n",
    "\n",
    "#Sunday/#sunday ===> 25 mcq + 5 pgms (3 hard + 2 easy ) ===> upto Functions  ===> 1 hours\n",
    "\n",
    "#Mean / Median ==> \n",
    "\n",
    "#1. collect list from user\n",
    "#Mean median\n",
    "\n",
    "\n",
    "#2.anagram \n",
    "#string1 ==> top  string2 ==> pto   ===> anagram\n",
    "\n",
    "\n",
    "#3. palindrame (string == rev (string))\n",
    "#malayalam or da"
   ]
  },
  {
   "cell_type": "code",
   "execution_count": null,
   "metadata": {},
   "outputs": [],
   "source": [
    "#predicate"
   ]
  }
 ],
 "metadata": {
  "kernelspec": {
   "display_name": "Python 3",
   "language": "python",
   "name": "python3"
  },
  "language_info": {
   "codemirror_mode": {
    "name": "ipython",
    "version": 3
   },
   "file_extension": ".py",
   "mimetype": "text/x-python",
   "name": "python",
   "nbconvert_exporter": "python",
   "pygments_lexer": "ipython3",
   "version": "3.7.6"
  }
 },
 "nbformat": 4,
 "nbformat_minor": 4
}
