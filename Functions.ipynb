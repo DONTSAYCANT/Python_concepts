{
 "cells": [
  {
   "cell_type": "code",
   "execution_count": null,
   "metadata": {},
   "outputs": [],
   "source": [
    "#What ? block code to do specific task\n",
    "\n",
    "#Functions ==> \n",
    "\n",
    "#print, input ==> inbuilt functions\n",
    "#User defined function\n",
    "\n",
    "#keyword ===> def \n",
    "\n",
    "#Reuse and reduce number of lines\n",
    "\n",
    "#Function def is once and function call n number of times\n",
    "#In python function def should come first\n",
    "#number of args in function call is equal no of args in function def (exceptions like polymorphism)\n",
    "#return is not mandatory but good to use which is last line of the function (after return nothing will work)\n"
   ]
  },
  {
   "cell_type": "code",
   "execution_count": 1,
   "metadata": {},
   "outputs": [
    {
     "name": "stdout",
     "output_type": "stream",
     "text": [
      "729\n"
     ]
    }
   ],
   "source": [
    "#Difference user def and inbuilt function\n",
    "\n",
    "#Function def ==> get one input, process the input, return the output ===> explains the task\n",
    "def cube(x):\n",
    "    val = x ** 3\n",
    "    return val\n",
    "\n",
    "\n",
    "#function call ==> calling the definition\n",
    "print(cube(9))\n",
    "print(cube(10))\n",
    "print(cube(11))\n",
    "\n"
   ]
  },
  {
   "cell_type": "code",
   "execution_count": 6,
   "metadata": {},
   "outputs": [
    {
     "name": "stdout",
     "output_type": "stream",
     "text": [
      "900\n",
      "600\n",
      "1\n"
     ]
    }
   ],
   "source": [
    "#function with two args\n",
    "#x,y ==> local variables\n",
    "\n",
    "v = 10\n",
    "\n",
    "def cube(x,y):\n",
    "    val = x * y *v\n",
    "    return val\n",
    "\n",
    "def prod(x,y):\n",
    "    val = x // y\n",
    "    return val\n",
    "\n",
    "\n",
    "print(cube(9,10))\n",
    "print(cube(12,5))\n",
    "print(prod(12,10))\n"
   ]
  },
  {
   "cell_type": "code",
   "execution_count": 11,
   "metadata": {},
   "outputs": [
    {
     "name": "stdout",
     "output_type": "stream",
     "text": [
      "hi\n",
      "Odd\n"
     ]
    }
   ],
   "source": [
    "def odd_even(x):\n",
    "    val = x % 2\n",
    "    print(\"hi\")\n",
    "    if val:\n",
    "        return \"Odd\"\n",
    "    else:\n",
    "        return \"Even\"\n",
    "\n",
    "print(odd_even(21))\n"
   ]
  },
  {
   "cell_type": "code",
   "execution_count": null,
   "metadata": {},
   "outputs": [],
   "source": [
    "#"
   ]
  }
 ],
 "metadata": {
  "kernelspec": {
   "display_name": "Python 3",
   "language": "python",
   "name": "python3"
  },
  "language_info": {
   "codemirror_mode": {
    "name": "ipython",
    "version": 3
   },
   "file_extension": ".py",
   "mimetype": "text/x-python",
   "name": "python",
   "nbconvert_exporter": "python",
   "pygments_lexer": "ipython3",
   "version": "3.7.6"
  }
 },
 "nbformat": 4,
 "nbformat_minor": 4
}
