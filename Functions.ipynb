{
 "cells": [
  {
   "cell_type": "code",
   "execution_count": null,
   "metadata": {},
   "outputs": [],
   "source": [
    "#What ? block code to do specific task\n",
    "\n",
    "#Functions ==> \n",
    "\n",
    "#print, input ==> inbuilt functions\n",
    "#User defined function\n",
    "\n",
    "#keyword ===> def \n",
    "\n",
    "#Reuse and reduce number of lines\n",
    "\n",
    "#Function def is once and function call n number of times\n",
    "#In python function def should come first\n",
    "#number of args in function call is equal no of args in function def (exceptions like polymorphism)\n",
    "#return is not mandatory but good to use which is last line of the function (after return nothing will work)\n"
   ]
  },
  {
   "cell_type": "code",
   "execution_count": 1,
   "metadata": {},
   "outputs": [
    {
     "name": "stdout",
     "output_type": "stream",
     "text": [
      "729\n"
     ]
    }
   ],
   "source": [
    "#Difference user def and inbuilt function\n",
    "\n",
    "#Function def ==> get one input, process the input, return the output ===> explains the task\n",
    "def cube(x):\n",
    "    val = x ** 3\n",
    "    return val\n",
    "\n",
    "\n",
    "#function call ==> calling the definition\n",
    "print(cube(9))\n",
    "print(cube(10))\n",
    "print(cube(11))\n",
    "\n"
   ]
  },
  {
   "cell_type": "code",
   "execution_count": 6,
   "metadata": {},
   "outputs": [
    {
     "name": "stdout",
     "output_type": "stream",
     "text": [
      "900\n",
      "600\n",
      "1\n"
     ]
    }
   ],
   "source": [
    "#function with two args\n",
    "#x,y ==> local variables\n",
    "\n",
    "v = 10\n",
    "\n",
    "def cube(x,y):\n",
    "    val = x * y *v\n",
    "    return val\n",
    "\n",
    "def prod(x,y):\n",
    "    val = x // y\n",
    "    return val\n",
    "\n",
    "\n",
    "print(cube(9,10))\n",
    "print(cube(12,5))\n",
    "print(prod(12,10))\n"
   ]
  },
  {
   "cell_type": "code",
   "execution_count": 11,
   "metadata": {},
   "outputs": [
    {
     "name": "stdout",
     "output_type": "stream",
     "text": [
      "hi\n",
      "Odd\n"
     ]
    }
   ],
   "source": [
    "def odd_even(x):\n",
    "    val = x % 2\n",
    "    print(\"hi\")\n",
    "    if val:\n",
    "        return \"Odd\"\n",
    "    else:\n",
    "        return \"Even\"\n",
    "\n",
    "print(odd_even(21))\n"
   ]
  },
  {
   "cell_type": "code",
   "execution_count": null,
   "metadata": {},
   "outputs": [],
   "source": [
    "#Recursion\n",
    "\n",
    "#function call is also available inside function definition\n",
    "\n",
    "#Calling the same itself in definition \n",
    "\n"
   ]
  },
  {
   "cell_type": "code",
   "execution_count": null,
   "metadata": {},
   "outputs": [],
   "source": [
    "Jumping on the Clouds\n",
    "\n",
    "def jumpingOnClouds(c):\n",
    "    if len(c) == 1:\n",
    "        return 0\n",
    "    elif len(c) == 2 and c[1] == 0:\n",
    "        return 1\n",
    "    elif len(c) == 2 and c[1] == 1:\n",
    "        return 0\n",
    "    elif len(c) > 2 and c[2] == 0:\n",
    "        return 1 + jumpingOnClouds(c[2:])\n",
    "    elif len(c) > 2 and c[2] == 1:\n",
    "        return 1 + jumpingOnClouds(c[1:])"
   ]
  },
  {
   "cell_type": "code",
   "execution_count": 2,
   "metadata": {},
   "outputs": [
    {
     "name": "stdout",
     "output_type": "stream",
     "text": [
      "120\n"
     ]
    }
   ],
   "source": [
    "#Recursion\n",
    "\n",
    "#factorial\n",
    "\n",
    "def fact(n):\n",
    "    if n == 0:\n",
    "        return 1\n",
    "    elif n == 1:\n",
    "        return 1\n",
    "    else:\n",
    "        return n * fact(n-1)\n",
    "    \n",
    "print(fact(5))    "
   ]
  },
  {
   "cell_type": "code",
   "execution_count": 7,
   "metadata": {},
   "outputs": [
    {
     "name": "stdout",
     "output_type": "stream",
     "text": [
      "9\n",
      "81\n"
     ]
    }
   ],
   "source": [
    "#returning multiple values\n",
    "\n",
    "def val(n):\n",
    "    return n , n*n , n**2\n",
    "\n",
    "a,b,c = val(9)\n",
    "print(a)\n",
    "print(b)"
   ]
  },
  {
   "cell_type": "code",
   "execution_count": 9,
   "metadata": {},
   "outputs": [
    {
     "name": "stdout",
     "output_type": "stream",
     "text": [
      "7\n",
      "12\n"
     ]
    }
   ],
   "source": [
    "#Neglect\n",
    "\n",
    "\n",
    "def val(x,y,z=0):\n",
    "    return x + y + z\n",
    "\n",
    "print(val(3,4))\n",
    "print(val(3,4,5))\n",
    "\n"
   ]
  },
  {
   "cell_type": "code",
   "execution_count": null,
   "metadata": {},
   "outputs": [],
   "source": []
  }
 ],
 "metadata": {
  "kernelspec": {
   "display_name": "Python 3",
   "language": "python",
   "name": "python3"
  },
  "language_info": {
   "codemirror_mode": {
    "name": "ipython",
    "version": 3
   },
   "file_extension": ".py",
   "mimetype": "text/x-python",
   "name": "python",
   "nbconvert_exporter": "python",
   "pygments_lexer": "ipython3",
   "version": "3.7.6"
  }
 },
 "nbformat": 4,
 "nbformat_minor": 4
}
