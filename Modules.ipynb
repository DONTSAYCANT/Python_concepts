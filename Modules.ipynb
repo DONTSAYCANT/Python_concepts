{
 "cells": [
  {
   "cell_type": "code",
   "execution_count": null,
   "metadata": {},
   "outputs": [],
   "source": [
    "#Modules ==> libraries\n",
    "\n",
    "#keyword: import"
   ]
  },
  {
   "cell_type": "code",
   "execution_count": 3,
   "metadata": {},
   "outputs": [],
   "source": [
    "import math\n",
    "\n",
    "import os\n",
    "\n",
    "import sys\n",
    "\n",
    "import re #regular expression\n",
    "\n",
    "import random #random operations\n",
    "\n",
    "import statistics\n",
    "\n",
    "import collections #Advanced data structure operations\n",
    "\n",
    "import json #json related activities"
   ]
  },
  {
   "cell_type": "code",
   "execution_count": 1,
   "metadata": {},
   "outputs": [
    {
     "name": "stdout",
     "output_type": "stream",
     "text": [
      "\n",
      "Please wait a moment while I gather a list of all available modules...\n",
      "\n"
     ]
    },
    {
     "name": "stderr",
     "output_type": "stream",
     "text": [
      "C:\\Users\\kanna\\Anaconda3\\lib\\site-packages\\IPython\\kernel\\__init__.py:13: ShimWarning: The `IPython.kernel` package has been deprecated since IPython 4.0.You should import from ipykernel or jupyter_client instead.\n",
      "  \"You should import from ipykernel or jupyter_client instead.\", ShimWarning)\n",
      "distributed.dashboard.proxy - INFO - To route to workers diagnostics web server please install jupyter-server-proxy: python -m pip install jupyter-server-proxy\n",
      "C:\\Users\\kanna\\Anaconda3\\lib\\site-packages\\nltk\\twitter\\__init__.py:22: UserWarning: The twython library has not been installed. Some functionality from the twitter package will not be available.\n",
      "  \"The twython library has not been installed. \"\n",
      "C:\\Users\\kanna\\Anaconda3\\lib\\site-packages\\skimage\\viewer\\utils\\__init__.py:1: UserWarning: Recommended matplotlib backend is `Agg` for full skimage.viewer functionality.\n",
      "  from .core import *\n",
      "C:\\Users\\kanna\\Anaconda3\\lib\\site-packages\\sklearn\\externals\\joblib\\__init__.py:15: FutureWarning: sklearn.externals.joblib is deprecated in 0.21 and will be removed in 0.23. Please import this functionality directly from joblib, which can be installed with: pip install joblib. If this warning is raised when loading pickled models, you may need to re-serialize those models with scikit-learn 0.21+.\n",
      "  warnings.warn(msg, category=FutureWarning)\n",
      "C:\\Users\\kanna\\Anaconda3\\lib\\site-packages\\qtawesome\\iconic_font.py:312: UserWarning: You need to have a running QApplication to use QtAwesome!\n",
      "  warnings.warn(\"You need to have a running \"\n",
      "C:\\Users\\kanna\\Anaconda3\\lib\\site-packages\\tensorboard\\compat\\tensorflow_stub\\dtypes.py:541: FutureWarning: Passing (type, 1) or '1type' as a synonym of type is deprecated; in a future version of numpy, it will be understood as (type, (1,)) / '(1,)type'.\n",
      "  _np_qint8 = np.dtype([(\"qint8\", np.int8, 1)])\n",
      "C:\\Users\\kanna\\Anaconda3\\lib\\site-packages\\tensorboard\\compat\\tensorflow_stub\\dtypes.py:542: FutureWarning: Passing (type, 1) or '1type' as a synonym of type is deprecated; in a future version of numpy, it will be understood as (type, (1,)) / '(1,)type'.\n",
      "  _np_quint8 = np.dtype([(\"quint8\", np.uint8, 1)])\n",
      "C:\\Users\\kanna\\Anaconda3\\lib\\site-packages\\tensorboard\\compat\\tensorflow_stub\\dtypes.py:543: FutureWarning: Passing (type, 1) or '1type' as a synonym of type is deprecated; in a future version of numpy, it will be understood as (type, (1,)) / '(1,)type'.\n",
      "  _np_qint16 = np.dtype([(\"qint16\", np.int16, 1)])\n",
      "C:\\Users\\kanna\\Anaconda3\\lib\\site-packages\\tensorboard\\compat\\tensorflow_stub\\dtypes.py:544: FutureWarning: Passing (type, 1) or '1type' as a synonym of type is deprecated; in a future version of numpy, it will be understood as (type, (1,)) / '(1,)type'.\n",
      "  _np_quint16 = np.dtype([(\"quint16\", np.uint16, 1)])\n",
      "C:\\Users\\kanna\\Anaconda3\\lib\\site-packages\\tensorboard\\compat\\tensorflow_stub\\dtypes.py:545: FutureWarning: Passing (type, 1) or '1type' as a synonym of type is deprecated; in a future version of numpy, it will be understood as (type, (1,)) / '(1,)type'.\n",
      "  _np_qint32 = np.dtype([(\"qint32\", np.int32, 1)])\n",
      "C:\\Users\\kanna\\Anaconda3\\lib\\site-packages\\tensorboard\\compat\\tensorflow_stub\\dtypes.py:550: FutureWarning: Passing (type, 1) or '1type' as a synonym of type is deprecated; in a future version of numpy, it will be understood as (type, (1,)) / '(1,)type'.\n",
      "  np_resource = np.dtype([(\"resource\", np.ubyte, 1)])\n",
      "C:\\Users\\kanna\\Anaconda3\\lib\\site-packages\\tensorflow\\python\\framework\\dtypes.py:523: FutureWarning: Passing (type, 1) or '1type' as a synonym of type is deprecated; in a future version of numpy, it will be understood as (type, (1,)) / '(1,)type'.\n",
      "  _np_qint8 = np.dtype([(\"qint8\", np.int8, 1)])\n",
      "C:\\Users\\kanna\\Anaconda3\\lib\\site-packages\\tensorflow\\python\\framework\\dtypes.py:524: FutureWarning: Passing (type, 1) or '1type' as a synonym of type is deprecated; in a future version of numpy, it will be understood as (type, (1,)) / '(1,)type'.\n",
      "  _np_quint8 = np.dtype([(\"quint8\", np.uint8, 1)])\n",
      "C:\\Users\\kanna\\Anaconda3\\lib\\site-packages\\tensorflow\\python\\framework\\dtypes.py:525: FutureWarning: Passing (type, 1) or '1type' as a synonym of type is deprecated; in a future version of numpy, it will be understood as (type, (1,)) / '(1,)type'.\n",
      "  _np_qint16 = np.dtype([(\"qint16\", np.int16, 1)])\n",
      "C:\\Users\\kanna\\Anaconda3\\lib\\site-packages\\tensorflow\\python\\framework\\dtypes.py:526: FutureWarning: Passing (type, 1) or '1type' as a synonym of type is deprecated; in a future version of numpy, it will be understood as (type, (1,)) / '(1,)type'.\n",
      "  _np_quint16 = np.dtype([(\"quint16\", np.uint16, 1)])\n",
      "C:\\Users\\kanna\\Anaconda3\\lib\\site-packages\\tensorflow\\python\\framework\\dtypes.py:527: FutureWarning: Passing (type, 1) or '1type' as a synonym of type is deprecated; in a future version of numpy, it will be understood as (type, (1,)) / '(1,)type'.\n",
      "  _np_qint32 = np.dtype([(\"qint32\", np.int32, 1)])\n",
      "C:\\Users\\kanna\\Anaconda3\\lib\\site-packages\\tensorflow\\python\\framework\\dtypes.py:532: FutureWarning: Passing (type, 1) or '1type' as a synonym of type is deprecated; in a future version of numpy, it will be understood as (type, (1,)) / '(1,)type'.\n",
      "  np_resource = np.dtype([(\"resource\", np.ubyte, 1)])\n",
      "C:\\Users\\kanna\\Anaconda3\\lib\\pkgutil.py:107: VisibleDeprecationWarning: zmq.eventloop.minitornado is deprecated in pyzmq 14.0 and will be removed.\n",
      "    Install tornado itself to use zmq with the tornado IOLoop.\n",
      "    \n",
      "  yield from walk_packages(path, info.name+'.', onerror)\n"
     ]
    },
    {
     "name": "stdout",
     "output_type": "stream",
     "text": [
      "Crypto              brain_typing        matplotlib          smtpd\n",
      "Cython              brain_uuid          mccabe              smtplib\n",
      "IPython             bs4                 menuinst            sndhdr\n",
      "OpenSSL             builtins            mimetypes           snowballstemmer\n",
      "PIL                 bz2                 mistune             socket\n",
      "PyQt5               cProfile            mkl                 socketserver\n",
      "__future__          cachetools          mkl_fft             socks\n",
      "_abc                calendar            mkl_random          sockshandler\n",
      "_ast                certifi             mmap                sortedcollections\n",
      "_asyncio            cffi                mmapfile            sortedcontainers\n",
      "_bisect             cgi                 mmsystem            soupsieve\n",
      "_blake2             cgitb               mock                sphinx\n",
      "_bootlocale         chardet             modulefinder        sphinxcontrib\n",
      "_bz2                chunk               more_itertools      spyder\n",
      "_cffi_backend       click               mpmath              spyder_kernels\n",
      "_codecs             cloudpickle         msgpack             sqlalchemy\n",
      "_codecs_cn          clyent              msilib              sqlite3\n",
      "_codecs_hk          cmath               msvcrt              sre_compile\n",
      "_codecs_iso2022     cmd                 multipledispatch    sre_constants\n",
      "_codecs_jp          code                multiprocessing     sre_parse\n",
      "_codecs_kr          codecs              nacl                ssl\n",
      "_codecs_tw          codeop              navigator_updater   sspi\n",
      "_collections        collections         nbconvert           sspicon\n",
      "_collections_abc    colorama            nbformat            stat\n",
      "_compat_pickle      colorsys            netbios             statistics\n",
      "_compression        commctrl            netrc               statsmodels\n",
      "_contextvars        compileall          networkx            storemagic\n",
      "_csv                comtypes            nltk                string\n",
      "_ctypes             concurrent          nntplib             stringprep\n",
      "_ctypes_test        conda               nose                struct\n",
      "_datetime           conda_build         notebook            subprocess\n",
      "_decimal            conda_env           nt                  sunau\n",
      "_dummy_thread       conda_package_handling ntpath              symbol\n",
      "_elementtree        conda_verify        ntsecuritycon       sympy\n",
      "_functools          configparser        nturl2path          sympyprinting\n",
      "_hashlib            contextlib          numba               symtable\n",
      "_heapq              contextlib2         numbers             sys\n",
      "_imp                contextvars         numexpr             sysconfig\n",
      "_io                 copy                numpy               tables\n",
      "_json               copyreg             numpydoc            tabnanny\n",
      "_locale             crypt               oauthlib            tarfile\n",
      "_lsprof             cryptography        odbc                tblib\n",
      "_lzma               csv                 olefile             telnetlib\n",
      "_markupbase         ctypes              opcode              tempfile\n",
      "_md5                curl                openpyxl            tensorboard\n",
      "_msi                curses              operator            tensorboard_plugin_wit\n",
      "_multibytecodec     cwp                 opt_einsum          tensorflow\n",
      "_multiprocessing    cycler              optparse            tensorflow_estimator\n",
      "_nsis               cython              os                  termcolor\n",
      "_opcode             cythonmagic         packaging           terminado\n",
      "_operator           cytoolz             pandas              test\n",
      "_osx_support        dask                pandocfilters       test_data\n",
      "_overlapped         dataclasses         paramiko            test_pycosat\n",
      "_pickle             datetime            parser              testpath\n",
      "_py_abc             dateutil            parso               tests\n",
      "_pydecimal          dbi                 partd               textwrap\n",
      "_pyio               dbm                 past                this\n",
      "_pylief             dde                 pasta               threading\n",
      "_pyrsistent_version decimal             path                time\n",
      "_pytest             decorator           pathlib             timeit\n",
      "_queue              defusedxml          pathlib2            timer\n",
      "_random             diff_match_patch    pathtools           tkinter\n",
      "_sha1               difflib             patsy               tlz\n",
      "_sha256             dis                 pdb                 token\n",
      "_sha3               distributed         pep8                tokenize\n",
      "_sha512             distutils           perfmon             toolz\n",
      "_signal             doctest             pexpect             tornado\n",
      "_sitebuiltins       docutils            pickle              tqdm\n",
      "_socket             dummy_threading     pickleshare         trace\n",
      "_sqlite3            easy_install        pickletools         traceback\n",
      "_sre                email               pip                 tracemalloc\n",
      "_ssl                encodings           pipes               traitlets\n",
      "_stat               ensurepip           pkg_resources       tty\n",
      "_string             entrypoints         pkginfo             turtle\n",
      "_strptime           enum                pkgutil             turtledemo\n",
      "_struct             errno               platform            types\n",
      "_symtable           et_xmlfile          plistlib            typing\n",
      "_system_path        fastcache           pluggy              ujson\n",
      "_testbuffer         faulthandler        ply                 unicodecsv\n",
      "_testcapi           filecmp             poplib              unicodedata\n",
      "_testconsole        fileinput           posixpath           unittest\n",
      "_testimportmultiple filelock            pprint              urllib\n",
      "_testmultiphase     flake8              profile             urllib3\n",
      "_thread             flask               prometheus_client   uu\n",
      "_threading_local    fnmatch             prompt_toolkit      uuid\n",
      "_tkinter            formatter           pstats              venv\n",
      "_tracemalloc        fractions           psutil              warnings\n",
      "_warnings           fsspec              pty                 watchdog\n",
      "_weakref            ftplib              pvectorc            wave\n",
      "_weakrefset         functools           py                  wcwidth\n",
      "_win32sysloader     future              py_compile          weakref\n",
      "_winapi             gast                pyasn1              webbrowser\n",
      "_winxptheme         gc                  pyasn1_modules      webencodings\n",
      "_yaml               genericpath         pyclbr              werkzeug\n",
      "abc                 getopt              pycodestyle         wheel\n",
      "absl                getpass             pycosat             widgetsnbextension\n",
      "adodbapi            gettext             pycparser           win2kras\n",
      "afxres              gevent              pycurl              win32api\n",
      "aifc                glob                pydoc               win32clipboard\n",
      "alabaster           glob2               pydoc_data          win32com\n",
      "anaconda_navigator  google_auth_oauthlib pydocstyle          win32con\n",
      "anaconda_project    greenlet            pyexpat             win32console\n",
      "antigravity         grpc                pyflakes            win32cred\n",
      "argh                gzip                pygments            win32crypt\n",
      "argparse            h5py                pylab               win32cryptcon\n",
      "array               hashlib             pylint              win32ctypes\n",
      "asn1crypto          heapdict            pyls                win32event\n",
      "ast                 heapq               pyls_jsonrpc        win32evtlog\n",
      "astor               hmac                pyodbc              win32evtlogutil\n",
      "astroid             html                pyparsing           win32file\n",
      "astropy             html5lib            pyreadline          win32gui\n",
      "astunparse          http                pyrsistent          win32gui_struct\n",
      "asynchat            hypothesis          pytest              win32help\n",
      "asyncio             idlelib             pytest_arraydiff    win32inet\n",
      "asyncore            idna                pytest_astropy_header win32inetcon\n",
      "atexit              imageio             pytest_doctestplus  win32job\n",
      "atomicwrites        imagesize           pytest_openfiles    win32lz\n"
     ]
    },
    {
     "name": "stdout",
     "output_type": "stream",
     "text": [
      "attr                imaplib             pytest_remotedata   win32net\n",
      "audioop             imghdr              pythoncom           win32netcon\n",
      "autopep8            imp                 pytz                win32pdh\n",
      "autoreload          importlib           pywin               win32pdhquery\n",
      "babel               importlib_metadata  pywin32_bootstrap   win32pdhutil\n",
      "backcall            inspect             pywin32_testutil    win32pipe\n",
      "backports           intervaltree        pywintypes          win32print\n",
      "base64              io                  pywt                win32process\n",
      "bcrypt              ipaddress           pyximport           win32profile\n",
      "bdb                 ipykernel           qdarkstyle          win32ras\n",
      "binascii            ipykernel_launcher  qtawesome           win32rcparser\n",
      "binhex              ipython_genutils    qtconsole           win32security\n",
      "binstar_client      ipywidgets          qtpy                win32service\n",
      "bisect              isapi               queue               win32serviceutil\n",
      "bitarray            isort               quopri              win32timezone\n",
      "bkcharts            isympy              random              win32trace\n",
      "bleach              itertools           rasutil             win32traceutil\n",
      "bokeh               itsdangerous        re                  win32transaction\n",
      "boto                jdcal               readline            win32ts\n",
      "bottleneck          jedi                regcheck            win32ui\n",
      "brain_argparse      jinja2              regutil             win32uiole\n",
      "brain_attrs         joblib              reprlib             win32verstamp\n",
      "brain_builtin_inference json                requests            win32wnet\n",
      "brain_collections   json5               requests_oauthlib   win_inet_pton\n",
      "brain_crypt         jsonschema          rlcompleter         win_unicode_console\n",
      "brain_curses        jupyter             rmagic              wincertstore\n",
      "brain_dataclasses   jupyter_client      rope                winerror\n",
      "brain_dateutil      jupyter_console     rsa                 winioctlcon\n",
      "brain_fstrings      jupyter_core        rtree               winnt\n",
      "brain_functools     jupyterlab          ruamel_yaml         winperf\n",
      "brain_gi            jupyterlab_server   run                 winpty\n",
      "brain_hashlib       keras_applications  runpy               winreg\n",
      "brain_http          keras_preprocessing sched               winsound\n",
      "brain_io            keyring             scipy               winxpgui\n",
      "brain_mechanize     keyword             scripts             winxptheme\n",
      "brain_multiprocessing kiwisolver          seaborn             wrapt\n",
      "brain_namedtuple_enum lazy_object_proxy   secrets             wsgiref\n",
      "brain_nose          lib2to3             select              xdrlib\n",
      "brain_numpy_core_fromnumeric libarchive          selectors           xlrd\n",
      "brain_numpy_core_function_base libfuturize         send2trash          xlsxwriter\n",
      "brain_numpy_core_multiarray libpasteurize       servicemanager      xlwings\n",
      "brain_numpy_core_numeric lief                setuptools          xlwt\n",
      "brain_numpy_core_numerictypes linecache           shelve              xml\n",
      "brain_numpy_core_umath llvmlite            shlex               xmlrpc\n",
      "brain_numpy_ndarray locale              shutil              xmltodict\n",
      "brain_numpy_random_mtrand locket              signal              xxsubtype\n",
      "brain_numpy_utils   logging             simplegeneric       yaml\n",
      "brain_pkg_resources lxml                singledispatch      yapf\n",
      "brain_pytest        lzma                singledispatch_helpers yapftests\n",
      "brain_qt            macpath             sip                 zict\n",
      "brain_random        mailbox             sipconfig           zipapp\n",
      "brain_re            mailcap             sipdistutils        zipfile\n",
      "brain_six           markdown            site                zipimport\n",
      "brain_ssl           markupsafe          six                 zipp\n",
      "brain_subprocess    marshal             skimage             zlib\n",
      "brain_threading     math                sklearn             zmq\n",
      "\n",
      "Enter any module name to get more help.  Or, type \"modules spam\" to search\n",
      "for modules whose name or summary contain the string \"spam\".\n",
      "\n"
     ]
    }
   ],
   "source": [
    "help(\"modules\")"
   ]
  },
  {
   "cell_type": "markdown",
   "metadata": {},
   "source": [
    "## Method 1: Calling modules"
   ]
  },
  {
   "cell_type": "code",
   "execution_count": 11,
   "metadata": {},
   "outputs": [
    {
     "name": "stdout",
     "output_type": "stream",
     "text": [
      "3.1622776601683795\n",
      "10\n",
      "11\n",
      "120\n"
     ]
    }
   ],
   "source": [
    "import math\n",
    "\n",
    "print(math.sqrt(10))\n",
    "print(math.floor(10.9999))\n",
    "print(math.ceil(10.9999))\n",
    "\n",
    "print(math.factorial(5))\n",
    "\n"
   ]
  },
  {
   "cell_type": "code",
   "execution_count": 12,
   "metadata": {},
   "outputs": [
    {
     "name": "stdout",
     "output_type": "stream",
     "text": [
      "4\n"
     ]
    }
   ],
   "source": [
    "import statistics\n",
    "\n",
    "print(statistics.median([10,2,3,4,11,23,33,45,3,2,1]))"
   ]
  },
  {
   "cell_type": "code",
   "execution_count": 6,
   "metadata": {},
   "outputs": [
    {
     "name": "stdout",
     "output_type": "stream",
     "text": [
      "['__doc__', '__loader__', '__name__', '__package__', '__spec__', 'acos', 'acosh', 'asin', 'asinh', 'atan', 'atan2', 'atanh', 'ceil', 'copysign', 'cos', 'cosh', 'degrees', 'e', 'erf', 'erfc', 'exp', 'expm1', 'fabs', 'factorial', 'floor', 'fmod', 'frexp', 'fsum', 'gamma', 'gcd', 'hypot', 'inf', 'isclose', 'isfinite', 'isinf', 'isnan', 'ldexp', 'lgamma', 'log', 'log10', 'log1p', 'log2', 'modf', 'nan', 'pi', 'pow', 'radians', 'remainder', 'sin', 'sinh', 'sqrt', 'tan', 'tanh', 'tau', 'trunc']\n"
     ]
    }
   ],
   "source": [
    "print(dir(math))"
   ]
  },
  {
   "cell_type": "code",
   "execution_count": 22,
   "metadata": {},
   "outputs": [
    {
     "name": "stdout",
     "output_type": "stream",
     "text": [
      "MI\n",
      "SRH\n",
      "RCB\n",
      "MI\n",
      "DC\n"
     ]
    }
   ],
   "source": [
    "import random\n",
    "\n",
    "li = [\"MI\", \"CSK\", \"DC\", \"KKR\", \"KXIP\", \"SRH\", \"RCB\", \"RR\"]\n",
    "\n",
    "print(random.choice(li,))\n",
    "print(random.choice(li))\n",
    "print(random.choice(li))\n",
    "print(random.choice(li))\n",
    "print(random.choice(li))\n",
    "\n",
    "\n"
   ]
  },
  {
   "cell_type": "code",
   "execution_count": 5,
   "metadata": {},
   "outputs": [
    {
     "name": "stdout",
     "output_type": "stream",
     "text": [
      "3.1622776601683795\n"
     ]
    }
   ],
   "source": [
    "print(10 ** (1/2))"
   ]
  },
  {
   "cell_type": "code",
   "execution_count": null,
   "metadata": {},
   "outputs": [],
   "source": [
    "\n",
    "\n"
   ]
  }
 ],
 "metadata": {
  "kernelspec": {
   "display_name": "Python 3",
   "language": "python",
   "name": "python3"
  },
  "language_info": {
   "codemirror_mode": {
    "name": "ipython",
    "version": 3
   },
   "file_extension": ".py",
   "mimetype": "text/x-python",
   "name": "python",
   "nbconvert_exporter": "python",
   "pygments_lexer": "ipython3",
   "version": "3.7.6"
  }
 },
 "nbformat": 4,
 "nbformat_minor": 4
}
