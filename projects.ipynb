{
 "cells": [
  {
   "cell_type": "markdown",
   "metadata": {},
   "source": [
    "\n",
    "# project 1\n",
    "\n",
    "#data structure/data type calculator\n",
    "\n",
    "##################\n",
    "\n",
    "## Welcome to Data structure or Data Type calculator\n",
    "\n",
    "## please select any one Data structure or Data Type\n",
    "\n",
    "#options are \n",
    "\n",
    "1. Number 15 ops\n",
    "2. String 15 ops\n",
    "3. List 15 ops\n",
    "4. Tuple 5 ops\n",
    "5. Dictionary 10 ops\n",
    "6. Set 15 ops\n",
    "7. Data structure (Stack, queue, Linked list)* advanced 6 to 10 ops\n",
    "\n",
    "1\n",
    "Welcome to Numbers operations, please any one operation\n",
    "1. Add\n",
    "2. subtract\n",
    "3. multiply\n",
    ".\n",
    ".\n",
    "15. fibonacci\n",
    "16. Go to the main menu\n",
    "17. Exit from the program\n",
    "\n",
    "2\n",
    "Welcome to subtract opertions\n",
    "Enter first no: 10\n",
    "Enter second num: 5\n",
    "\n",
    "The result is 5\n",
    "\n",
    "99 ===> invalid option\n",
    "\n",
    "\n",
    "#################\n",
    "\n",
    "\n"
   ]
  },
  {
   "cell_type": "code",
   "execution_count": null,
   "metadata": {},
   "outputs": [],
   "source": [
    "#project 2\n",
    "\n",
    "#A-Z a-z 0-9\n",
    "\n",
    "#letter or no\n",
    "#size\n",
    "#marker\n",
    "\n",
    "#https://www.geeksforgeeks.org/print-the-alphabets-a-to-z-in-star-pattern/\n"
   ]
  }
 ],
 "metadata": {
  "kernelspec": {
   "display_name": "Python 3",
   "language": "python",
   "name": "python3"
  },
  "language_info": {
   "codemirror_mode": {
    "name": "ipython",
    "version": 3
   },
   "file_extension": ".py",
   "mimetype": "text/x-python",
   "name": "python",
   "nbconvert_exporter": "python",
   "pygments_lexer": "ipython3",
   "version": "3.7.6"
  }
 },
 "nbformat": 4,
 "nbformat_minor": 4
}
