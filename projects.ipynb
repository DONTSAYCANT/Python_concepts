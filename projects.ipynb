{
 "cells": [
  {
   "cell_type": "markdown",
   "metadata": {},
   "source": [
    "\n",
    "# project 1\n",
    "\n",
    "#data structure/data type calculator\n",
    "\n",
    "##################\n",
    "\n",
    "## Welcome to Data structure or Data Type calculator\n",
    "\n",
    "## please select any one Data structure or Data Type\n",
    "\n",
    "#options are \n",
    "\n",
    "1. Number 15 ops\n",
    "2. String 15 ops\n",
    "3. List 15 ops\n",
    "4. Tuple 5 ops\n",
    "5. Dictionary 10 ops\n",
    "6. Set 15 ops\n",
    "7. Data structure (Stack, queue, Linked list)* advanced 6 to 10 ops\n",
    "\n",
    "1\n",
    "Welcome to Numbers operations, please any one operation\n",
    "1. Add\n",
    "2. subtract\n",
    "3. multiply\n",
    ".\n",
    ".\n",
    "15. fibonacci\n",
    "16. Go to the main menu\n",
    "17. Exit from the program\n",
    "\n",
    "2\n",
    "Welcome to subtract opertions\n",
    "Enter first no: 10\n",
    "Enter second num: 5\n",
    "\n",
    "The result is 5\n",
    "\n",
    "99 ===> invalid option\n",
    "\n",
    "\n",
    "#################\n",
    "\n",
    "\n"
   ]
  },
  {
   "cell_type": "markdown",
   "metadata": {},
   "source": [
    "## project 2"
   ]
  },
  {
   "cell_type": "code",
   "execution_count": 1,
   "metadata": {},
   "outputs": [],
   "source": [
    "\n",
    "\n",
    "#A-Z a-z 0-9\n",
    "\n",
    "#letter or no\n",
    "#size\n",
    "#marker\n",
    "\n",
    "#https://www.geeksforgeeks.org/print-the-alphabets-a-to-z-in-star-pattern/\n"
   ]
  },
  {
   "cell_type": "markdown",
   "metadata": {},
   "source": [
    "## project3"
   ]
  },
  {
   "cell_type": "code",
   "execution_count": null,
   "metadata": {},
   "outputs": [],
   "source": [
    "#resume parser & resume generator (file handling, regex)\n",
    "\n",
    "#resume generator  (user input) ===> output ==> one resume\n",
    "\n",
    "#basic info biodata\n",
    "#educational info\n",
    "#skills\n",
    "#work experience\n",
    "#other works\n",
    "\n",
    "#create resume & provide uses\n",
    "\n",
    "#resume parser input resume output parse and provide or extract important info\n",
    "\n",
    "#gmail id\n",
    "#github id\n",
    "#linkedin id\n",
    "#mobile no\n",
    "#skills\n",
    "#years of experience"
   ]
  },
  {
   "cell_type": "markdown",
   "metadata": {},
   "source": [
    "## project4"
   ]
  },
  {
   "cell_type": "code",
   "execution_count": null,
   "metadata": {},
   "outputs": [],
   "source": [
    "#wiki parser and report generation (regex)\n",
    "\n",
    "#summary page\n",
    "\n",
    "#user input ===> one wiki page\n",
    "\n",
    "#open the page (urllib, request, beautifulsoup) ==> open a url\n",
    "#write regex\n",
    "#create a summary page\n",
    "#downloadable link\n",
    "\n"
   ]
  },
  {
   "cell_type": "code",
   "execution_count": 2,
   "metadata": {},
   "outputs": [
    {
     "name": "stdout",
     "output_type": "stream",
     "text": [
      "please enter the stringbanana\n",
      "please enter substring to check in big stringna\n",
      "2\n"
     ]
    }
   ],
   "source": [
    "#count method in dymanic way\n",
    "big_string = input(\"please enter the string\")\n",
    "\n",
    "countable = input(\"please enter substring to check in big string\")\n",
    "\n",
    "val = big_string.count(countable)\n",
    "\n",
    "print(val)"
   ]
  },
  {
   "cell_type": "code",
   "execution_count": 3,
   "metadata": {},
   "outputs": [
    {
     "name": "stdout",
     "output_type": "stream",
     "text": [
      "enter no of elements in the list3\n",
      "enter element no02\n",
      "enter element no13\n",
      "enter element no2-4\n",
      "[2, 3, -4]\n"
     ]
    }
   ],
   "source": [
    "#How to get dynamic List\n",
    "list_no_of_ele = int(input(\"enter no of elements in the list\"))\n",
    "Dyn_list = []\n",
    "\n",
    "for i in range(list_no_of_ele):\n",
    "    val = int(input(\"enter element no\" + str(i)))\n",
    "    Dyn_list.append(val)\n",
    "    \n",
    "print(Dyn_list)"
   ]
  },
  {
   "cell_type": "code",
   "execution_count": null,
   "metadata": {},
   "outputs": [],
   "source": []
  }
 ],
 "metadata": {
  "kernelspec": {
   "display_name": "Python 3",
   "language": "python",
   "name": "python3"
  },
  "language_info": {
   "codemirror_mode": {
    "name": "ipython",
    "version": 3
   },
   "file_extension": ".py",
   "mimetype": "text/x-python",
   "name": "python",
   "nbconvert_exporter": "python",
   "pygments_lexer": "ipython3",
   "version": "3.7.6"
  }
 },
 "nbformat": 4,
 "nbformat_minor": 4
}
