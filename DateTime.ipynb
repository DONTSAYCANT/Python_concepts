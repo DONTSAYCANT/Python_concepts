{
 "cells": [
  {
   "cell_type": "markdown",
   "metadata": {},
   "source": [
    "Ref: https://www.programiz.com/python-programming/datetime\n",
    "https://www.w3schools.com/python/python_datetime.asp"
   ]
  },
  {
   "cell_type": "code",
   "execution_count": 2,
   "metadata": {},
   "outputs": [],
   "source": [
    "#importing module\n",
    "import datetime"
   ]
  },
  {
   "cell_type": "code",
   "execution_count": 3,
   "metadata": {},
   "outputs": [
    {
     "name": "stdout",
     "output_type": "stream",
     "text": [
      "2020-06-20 11:00:45.129535\n"
     ]
    }
   ],
   "source": [
    "#get the current date and time\n",
    "curr = datetime.datetime.now()\n",
    "print(curr)"
   ]
  },
  {
   "cell_type": "code",
   "execution_count": 6,
   "metadata": {},
   "outputs": [
    {
     "name": "stdout",
     "output_type": "stream",
     "text": [
      "2020-08-30 00:00:00\n"
     ]
    }
   ],
   "source": [
    "#creating a time yyyy mm dd hh mm ss\n",
    "create = datetime.datetime(2020,8,30)\n",
    "print(create)"
   ]
  },
  {
   "cell_type": "code",
   "execution_count": 7,
   "metadata": {},
   "outputs": [
    {
     "name": "stdout",
     "output_type": "stream",
     "text": [
      "2020-06-20\n"
     ]
    }
   ],
   "source": [
    "#Get current date\n",
    "curr_date = datetime.date.today()\n",
    "print(curr_date)"
   ]
  },
  {
   "cell_type": "code",
   "execution_count": 10,
   "metadata": {},
   "outputs": [
    {
     "name": "stdout",
     "output_type": "stream",
     "text": [
      "2020-12-31\n"
     ]
    }
   ],
   "source": [
    "#create only date\n",
    "create_date = datetime.date(2020, 12, 31)\n",
    "print(create_date)"
   ]
  },
  {
   "cell_type": "code",
   "execution_count": 13,
   "metadata": {},
   "outputs": [
    {
     "name": "stdout",
     "output_type": "stream",
     "text": [
      "2020-06-20\n"
     ]
    }
   ],
   "source": [
    "#timestamp to date conversion\n",
    "#timestamp ===> no of seconds from jan 1, 1970\n",
    "#https://www.epochconverter.com/\n",
    "\n",
    "timestamp = datetime.date.fromtimestamp(1592631445)\n",
    "print(timestamp)"
   ]
  },
  {
   "cell_type": "code",
   "execution_count": 28,
   "metadata": {},
   "outputs": [
    {
     "name": "stdout",
     "output_type": "stream",
     "text": [
      "2020-06-20 11:12:29.973399\n",
      "2020\n",
      "6\n",
      "20\n",
      "973399\n",
      "11\n",
      "12\n",
      "29\n",
      "1592631749.973399\n"
     ]
    }
   ],
   "source": [
    "#attributes extraction\n",
    "\n",
    "curr = datetime.datetime.now()\n",
    "print(curr)\n",
    "\n",
    "print(curr.year)\n",
    "print(curr.month)\n",
    "print(curr.day)\n",
    "print(curr.microsecond)\n",
    "print(curr.hour)\n",
    "print(curr.minute)\n",
    "print(curr.second)\n",
    "print(curr.timestamp())\n"
   ]
  },
  {
   "cell_type": "code",
   "execution_count": 32,
   "metadata": {},
   "outputs": [
    {
     "name": "stdout",
     "output_type": "stream",
     "text": [
      "2018-07-29\n",
      "2019-02-26\n",
      "212 days, 0:00:00\n"
     ]
    }
   ],
   "source": [
    "#date creation\n",
    "\n",
    "t1 = datetime.date(year = 2018, month = 7, day=29)\n",
    "print(t1)\n",
    "\n",
    "t2 = datetime.date(year = 2019, month = 2, day=26)\n",
    "print(t2)\n",
    "\n",
    "t3 = t2 - t1\n",
    "print(t3)"
   ]
  },
  {
   "cell_type": "code",
   "execution_count": 36,
   "metadata": {},
   "outputs": [
    {
     "name": "stdout",
     "output_type": "stream",
     "text": [
      "11:00:21\n",
      "8:00:54\n",
      "-1 day, 21:00:33\n",
      "2:59:27\n"
     ]
    }
   ],
   "source": [
    "#time delta\n",
    "\n",
    "from datetime import timedelta\n",
    "\n",
    "\n",
    "t1 = datetime.timedelta(hours = 11, seconds = 21)\n",
    "print(t1)\n",
    "\n",
    "t2 = datetime.timedelta(hours = 8, seconds = 54)\n",
    "\n",
    "print(t2)\n",
    "\n",
    "t3 = t2 - t1\n",
    "print(t3)\n",
    "print(abs(t3))\n"
   ]
  },
  {
   "cell_type": "code",
   "execution_count": 43,
   "metadata": {},
   "outputs": [
    {
     "name": "stdout",
     "output_type": "stream",
     "text": [
      "2020 : June\n",
      "20,June:20\n",
      "172\n"
     ]
    }
   ],
   "source": [
    "#formatting using strftime\n",
    "\n",
    "curr_now = datetime.datetime.now()\n",
    "\n",
    "t_fmt1 = curr_now.strftime(\"%Y : %B\")\n",
    "print(t_fmt1)\n",
    "\n",
    "t_fmt1 = curr_now.strftime(\"%d,%B:%y\")\n",
    "print(t_fmt1)\n",
    "\n",
    "t_fmt1 = curr_now.strftime(\"%j\")\n",
    "print(t_fmt1)"
   ]
  }
 ],
 "metadata": {
  "kernelspec": {
   "display_name": "Python 3",
   "language": "python",
   "name": "python3"
  },
  "language_info": {
   "codemirror_mode": {
    "name": "ipython",
    "version": 3
   },
   "file_extension": ".py",
   "mimetype": "text/x-python",
   "name": "python",
   "nbconvert_exporter": "python",
   "pygments_lexer": "ipython3",
   "version": "3.7.6"
  }
 },
 "nbformat": 4,
 "nbformat_minor": 4
}
