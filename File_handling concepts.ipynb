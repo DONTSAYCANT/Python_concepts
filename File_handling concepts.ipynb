{
 "cells": [
  {
   "cell_type": "code",
   "execution_count": 3,
   "metadata": {},
   "outputs": [],
   "source": [
    "f = open(\"python_concepts_files.txt\")\n",
    "\n",
    "#read mode ===> default mode"
   ]
  },
  {
   "cell_type": "code",
   "execution_count": 11,
   "metadata": {},
   "outputs": [],
   "source": [
    "f = open(\"python_concepts_files.txt\", \"r\")\n",
    "\n",
    "#read mode ===> r\n",
    "#write mode ===> w\n",
    "#append mode ==> a"
   ]
  },
  {
   "cell_type": "code",
   "execution_count": 9,
   "metadata": {},
   "outputs": [
    {
     "name": "stdout",
     "output_type": "stream",
     "text": [
      "hi welcome to python files concept\n"
     ]
    }
   ],
   "source": [
    "print(f.read())"
   ]
  },
  {
   "cell_type": "code",
   "execution_count": 12,
   "metadata": {},
   "outputs": [
    {
     "name": "stdout",
     "output_type": "stream",
     "text": [
      "hi we\n"
     ]
    }
   ],
   "source": [
    "print(f.read(5))"
   ]
  },
  {
   "cell_type": "code",
   "execution_count": 13,
   "metadata": {},
   "outputs": [
    {
     "name": "stdout",
     "output_type": "stream",
     "text": [
      "hi welcome to python files concept\n",
      "\n",
      "hi welcome to python files concept\n",
      "\n",
      "hi welcome to python files concept\n",
      "\n",
      "hi welcome to python files concept\n",
      "\n",
      "hi welcome to python files concept\n"
     ]
    }
   ],
   "source": [
    "f = open(\"python_concepts_files.txt\", \"r\")\n",
    "\n",
    "\n",
    "for i in f:\n",
    "    print(i)"
   ]
  },
  {
   "cell_type": "code",
   "execution_count": 15,
   "metadata": {},
   "outputs": [
    {
     "name": "stdout",
     "output_type": "stream",
     "text": [
      "hi welcome to python files concept\n",
      "\n",
      "hi welcome to python files concept\n",
      "\n",
      "hi welcome to python files concept\n",
      "\n"
     ]
    }
   ],
   "source": [
    "f = open(\"python_concepts_files.txt\", \"r\")\n",
    "\n",
    "print(f.readline())\n",
    "print(f.readline())\n",
    "print(f.readline())"
   ]
  },
  {
   "cell_type": "code",
   "execution_count": null,
   "metadata": {},
   "outputs": [],
   "source": [
    "f.close()\n",
    "\n",
    "#Excel / csv ===> pandas "
   ]
  },
  {
   "cell_type": "code",
   "execution_count": 33,
   "metadata": {},
   "outputs": [],
   "source": [
    "f = open(\"python_concepts_files2.txt\", \"w\")\n",
    "\n",
    "f.write(\"python\")\n",
    "f.write(\"\\n\")\n",
    "f.write(\"\\s\")\n",
    "f.write(\"php\")\n",
    "f.close()"
   ]
  },
  {
   "cell_type": "code",
   "execution_count": 28,
   "metadata": {},
   "outputs": [],
   "source": [
    "f = open(\"python_concepts_files.txt\", \"a\")\n",
    "\n",
    "f.write(\"python\")\n",
    "f.write(\"\\n\")\n",
    "f.write(\"\\s\")\n",
    "f.write(\"php\")\n",
    "f.close()"
   ]
  },
  {
   "cell_type": "code",
   "execution_count": 31,
   "metadata": {},
   "outputs": [
    {
     "name": "stdout",
     "output_type": "stream",
     "text": [
      "python\n",
      "\\sphp\n"
     ]
    }
   ],
   "source": [
    "f = open(\"python_concepts_files.txt\")\n",
    "print(f.read())"
   ]
  },
  {
   "cell_type": "code",
   "execution_count": 37,
   "metadata": {},
   "outputs": [
    {
     "name": "stdout",
     "output_type": "stream",
     "text": [
      "True\n",
      "False\n"
     ]
    }
   ],
   "source": [
    "import os\n",
    "\n",
    "#os/sys ===> os related linux xommands\n",
    "\n",
    "#os.remove(\"python_concepts_files1.txt\")\n",
    "\n",
    "print(os.path.exists(\"python_concepts_files.txt\"))\n",
    "print(os.path.exists(\"python_concepts_files1.txt\"))"
   ]
  },
  {
   "cell_type": "code",
   "execution_count": null,
   "metadata": {},
   "outputs": [],
   "source": [
    "#os.rmdir(\"\")"
   ]
  }
 ],
 "metadata": {
  "kernelspec": {
   "display_name": "Python 3",
   "language": "python",
   "name": "python3"
  },
  "language_info": {
   "codemirror_mode": {
    "name": "ipython",
    "version": 3
   },
   "file_extension": ".py",
   "mimetype": "text/x-python",
   "name": "python",
   "nbconvert_exporter": "python",
   "pygments_lexer": "ipython3",
   "version": "3.7.6"
  }
 },
 "nbformat": 4,
 "nbformat_minor": 4
}
