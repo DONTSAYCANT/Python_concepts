{
 "cells": [
  {
   "cell_type": "code",
   "execution_count": 1,
   "metadata": {},
   "outputs": [],
   "source": [
    "#anonymous functions\n",
    "\n",
    "#lambda\n",
    "#map\n",
    "#filter\n",
    "#reduce\n",
    "\n",
    "#List/set/dictionary comprehension"
   ]
  },
  {
   "cell_type": "code",
   "execution_count": 2,
   "metadata": {},
   "outputs": [],
   "source": [
    "#one line function or function with out any name\n",
    "#reducing no of lines\n",
    "#code optimization"
   ]
  },
  {
   "cell_type": "code",
   "execution_count": 3,
   "metadata": {},
   "outputs": [
    {
     "name": "stdout",
     "output_type": "stream",
     "text": [
      "64\n"
     ]
    }
   ],
   "source": [
    "#normal function\n",
    "\n",
    "def cube(x):\n",
    "    return x ** 3\n",
    "\n",
    "print(cube(4))"
   ]
  },
  {
   "cell_type": "code",
   "execution_count": 4,
   "metadata": {},
   "outputs": [
    {
     "name": "stdout",
     "output_type": "stream",
     "text": [
      "64\n"
     ]
    }
   ],
   "source": [
    "#lambda function\n",
    "\n",
    "cube = lambda x: x**3\n",
    "print(cube(4))"
   ]
  },
  {
   "cell_type": "code",
   "execution_count": 5,
   "metadata": {},
   "outputs": [
    {
     "name": "stdout",
     "output_type": "stream",
     "text": [
      "91\n"
     ]
    }
   ],
   "source": [
    "#lambda function\n",
    "\n",
    "add_cube = lambda x,y: x**3 + y**3\n",
    "print(add_cube(4,3))"
   ]
  },
  {
   "cell_type": "code",
   "execution_count": 6,
   "metadata": {},
   "outputs": [
    {
     "name": "stdout",
     "output_type": "stream",
     "text": [
      "[64, 125, 216, 27, 343, 512, 729, 1000]\n"
     ]
    }
   ],
   "source": [
    "#map function\n",
    "\n",
    "Li1 = [4,5,6,3,7,8,9,10]\n",
    "\n",
    "Li2 = list(map(lambda x:x**3, Li1))\n",
    "\n",
    "print(Li2)"
   ]
  },
  {
   "cell_type": "code",
   "execution_count": 7,
   "metadata": {},
   "outputs": [
    {
     "name": "stdout",
     "output_type": "stream",
     "text": [
      "[4, 6, 8, 10]\n"
     ]
    }
   ],
   "source": [
    "#filter function\n",
    "\n",
    "Li1 = [4,5,6,3,7,8,9,10]\n",
    "\n",
    "Li2 = list(filter(lambda x:(x%2==0), Li1))\n",
    "\n",
    "print(Li2)"
   ]
  },
  {
   "cell_type": "code",
   "execution_count": 12,
   "metadata": {},
   "outputs": [
    {
     "name": "stdout",
     "output_type": "stream",
     "text": [
      "52\n"
     ]
    }
   ],
   "source": [
    "#reduce\n",
    "\n",
    "from functools import reduce\n",
    "Li1 = [4,5,6,3,7,8,9,10]\n",
    "val = reduce(lambda x,y:x+y, Li1)\n",
    "print(val)\n",
    "\n",
    "#[4,5,6,3,7,8,9,10]\n",
    "#[9,6,3,7,8,9,10]\n",
    "#[15,3,7,8,9,10]\n",
    "#[18,7,8,9,10]\n",
    "#[25,8,9,10]\n",
    "#[33,9,10]\n",
    "#[42,10]\n",
    "#[52]"
   ]
  },
  {
   "cell_type": "code",
   "execution_count": 14,
   "metadata": {},
   "outputs": [
    {
     "name": "stdout",
     "output_type": "stream",
     "text": [
      "[0, 1, 2, 3, 4]\n",
      "[0, 1, 2, 3, 4]\n"
     ]
    }
   ],
   "source": [
    "#List comprehension\n",
    "\n",
    "Li1 =[i for i in range(5)]\n",
    "print(Li1)\n",
    "\n",
    "Li1 = []\n",
    "for i in range(5):\n",
    "    Li1.append(i)\n",
    "print(Li1)"
   ]
  },
  {
   "cell_type": "code",
   "execution_count": 15,
   "metadata": {},
   "outputs": [
    {
     "name": "stdout",
     "output_type": "stream",
     "text": [
      "[0, 1, 4, 9, 16]\n"
     ]
    }
   ],
   "source": [
    "Li1 =[i**2 for i in range(5)]\n",
    "print(Li1)"
   ]
  },
  {
   "cell_type": "code",
   "execution_count": 16,
   "metadata": {},
   "outputs": [
    {
     "name": "stdout",
     "output_type": "stream",
     "text": [
      "[0, 4, 16]\n"
     ]
    }
   ],
   "source": [
    "Li1 =[i**2 for i in range(5) if i % 2 == 0]\n",
    "print(Li1)"
   ]
  },
  {
   "cell_type": "code",
   "execution_count": 17,
   "metadata": {},
   "outputs": [
    {
     "name": "stdout",
     "output_type": "stream",
     "text": [
      "[0, 'odd', 4, 'odd', 16]\n"
     ]
    }
   ],
   "source": [
    "Li1 =[i**2 if i % 2 == 0 else \"odd\" for i in range(5) ]\n",
    "print(Li1)"
   ]
  },
  {
   "cell_type": "code",
   "execution_count": 18,
   "metadata": {},
   "outputs": [
    {
     "name": "stdout",
     "output_type": "stream",
     "text": [
      "['even', 'odd', 'even', 'odd', 'even']\n"
     ]
    }
   ],
   "source": [
    "Li1 =[\"even\" if i % 2 == 0 else \"odd\" for i in range(5)]\n",
    "print(Li1)"
   ]
  },
  {
   "cell_type": "code",
   "execution_count": 19,
   "metadata": {},
   "outputs": [
    {
     "name": "stdout",
     "output_type": "stream",
     "text": [
      "{0: 0, 2: 4, 4: 16}\n"
     ]
    }
   ],
   "source": [
    "#dictionary comprehension\n",
    "\n",
    "Li1 ={i:i**2 for i in range(5) if i % 2 == 0}\n",
    "print(Li1)"
   ]
  },
  {
   "cell_type": "code",
   "execution_count": 20,
   "metadata": {},
   "outputs": [
    {
     "name": "stdout",
     "output_type": "stream",
     "text": [
      "{0, 16, 4}\n"
     ]
    }
   ],
   "source": [
    "#set comprehension\n",
    "Li1 ={i**2 for i in range(5) if i % 2 == 0}\n",
    "print(Li1)"
   ]
  },
  {
   "cell_type": "code",
   "execution_count": 21,
   "metadata": {},
   "outputs": [],
   "source": [
    "#https://www.geeksforgeeks.org/python-lambda-anonymous-functions-filter-map-reduce/#:~:text=In%20Python%2C%20anonymous%20function%20means,following%20syntax%3A%20lambda%20arguments%3A%20expression\n",
    "#https://www.programiz.com/python-programming/anonymous-function\n",
    "#https://www.w3schools.com/python/python_lambda.asp\n",
    "#https://www.datacamp.com/community/tutorials/python-list-comprehension?utm_source=adwords_ppc&utm_campaignid=1455363063&utm_adgroupid=65083631748&utm_device=c&utm_keyword=&utm_matchtype=b&utm_network=g&utm_adpostion=&utm_creative=332602034364&utm_targetid=aud-748597547652:dsa-486527602543&utm_loc_interest_ms=&utm_loc_physical_ms=9061994&gclid=Cj0KCQjwuJz3BRDTARIsAMg-HxWxPXbDhO7bIhXmnEwrxzxPxPUCjQYLtIhHL3OYlXu2KTMDXlPsSp4aArLhEALw_wcB"
   ]
  }
 ],
 "metadata": {
  "kernelspec": {
   "display_name": "Python 3",
   "language": "python",
   "name": "python3"
  },
  "language_info": {
   "codemirror_mode": {
    "name": "ipython",
    "version": 3
   },
   "file_extension": ".py",
   "mimetype": "text/x-python",
   "name": "python",
   "nbconvert_exporter": "python",
   "pygments_lexer": "ipython3",
   "version": "3.7.6"
  }
 },
 "nbformat": 4,
 "nbformat_minor": 4
}
