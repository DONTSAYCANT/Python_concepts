{
 "cells": [
  {
   "cell_type": "code",
   "execution_count": 1,
   "metadata": {},
   "outputs": [],
   "source": [
    "#object Oriented Programming\n",
    "\n",
    "#structural ===> noraml functions\n",
    "#oop  ===> object oreiented programming\n",
    "\n",
    "\n",
    "#object ? class?\n",
    "\n",
    "#class its a template format\n",
    "#object an instance of a class\n",
    "\n",
    "#Accessing class ===> through object\n",
    "\n",
    "#Reuse, inheritance, hierarchy"
   ]
  },
  {
   "cell_type": "code",
   "execution_count": 2,
   "metadata": {},
   "outputs": [
    {
     "name": "stdout",
     "output_type": "stream",
     "text": [
      "<class 'list'>\n"
     ]
    }
   ],
   "source": [
    "#how class and object works\n",
    "Li = [] #object\n",
    "print(type(Li))"
   ]
  },
  {
   "cell_type": "code",
   "execution_count": 3,
   "metadata": {},
   "outputs": [],
   "source": [
    "#empty class creation\n",
    "\n",
    "#class <class_name>:\n",
    "#    <pgm body>\n",
    "\n",
    "class employee:\n",
    "    pass\n",
    "\n",
    "emp1 = employee()  #object name : emp1  #class name: employee"
   ]
  },
  {
   "cell_type": "code",
   "execution_count": 5,
   "metadata": {},
   "outputs": [
    {
     "name": "stdout",
     "output_type": "stream",
     "text": [
      "python\n",
      "python\n"
     ]
    }
   ],
   "source": [
    "#class ==> attributes and methods (function available inside method)\n",
    "#class variable\n",
    "\n",
    "class employee:\n",
    "    name = \"python\"\n",
    "    \n",
    "emp1 = employee()\n",
    "print(emp1.name)\n",
    "\n",
    "emp2 = employee()\n",
    "print(emp2.name)\n"
   ]
  },
  {
   "cell_type": "code",
   "execution_count": 7,
   "metadata": {},
   "outputs": [
    {
     "name": "stdout",
     "output_type": "stream",
     "text": [
      "java\n"
     ]
    },
    {
     "ename": "AttributeError",
     "evalue": "'employee' object has no attribute 'lang'",
     "output_type": "error",
     "traceback": [
      "\u001b[1;31m---------------------------------------------------------------------------\u001b[0m",
      "\u001b[1;31mAttributeError\u001b[0m                            Traceback (most recent call last)",
      "\u001b[1;32m<ipython-input-7-7db54acd0c87>\u001b[0m in \u001b[0;36m<module>\u001b[1;34m\u001b[0m\n\u001b[0;32m     10\u001b[0m \u001b[1;33m\u001b[0m\u001b[0m\n\u001b[0;32m     11\u001b[0m \u001b[0memp2\u001b[0m \u001b[1;33m=\u001b[0m \u001b[0memployee\u001b[0m\u001b[1;33m(\u001b[0m\u001b[1;33m)\u001b[0m\u001b[1;33m\u001b[0m\u001b[1;33m\u001b[0m\u001b[0m\n\u001b[1;32m---> 12\u001b[1;33m \u001b[0mprint\u001b[0m\u001b[1;33m(\u001b[0m\u001b[0memp2\u001b[0m\u001b[1;33m.\u001b[0m\u001b[0mlang\u001b[0m\u001b[1;33m)\u001b[0m\u001b[1;33m\u001b[0m\u001b[1;33m\u001b[0m\u001b[0m\n\u001b[0m",
      "\u001b[1;31mAttributeError\u001b[0m: 'employee' object has no attribute 'lang'"
     ]
    }
   ],
   "source": [
    "#empty class variable ===> object variable\n",
    "\n",
    "class employee:\n",
    "    pass\n",
    "\n",
    "emp1 = employee()\n",
    "emp1.lang = \"java\"\n",
    "\n",
    "print(emp1.lang)\n",
    "\n",
    "emp2 = employee()\n",
    "print(emp2.lang)\n"
   ]
  },
  {
   "cell_type": "code",
   "execution_count": 8,
   "metadata": {},
   "outputs": [
    {
     "name": "stdout",
     "output_type": "stream",
     "text": [
      "java\n",
      "java\n"
     ]
    }
   ],
   "source": [
    "#empty class variable ===> class variable\n",
    "\n",
    "class employee:\n",
    "    pass\n",
    "\n",
    "emp1 = employee()\n",
    "employee.lang = \"java\"\n",
    "\n",
    "print(emp1.lang)\n",
    "\n",
    "emp2 = employee()\n",
    "print(emp2.lang)\n"
   ]
  },
  {
   "cell_type": "code",
   "execution_count": 9,
   "metadata": {},
   "outputs": [
    {
     "name": "stdout",
     "output_type": "stream",
     "text": [
      "10\n",
      "15\n",
      "15\n"
     ]
    }
   ],
   "source": [
    "class employee:\n",
    "    val = 10\n",
    "\n",
    "emp1 = employee()\n",
    "\n",
    "print(emp1.val)\n",
    "\n",
    "employee.val = 15 #class variable\n",
    "\n",
    "print(emp1.val)\n",
    "\n",
    "emp2 = employee()\n",
    "print(emp2.val)\n"
   ]
  },
  {
   "cell_type": "code",
   "execution_count": 15,
   "metadata": {},
   "outputs": [
    {
     "name": "stdout",
     "output_type": "stream",
     "text": [
      "motors\n",
      "function\n",
      "str1str2\n"
     ]
    }
   ],
   "source": [
    "#calling a method in class\n",
    "\n",
    "class employee:\n",
    "    \n",
    "    dept = \"motors\"\n",
    "    \n",
    "    def function1(self):\n",
    "        return \"function\"\n",
    "    \n",
    "    def function2(self,a,b):\n",
    "        return a + b\n",
    "    \n",
    "emp1 = employee()\n",
    "print(emp1.dept)\n",
    "print(emp1.function1())\n",
    "print(emp1.function2(\"str1\",\"str2\"))"
   ]
  },
  {
   "cell_type": "code",
   "execution_count": 16,
   "metadata": {},
   "outputs": [
    {
     "name": "stdout",
     "output_type": "stream",
     "text": [
      "motors\n",
      "motors\n",
      "function\n",
      "str1str2\n"
     ]
    }
   ],
   "source": [
    "#calling a method in class, accessing class variable\n",
    "\n",
    "class employee:\n",
    "    \n",
    "    dept = \"motors\"\n",
    "    \n",
    "    def function1(self):\n",
    "        print(self.dept)\n",
    "        return \"function\"\n",
    "    \n",
    "    def function2(self,a,b):\n",
    "        return a + b\n",
    "    \n",
    "emp1 = employee()\n",
    "print(emp1.dept)\n",
    "print(emp1.function1())\n",
    "print(emp1.function2(\"str1\",\"str2\"))"
   ]
  },
  {
   "cell_type": "code",
   "execution_count": 17,
   "metadata": {},
   "outputs": [
    {
     "name": "stdout",
     "output_type": "stream",
     "text": [
      "motors\n",
      "java\n",
      "motors\n",
      "function\n",
      "str1str2python\n"
     ]
    }
   ],
   "source": [
    "#calling a method in class, accessing class variable dynamic (passing from outside)\n",
    "#init super function it will  be automatically called during class object creation\n",
    "\n",
    "class employee:\n",
    "    \n",
    "    dept = \"motors\"\n",
    "    \n",
    "    def __init__(self, gen1, gen2):\n",
    "        self.gen1 = gen1\n",
    "        self.gen2 = gen2\n",
    "    \n",
    "    def function1(self):\n",
    "        print(self.gen1)\n",
    "        print(self.dept)\n",
    "        return \"function\"\n",
    "    \n",
    "    def function2(self,a,b):\n",
    "        return a + b + self.gen2\n",
    "    \n",
    "emp1 = employee(\"java\", \"python\")\n",
    "print(emp1.dept)\n",
    "print(emp1.function1())\n",
    "print(emp1.function2(\"str1\",\"str2\"))"
   ]
  },
  {
   "cell_type": "code",
   "execution_count": 18,
   "metadata": {},
   "outputs": [
    {
     "name": "stdout",
     "output_type": "stream",
     "text": [
      "<__main__.employee object at 0x0000027BE3D1DA88>\n",
      "function\n"
     ]
    }
   ],
   "source": [
    "#self variable\n",
    "\n",
    "class employee:\n",
    "    \n",
    "    def function1(self):\n",
    "        print(self) #specific object called # self is variable you can use some other name also but self is generic\n",
    "        return \"function\"\n",
    "    \n",
    "\n",
    "    \n",
    "emp1 = employee()\n",
    "print(emp1.function1())\n",
    "\n"
   ]
  },
  {
   "cell_type": "code",
   "execution_count": 19,
   "metadata": {},
   "outputs": [
    {
     "name": "stdout",
     "output_type": "stream",
     "text": [
      "function\n"
     ]
    }
   ],
   "source": [
    "#static method for avoiding your self\n",
    "\n",
    "class employee:\n",
    "    \n",
    "    @staticmethod\n",
    "    def function1():\n",
    "        return \"function\"\n",
    "    \n",
    "\n",
    "    \n",
    "emp1 = employee()\n",
    "print(emp1.function1())"
   ]
  },
  {
   "cell_type": "code",
   "execution_count": 24,
   "metadata": {},
   "outputs": [
    {
     "name": "stdout",
     "output_type": "stream",
     "text": [
      "class method <class '__main__.employee'>\n",
      "function\n",
      "normal <__main__.employee object at 0x0000027BE435DF48>\n",
      "str1str2\n"
     ]
    }
   ],
   "source": [
    "\n",
    "class employee:\n",
    "    \n",
    "    @classmethod\n",
    "    def function1(self):\n",
    "        print(\"class method\", self)\n",
    "        return \"function\"\n",
    "    \n",
    "    def function2(self,a,b):\n",
    "        print(\"normal\", self)\n",
    "        return a + b\n",
    "    \n",
    "emp1 = employee()\n",
    "print(emp1.function1())\n",
    "print(emp1.function2(\"str1\",\"str2\"))"
   ]
  },
  {
   "cell_type": "code",
   "execution_count": 25,
   "metadata": {},
   "outputs": [],
   "source": [
    "#add sub mul div class , static , normal\n",
    "#with init function\n",
    "#without init function"
   ]
  },
  {
   "cell_type": "code",
   "execution_count": null,
   "metadata": {},
   "outputs": [],
   "source": []
  }
 ],
 "metadata": {
  "kernelspec": {
   "display_name": "Python 3",
   "language": "python",
   "name": "python3"
  },
  "language_info": {
   "codemirror_mode": {
    "name": "ipython",
    "version": 3
   },
   "file_extension": ".py",
   "mimetype": "text/x-python",
   "name": "python",
   "nbconvert_exporter": "python",
   "pygments_lexer": "ipython3",
   "version": "3.7.6"
  }
 },
 "nbformat": 4,
 "nbformat_minor": 4
}
