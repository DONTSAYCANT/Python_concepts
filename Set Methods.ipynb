{
 "cells": [
  {
   "cell_type": "code",
   "execution_count": 3,
   "metadata": {},
   "outputs": [
    {
     "name": "stdout",
     "output_type": "stream",
     "text": [
      "set()\n",
      "<class 'set'>\n",
      "<class 'dict'>\n",
      "{1}\n",
      "<class 'set'>\n"
     ]
    }
   ],
   "source": [
    "#Set creation\n",
    "\n",
    "#a = []\n",
    "#a = ()\n",
    "\n",
    "#using function\n",
    "a = set()\n",
    "print(a)\n",
    "print(type(a))\n",
    "\n",
    "#empty curly braces ==> dict\n",
    "a = {}\n",
    "print(type(a))\n",
    "\n",
    "a = {1}\n",
    "print(a)\n",
    "print(type(a))"
   ]
  },
  {
   "cell_type": "code",
   "execution_count": 6,
   "metadata": {},
   "outputs": [
    {
     "ename": "TypeError",
     "evalue": "'set' object is not subscriptable",
     "output_type": "error",
     "traceback": [
      "\u001b[1;31m---------------------------------------------------------------------------\u001b[0m",
      "\u001b[1;31mTypeError\u001b[0m                                 Traceback (most recent call last)",
      "\u001b[1;32m<ipython-input-6-863f4b7a4320>\u001b[0m in \u001b[0;36m<module>\u001b[1;34m\u001b[0m\n\u001b[0;32m      4\u001b[0m \u001b[1;33m\u001b[0m\u001b[0m\n\u001b[0;32m      5\u001b[0m \u001b[1;31m#print(a[1])\u001b[0m\u001b[1;33m\u001b[0m\u001b[1;33m\u001b[0m\u001b[1;33m\u001b[0m\u001b[0m\n\u001b[1;32m----> 6\u001b[1;33m \u001b[0mprint\u001b[0m\u001b[1;33m(\u001b[0m\u001b[0ma\u001b[0m\u001b[1;33m[\u001b[0m\u001b[1;36m0\u001b[0m\u001b[1;33m]\u001b[0m\u001b[1;33m)\u001b[0m\u001b[1;33m\u001b[0m\u001b[1;33m\u001b[0m\u001b[0m\n\u001b[0m\u001b[0;32m      7\u001b[0m \u001b[1;33m\u001b[0m\u001b[0m\n",
      "\u001b[1;31mTypeError\u001b[0m: 'set' object is not subscriptable"
     ]
    }
   ],
   "source": [
    "#Indexing  ===>  no indexing or ordering\n",
    "\n",
    "a = {1,2,3,4,5}\n",
    "\n",
    "print(a[1])\n",
    "print(a[0])\n",
    "\n"
   ]
  },
  {
   "cell_type": "code",
   "execution_count": 7,
   "metadata": {},
   "outputs": [
    {
     "name": "stdout",
     "output_type": "stream",
     "text": [
      "{1, 2, 3, 4, 'python', 'PYTHON'}\n"
     ]
    }
   ],
   "source": [
    "#Duplicates  ===> unique elements are allowed\n",
    "\n",
    "a = {1,2,3,4,1,2,3,4,\"python\",\"python\",\"PYTHON\",1,1,1,2}\n",
    "print(a)"
   ]
  },
  {
   "cell_type": "code",
   "execution_count": 15,
   "metadata": {},
   "outputs": [
    {
     "name": "stdout",
     "output_type": "stream",
     "text": [
      "{1, 2, 3, 4, 5}\n",
      "{1, 2, 3, 4, 5, 7}\n"
     ]
    }
   ],
   "source": [
    "#Mutable\n",
    "#add\n",
    "\n",
    "a = {1,2,3,4,5}\n",
    "a.add(4) #Available elements will replace\n",
    "\n",
    "print(a)\n",
    "\n",
    "a.add(7) #Unavailable element will add into set\n",
    "print(a)"
   ]
  },
  {
   "cell_type": "code",
   "execution_count": 17,
   "metadata": {},
   "outputs": [
    {
     "name": "stdout",
     "output_type": "stream",
     "text": [
      "{1, 2, 3, 6, 7, 8, 9}\n"
     ]
    },
    {
     "ename": "TypeError",
     "evalue": "unsupported operand type(s) for +: 'set' and 'set'",
     "output_type": "error",
     "traceback": [
      "\u001b[1;31m---------------------------------------------------------------------------\u001b[0m",
      "\u001b[1;31mTypeError\u001b[0m                                 Traceback (most recent call last)",
      "\u001b[1;32m<ipython-input-17-390a8347307c>\u001b[0m in \u001b[0;36m<module>\u001b[1;34m\u001b[0m\n\u001b[0;32m     10\u001b[0m \u001b[0md\u001b[0m \u001b[1;33m=\u001b[0m \u001b[1;33m{\u001b[0m\u001b[1;36m9\u001b[0m\u001b[1;33m,\u001b[0m\u001b[1;36m2\u001b[0m\u001b[1;33m,\u001b[0m\u001b[1;36m3\u001b[0m\u001b[1;33m}\u001b[0m\u001b[1;33m\u001b[0m\u001b[1;33m\u001b[0m\u001b[0m\n\u001b[0;32m     11\u001b[0m \u001b[0me\u001b[0m \u001b[1;33m=\u001b[0m \u001b[1;33m{\u001b[0m\u001b[1;36m6\u001b[0m\u001b[1;33m,\u001b[0m\u001b[1;36m7\u001b[0m\u001b[1;33m,\u001b[0m\u001b[1;36m8\u001b[0m\u001b[1;33m}\u001b[0m\u001b[1;33m\u001b[0m\u001b[1;33m\u001b[0m\u001b[0m\n\u001b[1;32m---> 12\u001b[1;33m \u001b[0mf\u001b[0m \u001b[1;33m=\u001b[0m \u001b[0md\u001b[0m \u001b[1;33m+\u001b[0m \u001b[0me\u001b[0m\u001b[1;33m\u001b[0m\u001b[1;33m\u001b[0m\u001b[0m\n\u001b[0m\u001b[0;32m     13\u001b[0m \u001b[0mprint\u001b[0m\u001b[1;33m(\u001b[0m\u001b[0mf\u001b[0m\u001b[1;33m)\u001b[0m\u001b[1;33m\u001b[0m\u001b[1;33m\u001b[0m\u001b[0m\n",
      "\u001b[1;31mTypeError\u001b[0m: unsupported operand type(s) for +: 'set' and 'set'"
     ]
    }
   ],
   "source": [
    "#Update\n",
    "\n",
    "a = {6,7,8,9}\n",
    "b = {1,2,3}\n",
    "\n",
    "a.update(b)\n",
    "print(a)\n",
    "\n",
    "#Concatenation is not possible in set and dictionary\n",
    "d = {9,2,3}\n",
    "e = {6,7,8}\n",
    "f = d + e \n",
    "print(f)"
   ]
  },
  {
   "cell_type": "code",
   "execution_count": 21,
   "metadata": {},
   "outputs": [
    {
     "name": "stdout",
     "output_type": "stream",
     "text": [
      "{2, 3, 4, 5}\n",
      "{1, 3, 4, 5}\n",
      "{2, 3, 4, 5}\n",
      "{1, 2, 3, 4, 5}\n"
     ]
    }
   ],
   "source": [
    "#pop #remove #Discard\n",
    "\n",
    "a = {1,2,3,4,5}\n",
    "a.pop() #removes random element from set\n",
    "print(a)\n",
    "\n",
    "a = {1,2,3,4,5}\n",
    "a.remove(2) #Removes available element from set\n",
    "print(a)\n",
    "\n",
    "#a = {1,2,3,4,5}\n",
    "#a.remove(7) #throws error for unavailable element\n",
    "#print(a)\n",
    "\n",
    "a = {1,2,3,4,5}\n",
    "a.discard(1) #Removes available element from set otherwise it will not throws exception\n",
    "print(a)\n",
    "\n",
    "a = {1,2,3,4,5}\n",
    "a.discard(10)\n",
    "print(a)"
   ]
  },
  {
   "cell_type": "code",
   "execution_count": 27,
   "metadata": {},
   "outputs": [
    {
     "name": "stdout",
     "output_type": "stream",
     "text": [
      "{1, 2, 3, 4}\n",
      "2585195444264\n",
      "2585195446056\n",
      "{1, 2, 3, 4}\n",
      "2585195444936\n",
      "2585195444936\n"
     ]
    }
   ],
   "source": [
    "#copy \n",
    "#deep copy\n",
    "a = {1,2,3,4}\n",
    "b = a.copy()\n",
    "print(b)\n",
    "\n",
    "print(id(a))\n",
    "print(id(b))\n",
    "\n",
    "#shallow copy\n",
    "a = {1,2,3,4}\n",
    "b = a\n",
    "print(b)\n",
    "\n",
    "\n",
    "print(id(a))\n",
    "print(id(b))"
   ]
  },
  {
   "cell_type": "code",
   "execution_count": 23,
   "metadata": {},
   "outputs": [
    {
     "name": "stdout",
     "output_type": "stream",
     "text": [
      "set()\n",
      "[]\n"
     ]
    }
   ],
   "source": [
    "#clear #Removes all element from set\n",
    "\n",
    "a = {1,2,3,4,5}\n",
    "a.clear()\n",
    "print(a)\n",
    "\n",
    "a = [1,2,3,4,5]\n",
    "a.clear()\n",
    "print(a)"
   ]
  },
  {
   "cell_type": "code",
   "execution_count": 30,
   "metadata": {},
   "outputs": [
    {
     "name": "stdout",
     "output_type": "stream",
     "text": [
      "{1, 2, 3, 4, 5, 6, 7, 8, 9}\n"
     ]
    }
   ],
   "source": [
    "#Union\n",
    "\n",
    "a = {1,2,3,4,5,6}\n",
    "b = {4,5,6,7,8,9,1}\n",
    "c = a.union(b)\n",
    "print(c)"
   ]
  },
  {
   "cell_type": "code",
   "execution_count": 32,
   "metadata": {},
   "outputs": [
    {
     "name": "stdout",
     "output_type": "stream",
     "text": [
      "{1, 4, 5, 6}\n",
      "{1, 4, 5, 6}\n"
     ]
    }
   ],
   "source": [
    "#Intersection & Intersection update\n",
    "\n",
    "a = {1,2,3,4,5,6}\n",
    "b = {4,5,6,7,8,9,1}\n",
    "c = a.intersection(b)\n",
    "print(c)\n",
    "\n",
    "\n",
    "a = {1,2,3,4,5,6}\n",
    "b = {4,5,6,7,8,9,1}\n",
    "a.intersection_update(b) #Updating in aready available set  (similar to list extend)\n",
    "print(a)"
   ]
  },
  {
   "cell_type": "code",
   "execution_count": 33,
   "metadata": {},
   "outputs": [
    {
     "name": "stdout",
     "output_type": "stream",
     "text": [
      "{2, 3}\n",
      "{2, 3}\n"
     ]
    }
   ],
   "source": [
    "#Difference & update\n",
    "\n",
    "a = {1,2,3,4,5,6}  #A-B\n",
    "b = {4,5,6,7,8,9,1}\n",
    "c = a.difference(b)\n",
    "print(c)\n",
    "\n",
    "\n",
    "a = {1,2,3,4,5,6}\n",
    "b = {4,5,6,7,8,9,1}\n",
    "a.difference_update(b) \n",
    "print(a)"
   ]
  },
  {
   "cell_type": "code",
   "execution_count": 34,
   "metadata": {},
   "outputs": [
    {
     "name": "stdout",
     "output_type": "stream",
     "text": [
      "{2, 3, 7, 8, 9}\n",
      "{2, 3, 7, 8, 9}\n"
     ]
    }
   ],
   "source": [
    "#Symmetric difference & update\n",
    "\n",
    "\n",
    "a = {1,2,3,4,5,6}  #(A U B) - (A intersection B)\n",
    "b = {4,5,6,7,8,9,1}\n",
    "c = a.symmetric_difference(b)\n",
    "print(c)\n",
    "\n",
    "\n",
    "a = {1,2,3,4,5,6}\n",
    "b = {4,5,6,7,8,9,1}\n",
    "a.symmetric_difference_update(b) \n",
    "print(a)"
   ]
  },
  {
   "cell_type": "code",
   "execution_count": 39,
   "metadata": {},
   "outputs": [
    {
     "name": "stdout",
     "output_type": "stream",
     "text": [
      "False\n",
      "True\n",
      "False\n"
     ]
    }
   ],
   "source": [
    "#Isdisjoint  #For checking intersection between sets\n",
    "\n",
    "a = {1,2,3,4,5}\n",
    "b = {4,5,6,7,8}\n",
    "c = {6,7,8,9,0}\n",
    "\n",
    "print(a.isdisjoint(b)) #Intersection available\n",
    "print(a.isdisjoint(c)) #Intersection not available\n",
    "print(b.isdisjoint(c))"
   ]
  },
  {
   "cell_type": "code",
   "execution_count": 37,
   "metadata": {},
   "outputs": [
    {
     "name": "stdout",
     "output_type": "stream",
     "text": [
      "True\n",
      "False\n",
      "False\n",
      "False\n",
      "False\n",
      "False\n",
      "False\n",
      "False\n",
      "True\n",
      "False\n",
      "False\n",
      "False\n"
     ]
    }
   ],
   "source": [
    "#Superset , subset\n",
    "\n",
    "a = {1,2,3,4,5,6}\n",
    "b = {2,3,4,5}\n",
    "c = {1,2,3,0,8}\n",
    "\n",
    "print(a.issuperset(b))\n",
    "print(a.issuperset(c))\n",
    "\n",
    "print(b.issuperset(a))\n",
    "print(c.issuperset(a))\n",
    "print(c.issuperset(b))\n",
    "print(b.issuperset(c))\n",
    "\n",
    "print(a.issubset(b))\n",
    "print(a.issubset(c))\n",
    "\n",
    "print(b.issubset(a))\n",
    "print(c.issubset(a))\n",
    "print(c.issubset(b))\n",
    "print(b.issubset(c))"
   ]
  },
  {
   "cell_type": "code",
   "execution_count": 12,
   "metadata": {},
   "outputs": [
    {
     "name": "stdout",
     "output_type": "stream",
     "text": [
      "{1, 2, 3, 4, 5, 6}\n",
      "<class 'set'>\n",
      "[1, 2, 3, 4, 5, 6]\n",
      "<class 'list'>\n",
      "[1, 2, 3, 4]\n",
      "<class 'list'>\n"
     ]
    }
   ],
   "source": [
    "#List to set\n",
    "\n",
    "a = [1,2,3,4,5,1,2,3,4,5,6]\n",
    "\n",
    "b = set(a)\n",
    "\n",
    "print(b)\n",
    "print(type(b))\n",
    "\n",
    "a = list(set(a)) #For removing duplicates in list apply set method  #\n",
    "\n",
    "print(a)\n",
    "print(type(a))\n",
    "\n",
    "a = {1,2,3,4}\n",
    "\n",
    "b = list(a) #List method\n",
    "\n",
    "print(b)\n",
    "print(type(b))"
   ]
  },
  {
   "cell_type": "code",
   "execution_count": null,
   "metadata": {},
   "outputs": [],
   "source": [
    "#Reference:\n",
    "\n",
    "#https://www.programiz.com/python-programming/methods/set\n",
    "#https://www.w3schools.com/python/python_sets.asp"
   ]
  }
 ],
 "metadata": {
  "kernelspec": {
   "display_name": "Python 3",
   "language": "python",
   "name": "python3"
  },
  "language_info": {
   "codemirror_mode": {
    "name": "ipython",
    "version": 3
   },
   "file_extension": ".py",
   "mimetype": "text/x-python",
   "name": "python",
   "nbconvert_exporter": "python",
   "pygments_lexer": "ipython3",
   "version": "3.7.6"
  }
 },
 "nbformat": 4,
 "nbformat_minor": 4
}
