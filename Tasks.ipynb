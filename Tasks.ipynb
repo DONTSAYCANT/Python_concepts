{
 "cells": [
  {
   "cell_type": "markdown",
   "metadata": {},
   "source": [
    "## String methods"
   ]
  },
  {
   "cell_type": "code",
   "execution_count": 1,
   "metadata": {},
   "outputs": [],
   "source": [
    "#program 1. Get two values (input) ===> number, string\n",
    "\n",
    "#7 , \"python\" ===> pythonpythonpythonpythonpythonpythonpython777777\n",
    "\n",
    "#3 , \"perl\"   ===> perlperlperl3333\n",
    "\n",
    "#program 2. Get two values (input) ===> string, number\n",
    "\n",
    "#computer_science, 3 ===> mocputer_scieecn\n",
    "\n",
    "#biology , 2  ===> iboloyg\n",
    "\n",
    "#capital programs strings\n",
    "\n",
    "#program 3:\n",
    "\n",
    "#get two strings from user  computer science  ==> input \n",
    "\n",
    "#step 1 ==> comPuter  sciEnce\n",
    "\n",
    "#step 2 ===> concatenate both ==> comPutersciEnce\n",
    "\n",
    "#step 3 ===> comPuteRsciEnce\n",
    "\n",
    "#program 4:\n",
    "\n",
    "#[103,104,1,2,3,4,5,100,101,102]  ==> hard coded \n",
    "\n",
    "#Task 1 ===> first ele + middle ele + last ele  / 3\n",
    "\n",
    "#Task 2 ===> one number ===> index  ==> index\n",
    "\n",
    "#index ==3  ===> [2,3,4,5,100,101,102, 103,104,1]\n",
    "\n",
    "\n",
    "#Program 5:\n",
    "\n",
    "#{1: 100, 2:101, 3: 103, 4:104, 5:105}\n",
    "\n",
    "#Task1 ===> sum all values / sum of all keys \n",
    "\n",
    "#Task2 ===> Max(values) / Min(key)"
   ]
  },
  {
   "cell_type": "markdown",
   "metadata": {},
   "source": [
    "## DataStructures"
   ]
  },
  {
   "cell_type": "code",
   "execution_count": null,
   "metadata": {},
   "outputs": [],
   "source": [
    "#Task1: List\n",
    "\n",
    "#Create an empty list\n",
    "#Concatenate with [5,6,7,8]\n",
    "#add 8,9,1,5,6,7,8,1 elements to that list\n",
    "#Find frequency of 8 (count)\n",
    "#find the mean of the list\n",
    "#find sum (List) + min + Max \n",
    "#Find median of the list\n",
    "#remove duplicates from list and give output in the format of tuple\n",
    "\n",
    "#Task2: Sets\n",
    "\n",
    "#Create two empty sets\n",
    "#update set1 with 7,8,9,1,2,3,4,5,0\n",
    "#update set2 with 4,5,6,0\n",
    "#check whether set2 is subset of set1 or no ?\n",
    "#check whether both have common elements are no ?\n",
    "#remove 8 from set 1 and set 2 ==> find the inferences\n",
    "#discard 0 from set1 and set2 \n",
    "#find collection of both sets ===> set1 and set2\n",
    "\n",
    "#Task3: Tuple\n",
    "\n",
    "#Create two tuples (1,4,5,6,7,8) (5,6,7,8,9)\n",
    "#Find the common elements between two tuples\n",
    "#Concatenate both tuples and remove duplicates from tuple\n",
    "#Find the index value of 9 (after concatenation)\n",
    "#multiply above elements 3 times\n",
    "\n",
    "#Task4: Dictionary:\n",
    "\n",
    "#create a dictionary\n",
    "#{1:[\"english\",\"maths\",\"science\"], 2:[10,20,30], 3:[\"bio-botany\",\"bio-zoology\",\"Algebra\"]}\n",
    "#Extract \"bobtn\" from above dictionary\n",
    "#Extract \"arbeg\" from above dictionary\n",
    "#print all keys in dictionary and convert it into tuple\n",
    "#Find the average of all numbers available under key \"2\""
   ]
  },
  {
   "cell_type": "markdown",
   "metadata": {},
   "source": [
    "#median calculation:\n",
    "\n",
    "[4,5,6,1,2,3,5,6,7] \n",
    "\n",
    "1 2 3 4 5 5 6 6 7 ===> 5\n",
    "\n",
    "[4,5,6,1,2,3,5,6]\n",
    "\n",
    "1 2 3 4 5 5 6 6 ===> 4.5\n",
    "\n",
    "1. sort ()\n",
    "2. odd "
   ]
  },
  {
   "cell_type": "code",
   "execution_count": 2,
   "metadata": {},
   "outputs": [
    {
     "name": "stdout",
     "output_type": "stream",
     "text": [
      "(1, 2, 3, 1, 2, 3, 1, 2, 3)\n"
     ]
    }
   ],
   "source": [
    "a = (1,2,3)\n",
    "print(a*3)"
   ]
  },
  {
   "cell_type": "markdown",
   "metadata": {},
   "source": [
    "## Conditional Statements"
   ]
  },
  {
   "cell_type": "code",
   "execution_count": null,
   "metadata": {},
   "outputs": [],
   "source": [
    "#program1\n",
    "#Get one string from user\n",
    "#extract middle letter of the string\n",
    "#check whether middle letter is vowel or no\n",
    "\n",
    "#program2\n",
    "#Get one string from user\n",
    "#Find the middle letter\n",
    "#find ascii value for the middle letter\n",
    "#check whether ascii value is odd or even\n",
    "\n",
    "#program3:\n",
    "#get one string from user\n",
    "#check whether length of the string is odd or even\n",
    "\n",
    "#program4:\n",
    "#Get one string from user\n",
    "#check whether string is palindrome or no\n",
    "\n",
    "#program5:\n",
    "#Get one mark from student\n",
    "#mark 0 to 100 otherwise invalid mark\n",
    "\n",
    "#50 + PASS otherwise FAIL\n",
    "#90 to 100 ===> A  ==> Even + Odd -\n",
    "#80 to 89 ===> B\n",
    "#70 to 79 ===> C\n",
    "#60 to 69 ===> D\n",
    "#50 to 59 ===> E\n",
    "\n",
    "#0 to 49 ===> FAIL\n",
    "\n",
    "\n",
    "#93 ===> A-\n",
    "#99 ===> A-\n",
    "#88 ====> B+\n",
    "\n",
    "#78\n",
    "\n",
    "#VALID MARK\n",
    "#PASS MARK\n",
    "#B+\n",
    "\n",
    "#program6\n",
    "\n",
    "#hackerrank Write a function\n",
    "\n",
    "#program7\n",
    "#hackerrank Python If-Else\n",
    "\n",
    "#program8 \n",
    "\n",
    "#two strings from user\n",
    "#string 1: python  ==> first + middle + last \n",
    "#string 2: ptn\n",
    "\n",
    "#valid otherwise invalid\n",
    "\n",
    "#program9:\n",
    "\n",
    "#two strings from user\n",
    "\n",
    "#mathematics ===> 4 vowels\n",
    "#science ==> 3 vowels\n",
    "\n",
    "#both are equal count or not equal\n",
    "\n",
    "#program10\n",
    "\n",
    "#get one integer from user\n",
    "#armstrong or no (without using loops)\n",
    "\n",
    "#153 ===> 1^3 + 5^3 + 3^3\n",
    "#370 ===> 3^3 + 7^3 + 0^3\n",
    "#371 ====> 3^3 + 7^3 + 1^3\n",
    "\n"
   ]
  },
  {
   "cell_type": "markdown",
   "metadata": {},
   "source": [
    "## Looping statments"
   ]
  },
  {
   "cell_type": "code",
   "execution_count": null,
   "metadata": {},
   "outputs": [],
   "source": [
    "#program1:\n",
    "    \n",
    "#Get one dynamic list from user\n",
    "\n",
    "#10 [0,6,5,-3,4,5,3,-2,4,0]\n",
    "\n",
    "#count ==> no of zeros, no of positive values, no of negative values, no of odd numbers, number of even numbers\n",
    "#print the elements"
   ]
  }
 ],
 "metadata": {
  "kernelspec": {
   "display_name": "Python 3",
   "language": "python",
   "name": "python3"
  },
  "language_info": {
   "codemirror_mode": {
    "name": "ipython",
    "version": 3
   },
   "file_extension": ".py",
   "mimetype": "text/x-python",
   "name": "python",
   "nbconvert_exporter": "python",
   "pygments_lexer": "ipython3",
   "version": "3.7.6"
  }
 },
 "nbformat": 4,
 "nbformat_minor": 4
}
