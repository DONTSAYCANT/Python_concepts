{
 "cells": [
  {
   "cell_type": "markdown",
   "metadata": {},
   "source": [
    "## String methods"
   ]
  },
  {
   "cell_type": "code",
   "execution_count": 1,
   "metadata": {},
   "outputs": [],
   "source": [
    "#program 1. Get two values (input) ===> number, string\n",
    "\n",
    "#7 , \"python\" ===> pythonpythonpythonpythonpythonpythonpython777777\n",
    "\n",
    "#3 , \"perl\"   ===> perlperlperl3333\n",
    "\n",
    "#program 2. Get two values (input) ===> string, number\n",
    "\n",
    "#computer_science, 3 ===> mocputer_scieecn\n",
    "\n",
    "#biology , 2  ===> iboloyg\n",
    "\n",
    "#capital programs strings\n",
    "\n",
    "#program 3:\n",
    "\n",
    "#get two strings from user  computer science  ==> input \n",
    "\n",
    "#step 1 ==> comPuter  sciEnce\n",
    "\n",
    "#step 2 ===> concatenate both ==> comPutersciEnce\n",
    "\n",
    "#step 3 ===> comPuteRsciEnce\n",
    "\n",
    "#program 4:\n",
    "\n",
    "#[103,104,1,2,3,4,5,100,101,102]  ==> hard coded \n",
    "\n",
    "#Task 1 ===> first ele + middle ele + last ele  / 3\n",
    "\n",
    "#Task 2 ===> one number ===> index  ==> index\n",
    "\n",
    "#index ==3  ===> [2,3,4,5,100,101,102, 103,104,1]\n",
    "\n",
    "\n",
    "#Program 5:\n",
    "\n",
    "#{1: 100, 2:101, 3: 103, 4:104, 5:105}\n",
    "\n",
    "#Task1 ===> sum all values / sum of all keys \n",
    "\n",
    "#Task2 ===> Max(values) / Min(key)"
   ]
  },
  {
   "cell_type": "markdown",
   "metadata": {},
   "source": [
    "## DataStructures"
   ]
  },
  {
   "cell_type": "code",
   "execution_count": null,
   "metadata": {},
   "outputs": [],
   "source": [
    "#Task1: List\n",
    "\n",
    "#Create an empty list\n",
    "#Concatenate with [5,6,7,8]\n",
    "#add 8,9,1,5,6,7,8,1 elements to that list\n",
    "#Find frequency of 8 (count)\n",
    "#find the mean of the list\n",
    "#find sum (List) + min + Max \n",
    "#Find median of the list\n",
    "#remove duplicates from list and give output in the format of tuple\n",
    "\n",
    "#Task2: Sets\n",
    "\n",
    "#Create two empty sets\n",
    "#update set1 with 7,8,9,1,2,3,4,5,0\n",
    "#update set2 with 4,5,6,0\n",
    "#check whether set2 is subset of set1 or no ?\n",
    "#check whether both have common elements are no ?\n",
    "#remove 8 from set 1 and set 2 ==> find the inferences\n",
    "#discard 0 from set1 and set2 \n",
    "#find collection of both sets ===> set1 and set2\n",
    "\n",
    "#Task3: Tuple\n",
    "\n",
    "#Create two tuples (1,4,5,6,7,8) (5,6,7,8,9)\n",
    "#Find the common elements between two tuples\n",
    "#Concatenate both tuples and remove duplicates from tuple\n",
    "#Find the index value of 9 (after concatenation)\n",
    "#multiply above elements 3 times\n",
    "\n",
    "#Task4: Dictionary:\n",
    "\n",
    "#create a dictionary\n",
    "#{1:[\"english\",\"maths\",\"science\"], 2:[10,20,30], 3:[\"bio-botany\",\"bio-zoology\",\"Algebra\"]}\n",
    "#Extract \"bobtn\" from above dictionary\n",
    "#Extract \"arbeg\" from above dictionary\n",
    "#print all keys in dictionary and convert it into tuple\n",
    "#Find the average of all numbers available under key \"2\""
   ]
  },
  {
   "cell_type": "markdown",
   "metadata": {},
   "source": [
    "#median calculation:\n",
    "\n",
    "[4,5,6,1,2,3,5,6,7] \n",
    "\n",
    "1 2 3 4 5 5 6 6 7 ===> 5\n",
    "\n",
    "[4,5,6,1,2,3,5,6]\n",
    "\n",
    "1 2 3 4 5 5 6 6 ===> 4.5\n",
    "\n",
    "1. sort ()\n",
    "2. odd "
   ]
  },
  {
   "cell_type": "code",
   "execution_count": 2,
   "metadata": {},
   "outputs": [
    {
     "name": "stdout",
     "output_type": "stream",
     "text": [
      "(1, 2, 3, 1, 2, 3, 1, 2, 3)\n"
     ]
    }
   ],
   "source": [
    "a = (1,2,3)\n",
    "print(a*3)"
   ]
  },
  {
   "cell_type": "code",
   "execution_count": null,
   "metadata": {},
   "outputs": [],
   "source": []
  }
 ],
 "metadata": {
  "kernelspec": {
   "display_name": "Python 3",
   "language": "python",
   "name": "python3"
  },
  "language_info": {
   "codemirror_mode": {
    "name": "ipython",
    "version": 3
   },
   "file_extension": ".py",
   "mimetype": "text/x-python",
   "name": "python",
   "nbconvert_exporter": "python",
   "pygments_lexer": "ipython3",
   "version": "3.7.6"
  }
 },
 "nbformat": 4,
 "nbformat_minor": 4
}
